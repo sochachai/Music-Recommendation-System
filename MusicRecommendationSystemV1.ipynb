{
  "nbformat": 4,
  "nbformat_minor": 0,
  "metadata": {
    "colab": {
      "name": "Untitled6.ipynb",
      "version": "0.3.2",
      "provenance": [],
      "collapsed_sections": []
    },
    "kernelspec": {
      "name": "python3",
      "display_name": "Python 3"
    },
    "accelerator": "TPU"
  },
  "cells": [
    {
      "metadata": {
        "id": "NE5LV7yXVUoO",
        "colab_type": "text"
      },
      "cell_type": "markdown",
      "source": [
        "# Music Recommendation System\n",
        "$$\n",
        "\\renewcommand{\\like}{{\\cal L}}\n",
        "\\renewcommand{\\loglike}{{\\ell}}\n",
        "\\renewcommand{\\err}{{\\cal E}}\n",
        "\\renewcommand{\\dat}{{\\cal D}}\n",
        "\\renewcommand{\\hyp}{{\\cal H}}\n",
        "\\renewcommand{\\Ex}[2]{E_{#1}[#2]}\n",
        "\\renewcommand{\\x}{{\\mathbf x}}\n",
        "\\renewcommand{\\v}[1]{{\\mathbf #1}}\n",
        "$$"
      ]
    },
    {
      "metadata": {
        "id": "X-AVqQCVVhHB",
        "colab_type": "text"
      },
      "cell_type": "markdown",
      "source": [
        "In this project, we build a music recommendation system based on the listening records of users and users' interactions. The goal is to provide each user a ranked list of recommended artists that he/she might like. Two main methods for the recommendation system are:\n",
        "<ul>\n",
        "  <li> <b>Collaborative Filtering:</b>  Recommend the favorite artists of those who are friends of the user. This assumes that users who have connected on the music platform have the same taste of music. No advanced algorithms will be used. Accuracy will be tested on how similiar the recommended artists list is to the list of artists that a user has actually listened to.\n",
        "  <li> <b>Content Based:</b>  Extract information on a user's favorite artists to recommend similar artists to the user. We will separate users' favorite artists into a training set and a test set. The algorithm to be used is matrix decomposition and Stochastic Gradient Descent(SGD). Accuracy will be tested on if the recommmended artists list match the list in the test set for each user.\n",
        "</ul>\n",
        "</div>\n",
        "<br/>\n",
        "<div class=\"span5 alert alert-success\">\n",
        "\n",
        "</div>\n"
      ]
    },
    {
      "metadata": {
        "id": "JGi9-oL4Vogl",
        "colab_type": "code",
        "outputId": "a6582c78-3c00-4907-c34b-0649cac63ef3",
        "colab": {
          "base_uri": "https://localhost:8080/",
          "height": 122
        }
      },
      "cell_type": "code",
      "source": [
        "from google.colab import drive \n",
        "drive.mount('/content/gdrive')"
      ],
      "execution_count": 1,
      "outputs": [
        {
          "output_type": "stream",
          "text": [
            "Go to this URL in a browser: https://accounts.google.com/o/oauth2/auth?client_id=947318989803-6bn6qk8qdgf4n4g3pfee6491hc0brc4i.apps.googleusercontent.com&redirect_uri=urn%3Aietf%3Awg%3Aoauth%3A2.0%3Aoob&scope=email%20https%3A%2F%2Fwww.googleapis.com%2Fauth%2Fdocs.test%20https%3A%2F%2Fwww.googleapis.com%2Fauth%2Fdrive%20https%3A%2F%2Fwww.googleapis.com%2Fauth%2Fdrive.photos.readonly%20https%3A%2F%2Fwww.googleapis.com%2Fauth%2Fpeopleapi.readonly&response_type=code\n",
            "\n",
            "Enter your authorization code:\n",
            "··········\n",
            "Mounted at /content/gdrive\n"
          ],
          "name": "stdout"
        }
      ]
    },
    {
      "metadata": {
        "id": "TQ-rGZ7CVnQ7",
        "colab_type": "text"
      },
      "cell_type": "markdown",
      "source": [
        "## Data Preprocessing"
      ]
    },
    {
      "metadata": {
        "id": "3GGbMbgNWPJk",
        "colab_type": "text"
      },
      "cell_type": "markdown",
      "source": [
        "Import relevant modules and read datasets. The rates are generated from the artists' played frequencies. We devide the rates by 10000 so that huge numeric numbers will not appear when  matrix operations are performed."
      ]
    },
    {
      "metadata": {
        "id": "EY1gdBSeWUsS",
        "colab_type": "code",
        "outputId": "ab444333-16b1-4c4a-d3a7-02b41e87741f",
        "colab": {
          "base_uri": "https://localhost:8080/",
          "height": 204
        }
      },
      "cell_type": "code",
      "source": [
        "import pandas as pd\n",
        "import numpy as np\n",
        "import matplotlib.pyplot as plt\n",
        "import seaborn as sns\n",
        "import time\n",
        "user_artists = pd.read_table('gdrive/My Drive/Project2/hetrec2011-lastfm-2k/user_artists.dat', sep='\\t', header=None, skiprows=1)\n",
        "user_artists = user_artists.rename(index = int, columns={0: \"UserID\", 1: \"ArtistID\", 2: \"Rate\"})\n",
        "user_artists.Rate = user_artists.Rate/10000\n",
        "user_artists.head()"
      ],
      "execution_count": 2,
      "outputs": [
        {
          "output_type": "execute_result",
          "data": {
            "text/html": [
              "<div>\n",
              "<style scoped>\n",
              "    .dataframe tbody tr th:only-of-type {\n",
              "        vertical-align: middle;\n",
              "    }\n",
              "\n",
              "    .dataframe tbody tr th {\n",
              "        vertical-align: top;\n",
              "    }\n",
              "\n",
              "    .dataframe thead th {\n",
              "        text-align: right;\n",
              "    }\n",
              "</style>\n",
              "<table border=\"1\" class=\"dataframe\">\n",
              "  <thead>\n",
              "    <tr style=\"text-align: right;\">\n",
              "      <th></th>\n",
              "      <th>UserID</th>\n",
              "      <th>ArtistID</th>\n",
              "      <th>Rate</th>\n",
              "    </tr>\n",
              "  </thead>\n",
              "  <tbody>\n",
              "    <tr>\n",
              "      <th>0</th>\n",
              "      <td>2</td>\n",
              "      <td>51</td>\n",
              "      <td>1.3883</td>\n",
              "    </tr>\n",
              "    <tr>\n",
              "      <th>1</th>\n",
              "      <td>2</td>\n",
              "      <td>52</td>\n",
              "      <td>1.1690</td>\n",
              "    </tr>\n",
              "    <tr>\n",
              "      <th>2</th>\n",
              "      <td>2</td>\n",
              "      <td>53</td>\n",
              "      <td>1.1351</td>\n",
              "    </tr>\n",
              "    <tr>\n",
              "      <th>3</th>\n",
              "      <td>2</td>\n",
              "      <td>54</td>\n",
              "      <td>1.0300</td>\n",
              "    </tr>\n",
              "    <tr>\n",
              "      <th>4</th>\n",
              "      <td>2</td>\n",
              "      <td>55</td>\n",
              "      <td>0.8983</td>\n",
              "    </tr>\n",
              "  </tbody>\n",
              "</table>\n",
              "</div>"
            ],
            "text/plain": [
              "   UserID  ArtistID    Rate\n",
              "0       2        51  1.3883\n",
              "1       2        52  1.1690\n",
              "2       2        53  1.1351\n",
              "3       2        54  1.0300\n",
              "4       2        55  0.8983"
            ]
          },
          "metadata": {
            "tags": []
          },
          "execution_count": 2
        }
      ]
    },
    {
      "metadata": {
        "id": "NpGog0CozWoH",
        "colab_type": "text"
      },
      "cell_type": "markdown",
      "source": [
        "Store the user list and the artist list."
      ]
    },
    {
      "metadata": {
        "id": "iZLILDbNWinp",
        "colab_type": "code",
        "colab": {}
      },
      "cell_type": "code",
      "source": [
        "user_list = user_artists.UserID.unique()\n",
        "artist_list = user_artists.ArtistID.unique()"
      ],
      "execution_count": 0,
      "outputs": []
    },
    {
      "metadata": {
        "id": "whO7EqEUWtyv",
        "colab_type": "text"
      },
      "cell_type": "markdown",
      "source": [
        "Store pairs of (UserID, ArtistID) in a new column called UA."
      ]
    },
    {
      "metadata": {
        "id": "hJXVUN5OXIrH",
        "colab_type": "code",
        "outputId": "ab045b2e-4066-467d-a2d5-c872354f528e",
        "colab": {
          "base_uri": "https://localhost:8080/",
          "height": 204
        }
      },
      "cell_type": "code",
      "source": [
        "user_artists_no_rate = user_artists.drop(columns=['Rate'])\n",
        "user_artists['UA']= list(zip(user_artists_no_rate.UserID, user_artists_no_rate.ArtistID))\n",
        "user_artists.head()"
      ],
      "execution_count": 4,
      "outputs": [
        {
          "output_type": "execute_result",
          "data": {
            "text/html": [
              "<div>\n",
              "<style scoped>\n",
              "    .dataframe tbody tr th:only-of-type {\n",
              "        vertical-align: middle;\n",
              "    }\n",
              "\n",
              "    .dataframe tbody tr th {\n",
              "        vertical-align: top;\n",
              "    }\n",
              "\n",
              "    .dataframe thead th {\n",
              "        text-align: right;\n",
              "    }\n",
              "</style>\n",
              "<table border=\"1\" class=\"dataframe\">\n",
              "  <thead>\n",
              "    <tr style=\"text-align: right;\">\n",
              "      <th></th>\n",
              "      <th>UserID</th>\n",
              "      <th>ArtistID</th>\n",
              "      <th>Rate</th>\n",
              "      <th>UA</th>\n",
              "    </tr>\n",
              "  </thead>\n",
              "  <tbody>\n",
              "    <tr>\n",
              "      <th>0</th>\n",
              "      <td>2</td>\n",
              "      <td>51</td>\n",
              "      <td>1.3883</td>\n",
              "      <td>(2, 51)</td>\n",
              "    </tr>\n",
              "    <tr>\n",
              "      <th>1</th>\n",
              "      <td>2</td>\n",
              "      <td>52</td>\n",
              "      <td>1.1690</td>\n",
              "      <td>(2, 52)</td>\n",
              "    </tr>\n",
              "    <tr>\n",
              "      <th>2</th>\n",
              "      <td>2</td>\n",
              "      <td>53</td>\n",
              "      <td>1.1351</td>\n",
              "      <td>(2, 53)</td>\n",
              "    </tr>\n",
              "    <tr>\n",
              "      <th>3</th>\n",
              "      <td>2</td>\n",
              "      <td>54</td>\n",
              "      <td>1.0300</td>\n",
              "      <td>(2, 54)</td>\n",
              "    </tr>\n",
              "    <tr>\n",
              "      <th>4</th>\n",
              "      <td>2</td>\n",
              "      <td>55</td>\n",
              "      <td>0.8983</td>\n",
              "      <td>(2, 55)</td>\n",
              "    </tr>\n",
              "  </tbody>\n",
              "</table>\n",
              "</div>"
            ],
            "text/plain": [
              "   UserID  ArtistID    Rate       UA\n",
              "0       2        51  1.3883  (2, 51)\n",
              "1       2        52  1.1690  (2, 52)\n",
              "2       2        53  1.1351  (2, 53)\n",
              "3       2        54  1.0300  (2, 54)\n",
              "4       2        55  0.8983  (2, 55)"
            ]
          },
          "metadata": {
            "tags": []
          },
          "execution_count": 4
        }
      ]
    },
    {
      "metadata": {
        "id": "O7jHBnQVXutW",
        "colab_type": "text"
      },
      "cell_type": "markdown",
      "source": [
        "Next, we check if the user_artists data set is balanced."
      ]
    },
    {
      "metadata": {
        "id": "UfK1LCNbXqUo",
        "colab_type": "code",
        "outputId": "41b33b08-bd6e-4e7b-d577-a8ac5d5099a4",
        "colab": {
          "base_uri": "https://localhost:8080/",
          "height": 374
        }
      },
      "cell_type": "code",
      "source": [
        "user_artists.UserID.value_counts().head(20)"
      ],
      "execution_count": 5,
      "outputs": [
        {
          "output_type": "execute_result",
          "data": {
            "text/plain": [
              "2047    50\n",
              "1749    50\n",
              "917     50\n",
              "981     50\n",
              "1109    50\n",
              "1173    50\n",
              "1237    50\n",
              "1301    50\n",
              "1365    50\n",
              "1429    50\n",
              "1493    50\n",
              "1557    50\n",
              "1621    50\n",
              "1685    50\n",
              "1813    50\n",
              "792     50\n",
              "1877    50\n",
              "1941    50\n",
              "2005    50\n",
              "22      50\n",
              "Name: UserID, dtype: int64"
            ]
          },
          "metadata": {
            "tags": []
          },
          "execution_count": 5
        }
      ]
    },
    {
      "metadata": {
        "id": "ZzXnOK-QYYEO",
        "colab_type": "text"
      },
      "cell_type": "markdown",
      "source": [
        "It seems most users have 50 favorite artists. We will check which users do not have 50 records in the user_artists dataframe. They will be considered as outliers. 63 users belong to this category."
      ]
    },
    {
      "metadata": {
        "id": "1ThJhpi3YqHc",
        "colab_type": "text"
      },
      "cell_type": "markdown",
      "source": [
        "Let us check if any user has >50 records. The answer is no."
      ]
    },
    {
      "metadata": {
        "id": "epycTW_cYxLH",
        "colab_type": "code",
        "outputId": "da150c01-0f69-4766-b5ab-7251534bfba6",
        "colab": {
          "base_uri": "https://localhost:8080/",
          "height": 80
        }
      },
      "cell_type": "code",
      "source": [
        "user_counts = user_artists.groupby(['UserID']).count()[['ArtistID']]\n",
        "user_counts.columns = ['Counts']\n",
        "user_counts.loc[user_counts.Counts > 50]"
      ],
      "execution_count": 6,
      "outputs": [
        {
          "output_type": "execute_result",
          "data": {
            "text/html": [
              "<div>\n",
              "<style scoped>\n",
              "    .dataframe tbody tr th:only-of-type {\n",
              "        vertical-align: middle;\n",
              "    }\n",
              "\n",
              "    .dataframe tbody tr th {\n",
              "        vertical-align: top;\n",
              "    }\n",
              "\n",
              "    .dataframe thead th {\n",
              "        text-align: right;\n",
              "    }\n",
              "</style>\n",
              "<table border=\"1\" class=\"dataframe\">\n",
              "  <thead>\n",
              "    <tr style=\"text-align: right;\">\n",
              "      <th></th>\n",
              "      <th>Counts</th>\n",
              "    </tr>\n",
              "    <tr>\n",
              "      <th>UserID</th>\n",
              "      <th></th>\n",
              "    </tr>\n",
              "  </thead>\n",
              "  <tbody>\n",
              "  </tbody>\n",
              "</table>\n",
              "</div>"
            ],
            "text/plain": [
              "Empty DataFrame\n",
              "Columns: [Counts]\n",
              "Index: []"
            ]
          },
          "metadata": {
            "tags": []
          },
          "execution_count": 6
        }
      ]
    },
    {
      "metadata": {
        "id": "kYis6M1SZ5Va",
        "colab_type": "text"
      },
      "cell_type": "markdown",
      "source": [
        "We will delete the users that have <50 records."
      ]
    },
    {
      "metadata": {
        "id": "O36FUspjaSxW",
        "colab_type": "text"
      },
      "cell_type": "markdown",
      "source": [
        "Store the list of users that have less than 50 favorite artists."
      ]
    },
    {
      "metadata": {
        "id": "eGNAxOqFZ_w2",
        "colab_type": "code",
        "colab": {}
      },
      "cell_type": "code",
      "source": [
        "minors = list(user_counts.loc[user_counts.Counts < 50].reset_index().UserID)"
      ],
      "execution_count": 0,
      "outputs": []
    },
    {
      "metadata": {
        "id": "qsOwwmulbuBh",
        "colab_type": "text"
      },
      "cell_type": "markdown",
      "source": [
        "We will see that we do not miss much data if the users that have less than 50 artists are delelted."
      ]
    },
    {
      "metadata": {
        "id": "R9G2VQfQaE1p",
        "colab_type": "code",
        "outputId": "b4733acc-46c5-486c-89c2-b84def0d2750",
        "colab": {
          "base_uri": "https://localhost:8080/",
          "height": 34
        }
      },
      "cell_type": "code",
      "source": [
        "len(user_artists.loc[user_artists.UserID.isin(minors)])"
      ],
      "execution_count": 8,
      "outputs": [
        {
          "output_type": "execute_result",
          "data": {
            "text/plain": [
              "1384"
            ]
          },
          "metadata": {
            "tags": []
          },
          "execution_count": 8
        }
      ]
    },
    {
      "metadata": {
        "id": "oBoaSTPOaIk4",
        "colab_type": "code",
        "outputId": "4fa13900-52c3-4e5e-d697-193802938cde",
        "colab": {
          "base_uri": "https://localhost:8080/",
          "height": 34
        }
      },
      "cell_type": "code",
      "source": [
        "len(user_artists.loc[~user_artists.UserID.isin(minors)])"
      ],
      "execution_count": 9,
      "outputs": [
        {
          "output_type": "execute_result",
          "data": {
            "text/plain": [
              "91450"
            ]
          },
          "metadata": {
            "tags": []
          },
          "execution_count": 9
        }
      ]
    },
    {
      "metadata": {
        "id": "cocGlxNaaQpg",
        "colab_type": "code",
        "outputId": "540e0842-ce81-419b-c0b1-7e6815f2f29f",
        "colab": {
          "base_uri": "https://localhost:8080/",
          "height": 34
        }
      },
      "cell_type": "code",
      "source": [
        "len(user_artists)"
      ],
      "execution_count": 10,
      "outputs": [
        {
          "output_type": "execute_result",
          "data": {
            "text/plain": [
              "92834"
            ]
          },
          "metadata": {
            "tags": []
          },
          "execution_count": 10
        }
      ]
    },
    {
      "metadata": {
        "id": "rQAxzs4Kb7OO",
        "colab_type": "code",
        "outputId": "4208cedf-6081-4113-f6ff-c7357b830620",
        "colab": {
          "base_uri": "https://localhost:8080/",
          "height": 34
        }
      },
      "cell_type": "code",
      "source": [
        "len(user_artists.loc[~user_artists.UserID.isin(minors)])/len(user_artists)"
      ],
      "execution_count": 11,
      "outputs": [
        {
          "output_type": "execute_result",
          "data": {
            "text/plain": [
              "0.9850916690005816"
            ]
          },
          "metadata": {
            "tags": []
          },
          "execution_count": 11
        }
      ]
    },
    {
      "metadata": {
        "id": "9qDQ6pbhaqjA",
        "colab_type": "text"
      },
      "cell_type": "markdown",
      "source": [
        "The new dataframe \"user_ artists_majority\" has the property that each user has 50 favorite artists. Throughout this project, we will use the dataframe \"user_ artists_majority\" for the conformity that each user has 50 favorite artists."
      ]
    },
    {
      "metadata": {
        "id": "HPJRq6S0ah2V",
        "colab_type": "code",
        "colab": {}
      },
      "cell_type": "code",
      "source": [
        "user_artists_majority = user_artists.loc[~user_artists.UserID.isin(minors)]"
      ],
      "execution_count": 0,
      "outputs": []
    },
    {
      "metadata": {
        "id": "wf66vNbcD8hD",
        "colab_type": "text"
      },
      "cell_type": "markdown",
      "source": [
        "## Preliminary Data Analysis"
      ]
    },
    {
      "metadata": {
        "id": "PxylQSJ3HV32",
        "colab_type": "text"
      },
      "cell_type": "markdown",
      "source": [
        "We will check which artists are most popular by counting their hitting times by users."
      ]
    },
    {
      "metadata": {
        "id": "U1IwqzmHExZw",
        "colab_type": "code",
        "colab": {
          "base_uri": "https://localhost:8080/",
          "height": 1630
        },
        "outputId": "27cd74c7-9fb7-4e56-a5dd-45acdd3165d7"
      },
      "cell_type": "code",
      "source": [
        "pd.DataFrame(user_artists_majority.groupby(['ArtistID']).Rate.sum()*10000).rename(columns={'Rate':'HitTimes'}).head(50)"
      ],
      "execution_count": 23,
      "outputs": [
        {
          "output_type": "execute_result",
          "data": {
            "text/html": [
              "<div>\n",
              "<style scoped>\n",
              "    .dataframe tbody tr th:only-of-type {\n",
              "        vertical-align: middle;\n",
              "    }\n",
              "\n",
              "    .dataframe tbody tr th {\n",
              "        vertical-align: top;\n",
              "    }\n",
              "\n",
              "    .dataframe thead th {\n",
              "        text-align: right;\n",
              "    }\n",
              "</style>\n",
              "<table border=\"1\" class=\"dataframe\">\n",
              "  <thead>\n",
              "    <tr style=\"text-align: right;\">\n",
              "      <th></th>\n",
              "      <th>HitTimes</th>\n",
              "    </tr>\n",
              "    <tr>\n",
              "      <th>ArtistID</th>\n",
              "      <th></th>\n",
              "    </tr>\n",
              "  </thead>\n",
              "  <tbody>\n",
              "    <tr>\n",
              "      <th>1</th>\n",
              "      <td>771.0</td>\n",
              "    </tr>\n",
              "    <tr>\n",
              "      <th>2</th>\n",
              "      <td>8012.0</td>\n",
              "    </tr>\n",
              "    <tr>\n",
              "      <th>3</th>\n",
              "      <td>775.0</td>\n",
              "    </tr>\n",
              "    <tr>\n",
              "      <th>4</th>\n",
              "      <td>562.0</td>\n",
              "    </tr>\n",
              "    <tr>\n",
              "      <th>5</th>\n",
              "      <td>913.0</td>\n",
              "    </tr>\n",
              "    <tr>\n",
              "      <th>6</th>\n",
              "      <td>5080.0</td>\n",
              "    </tr>\n",
              "    <tr>\n",
              "      <th>7</th>\n",
              "      <td>95884.0</td>\n",
              "    </tr>\n",
              "    <tr>\n",
              "      <th>8</th>\n",
              "      <td>10791.0</td>\n",
              "    </tr>\n",
              "    <tr>\n",
              "      <th>9</th>\n",
              "      <td>9621.0</td>\n",
              "    </tr>\n",
              "    <tr>\n",
              "      <th>10</th>\n",
              "      <td>4067.0</td>\n",
              "    </tr>\n",
              "    <tr>\n",
              "      <th>11</th>\n",
              "      <td>1992.0</td>\n",
              "    </tr>\n",
              "    <tr>\n",
              "      <th>12</th>\n",
              "      <td>9564.0</td>\n",
              "    </tr>\n",
              "    <tr>\n",
              "      <th>13</th>\n",
              "      <td>2376.0</td>\n",
              "    </tr>\n",
              "    <tr>\n",
              "      <th>15</th>\n",
              "      <td>8963.0</td>\n",
              "    </tr>\n",
              "    <tr>\n",
              "      <th>16</th>\n",
              "      <td>1381.0</td>\n",
              "    </tr>\n",
              "    <tr>\n",
              "      <th>17</th>\n",
              "      <td>1780.0</td>\n",
              "    </tr>\n",
              "    <tr>\n",
              "      <th>18</th>\n",
              "      <td>3820.0</td>\n",
              "    </tr>\n",
              "    <tr>\n",
              "      <th>19</th>\n",
              "      <td>8685.0</td>\n",
              "    </tr>\n",
              "    <tr>\n",
              "      <th>20</th>\n",
              "      <td>60.0</td>\n",
              "    </tr>\n",
              "    <tr>\n",
              "      <th>21</th>\n",
              "      <td>110.0</td>\n",
              "    </tr>\n",
              "    <tr>\n",
              "      <th>22</th>\n",
              "      <td>58.0</td>\n",
              "    </tr>\n",
              "    <tr>\n",
              "      <th>23</th>\n",
              "      <td>1699.0</td>\n",
              "    </tr>\n",
              "    <tr>\n",
              "      <th>24</th>\n",
              "      <td>290.0</td>\n",
              "    </tr>\n",
              "    <tr>\n",
              "      <th>25</th>\n",
              "      <td>15166.0</td>\n",
              "    </tr>\n",
              "    <tr>\n",
              "      <th>26</th>\n",
              "      <td>558.0</td>\n",
              "    </tr>\n",
              "    <tr>\n",
              "      <th>27</th>\n",
              "      <td>5076.0</td>\n",
              "    </tr>\n",
              "    <tr>\n",
              "      <th>28</th>\n",
              "      <td>2109.0</td>\n",
              "    </tr>\n",
              "    <tr>\n",
              "      <th>30</th>\n",
              "      <td>38949.0</td>\n",
              "    </tr>\n",
              "    <tr>\n",
              "      <th>31</th>\n",
              "      <td>2134.0</td>\n",
              "    </tr>\n",
              "    <tr>\n",
              "      <th>32</th>\n",
              "      <td>9256.0</td>\n",
              "    </tr>\n",
              "    <tr>\n",
              "      <th>34</th>\n",
              "      <td>2887.0</td>\n",
              "    </tr>\n",
              "    <tr>\n",
              "      <th>36</th>\n",
              "      <td>8570.0</td>\n",
              "    </tr>\n",
              "    <tr>\n",
              "      <th>37</th>\n",
              "      <td>978.0</td>\n",
              "    </tr>\n",
              "    <tr>\n",
              "      <th>38</th>\n",
              "      <td>541.0</td>\n",
              "    </tr>\n",
              "    <tr>\n",
              "      <th>39</th>\n",
              "      <td>13816.0</td>\n",
              "    </tr>\n",
              "    <tr>\n",
              "      <th>40</th>\n",
              "      <td>4561.0</td>\n",
              "    </tr>\n",
              "    <tr>\n",
              "      <th>41</th>\n",
              "      <td>2355.0</td>\n",
              "    </tr>\n",
              "    <tr>\n",
              "      <th>43</th>\n",
              "      <td>663.0</td>\n",
              "    </tr>\n",
              "    <tr>\n",
              "      <th>44</th>\n",
              "      <td>155.0</td>\n",
              "    </tr>\n",
              "    <tr>\n",
              "      <th>45</th>\n",
              "      <td>29358.0</td>\n",
              "    </tr>\n",
              "    <tr>\n",
              "      <th>46</th>\n",
              "      <td>364.0</td>\n",
              "    </tr>\n",
              "    <tr>\n",
              "      <th>47</th>\n",
              "      <td>1309.0</td>\n",
              "    </tr>\n",
              "    <tr>\n",
              "      <th>48</th>\n",
              "      <td>428.0</td>\n",
              "    </tr>\n",
              "    <tr>\n",
              "      <th>49</th>\n",
              "      <td>1519.0</td>\n",
              "    </tr>\n",
              "    <tr>\n",
              "      <th>50</th>\n",
              "      <td>332.0</td>\n",
              "    </tr>\n",
              "    <tr>\n",
              "      <th>51</th>\n",
              "      <td>348606.0</td>\n",
              "    </tr>\n",
              "    <tr>\n",
              "      <th>52</th>\n",
              "      <td>18787.0</td>\n",
              "    </tr>\n",
              "    <tr>\n",
              "      <th>53</th>\n",
              "      <td>44212.0</td>\n",
              "    </tr>\n",
              "    <tr>\n",
              "      <th>54</th>\n",
              "      <td>15927.0</td>\n",
              "    </tr>\n",
              "    <tr>\n",
              "      <th>55</th>\n",
              "      <td>448827.0</td>\n",
              "    </tr>\n",
              "  </tbody>\n",
              "</table>\n",
              "</div>"
            ],
            "text/plain": [
              "          HitTimes\n",
              "ArtistID          \n",
              "1            771.0\n",
              "2           8012.0\n",
              "3            775.0\n",
              "4            562.0\n",
              "5            913.0\n",
              "6           5080.0\n",
              "7          95884.0\n",
              "8          10791.0\n",
              "9           9621.0\n",
              "10          4067.0\n",
              "11          1992.0\n",
              "12          9564.0\n",
              "13          2376.0\n",
              "15          8963.0\n",
              "16          1381.0\n",
              "17          1780.0\n",
              "18          3820.0\n",
              "19          8685.0\n",
              "20            60.0\n",
              "21           110.0\n",
              "22            58.0\n",
              "23          1699.0\n",
              "24           290.0\n",
              "25         15166.0\n",
              "26           558.0\n",
              "27          5076.0\n",
              "28          2109.0\n",
              "30         38949.0\n",
              "31          2134.0\n",
              "32          9256.0\n",
              "34          2887.0\n",
              "36          8570.0\n",
              "37           978.0\n",
              "38           541.0\n",
              "39         13816.0\n",
              "40          4561.0\n",
              "41          2355.0\n",
              "43           663.0\n",
              "44           155.0\n",
              "45         29358.0\n",
              "46           364.0\n",
              "47          1309.0\n",
              "48           428.0\n",
              "49          1519.0\n",
              "50           332.0\n",
              "51        348606.0\n",
              "52         18787.0\n",
              "53         44212.0\n",
              "54         15927.0\n",
              "55        448827.0"
            ]
          },
          "metadata": {
            "tags": []
          },
          "execution_count": 23
        }
      ]
    },
    {
      "metadata": {
        "id": "PVX5fCL1H114",
        "colab_type": "text"
      },
      "cell_type": "markdown",
      "source": [
        "It seems like artists 51 and 55 are quite popular."
      ]
    },
    {
      "metadata": {
        "id": "43JXpCOZII82",
        "colab_type": "text"
      },
      "cell_type": "markdown",
      "source": [
        "We will visualize the popularity of the artists."
      ]
    },
    {
      "metadata": {
        "id": "1ig9VcCiIcgy",
        "colab_type": "code",
        "colab": {}
      },
      "cell_type": "code",
      "source": [
        "ArtistPopularity = pd.DataFrame(user_artists_majority.groupby(['ArtistID']).Rate.sum()*10000).reset_index().rename(columns={'Rate':'HitTimes'})"
      ],
      "execution_count": 0,
      "outputs": []
    },
    {
      "metadata": {
        "id": "TDr722lwMRAh",
        "colab_type": "code",
        "colab": {
          "base_uri": "https://localhost:8080/",
          "height": 393
        },
        "outputId": "be4db4d6-296a-4dfa-e4f1-d31f15534f8e"
      },
      "cell_type": "code",
      "source": [
        "import matplotlib.pyplot as plt\n",
        "plt.plot(ArtistPopularity.ArtistID,ArtistPopularity.HitTimes)\n",
        "plt.xlabel('ArtistID')\n",
        "plt.ylabel('HitTimes')\n",
        "plt.title('Popularity')"
      ],
      "execution_count": 31,
      "outputs": [
        {
          "output_type": "execute_result",
          "data": {
            "text/plain": [
              "Text(0.5, 1.0, 'Popularity')"
            ]
          },
          "metadata": {
            "tags": []
          },
          "execution_count": 31
        },
        {
          "output_type": "display_data",
          "data": {
            "image/png": "[encoded data removed]",
            "text/plain": [
              "<Figure size 576x396 with 1 Axes>"
            ]
          },
          "metadata": {
            "tags": []
          }
        }
      ]
    },
    {
      "metadata": {
        "id": "gwC_XTQoODVB",
        "colab_type": "text"
      },
      "cell_type": "markdown",
      "source": [
        "Artists with ArtistID<=2500 are the most popular. The following gives the ranking of Artists from the most popular to the least popular. Artists 289,72,89,292,498 are the top 5 most popular artists."
      ]
    },
    {
      "metadata": {
        "id": "oh42SKv1O1mC",
        "colab_type": "code",
        "colab": {
          "base_uri": "https://localhost:8080/",
          "height": 1969
        },
        "outputId": "2bfdcf86-00ff-46df-fed3-55c08e8512e2"
      },
      "cell_type": "code",
      "source": [
        "ArtistPopularity.sort_values(by=['HitTimes'],ascending=False)"
      ],
      "execution_count": 44,
      "outputs": [
        {
          "output_type": "execute_result",
          "data": {
            "text/html": [
              "<div>\n",
              "<style scoped>\n",
              "    .dataframe tbody tr th:only-of-type {\n",
              "        vertical-align: middle;\n",
              "    }\n",
              "\n",
              "    .dataframe tbody tr th {\n",
              "        vertical-align: top;\n",
              "    }\n",
              "\n",
              "    .dataframe thead th {\n",
              "        text-align: right;\n",
              "    }\n",
              "</style>\n",
              "<table border=\"1\" class=\"dataframe\">\n",
              "  <thead>\n",
              "    <tr style=\"text-align: right;\">\n",
              "      <th></th>\n",
              "      <th>ArtistID</th>\n",
              "      <th>HitTimes</th>\n",
              "    </tr>\n",
              "  </thead>\n",
              "  <tbody>\n",
              "    <tr>\n",
              "      <th>283</th>\n",
              "      <td>289</td>\n",
              "      <td>2143837.0</td>\n",
              "    </tr>\n",
              "    <tr>\n",
              "      <th>66</th>\n",
              "      <td>72</td>\n",
              "      <td>1283763.0</td>\n",
              "    </tr>\n",
              "    <tr>\n",
              "      <th>83</th>\n",
              "      <td>89</td>\n",
              "      <td>1245613.0</td>\n",
              "    </tr>\n",
              "    <tr>\n",
              "      <th>286</th>\n",
              "      <td>292</td>\n",
              "      <td>1045616.0</td>\n",
              "    </tr>\n",
              "    <tr>\n",
              "      <th>492</th>\n",
              "      <td>498</td>\n",
              "      <td>960446.0</td>\n",
              "    </tr>\n",
              "    <tr>\n",
              "      <th>61</th>\n",
              "      <td>67</td>\n",
              "      <td>897815.0</td>\n",
              "    </tr>\n",
              "    <tr>\n",
              "      <th>282</th>\n",
              "      <td>288</td>\n",
              "      <td>873934.0</td>\n",
              "    </tr>\n",
              "    <tr>\n",
              "      <th>695</th>\n",
              "      <td>701</td>\n",
              "      <td>682104.0</td>\n",
              "    </tr>\n",
              "    <tr>\n",
              "      <th>221</th>\n",
              "      <td>227</td>\n",
              "      <td>655560.0</td>\n",
              "    </tr>\n",
              "    <tr>\n",
              "      <th>294</th>\n",
              "      <td>300</td>\n",
              "      <td>527910.0</td>\n",
              "    </tr>\n",
              "    <tr>\n",
              "      <th>327</th>\n",
              "      <td>333</td>\n",
              "      <td>523556.0</td>\n",
              "    </tr>\n",
              "    <tr>\n",
              "      <th>372</th>\n",
              "      <td>378</td>\n",
              "      <td>513470.0</td>\n",
              "    </tr>\n",
              "    <tr>\n",
              "      <th>673</th>\n",
              "      <td>679</td>\n",
              "      <td>503846.0</td>\n",
              "    </tr>\n",
              "    <tr>\n",
              "      <th>289</th>\n",
              "      <td>295</td>\n",
              "      <td>498472.0</td>\n",
              "    </tr>\n",
              "    <tr>\n",
              "      <th>505</th>\n",
              "      <td>511</td>\n",
              "      <td>492265.0</td>\n",
              "    </tr>\n",
              "    <tr>\n",
              "      <th>480</th>\n",
              "      <td>486</td>\n",
              "      <td>483729.0</td>\n",
              "    </tr>\n",
              "    <tr>\n",
              "      <th>455</th>\n",
              "      <td>461</td>\n",
              "      <td>480547.0</td>\n",
              "    </tr>\n",
              "    <tr>\n",
              "      <th>184</th>\n",
              "      <td>190</td>\n",
              "      <td>479623.0</td>\n",
              "    </tr>\n",
              "    <tr>\n",
              "      <th>338</th>\n",
              "      <td>344</td>\n",
              "      <td>468721.0</td>\n",
              "    </tr>\n",
              "    <tr>\n",
              "      <th>157</th>\n",
              "      <td>163</td>\n",
              "      <td>465042.0</td>\n",
              "    </tr>\n",
              "    <tr>\n",
              "      <th>49</th>\n",
              "      <td>55</td>\n",
              "      <td>448827.0</td>\n",
              "    </tr>\n",
              "    <tr>\n",
              "      <th>148</th>\n",
              "      <td>154</td>\n",
              "      <td>384905.0</td>\n",
              "    </tr>\n",
              "    <tr>\n",
              "      <th>460</th>\n",
              "      <td>466</td>\n",
              "      <td>383229.0</td>\n",
              "    </tr>\n",
              "    <tr>\n",
              "      <th>251</th>\n",
              "      <td>257</td>\n",
              "      <td>381982.0</td>\n",
              "    </tr>\n",
              "    <tr>\n",
              "      <th>701</th>\n",
              "      <td>707</td>\n",
              "      <td>371138.0</td>\n",
              "    </tr>\n",
              "    <tr>\n",
              "      <th>908</th>\n",
              "      <td>917</td>\n",
              "      <td>362528.0</td>\n",
              "    </tr>\n",
              "    <tr>\n",
              "      <th>783</th>\n",
              "      <td>792</td>\n",
              "      <td>350035.0</td>\n",
              "    </tr>\n",
              "    <tr>\n",
              "      <th>45</th>\n",
              "      <td>51</td>\n",
              "      <td>348606.0</td>\n",
              "    </tr>\n",
              "    <tr>\n",
              "      <th>59</th>\n",
              "      <td>65</td>\n",
              "      <td>327740.0</td>\n",
              "    </tr>\n",
              "    <tr>\n",
              "      <th>469</th>\n",
              "      <td>475</td>\n",
              "      <td>320619.0</td>\n",
              "    </tr>\n",
              "    <tr>\n",
              "      <th>...</th>\n",
              "      <td>...</td>\n",
              "      <td>...</td>\n",
              "    </tr>\n",
              "    <tr>\n",
              "      <th>13129</th>\n",
              "      <td>13824</td>\n",
              "      <td>1.0</td>\n",
              "    </tr>\n",
              "    <tr>\n",
              "      <th>2875</th>\n",
              "      <td>2897</td>\n",
              "      <td>1.0</td>\n",
              "    </tr>\n",
              "    <tr>\n",
              "      <th>7420</th>\n",
              "      <td>7612</td>\n",
              "      <td>1.0</td>\n",
              "    </tr>\n",
              "    <tr>\n",
              "      <th>16116</th>\n",
              "      <td>17269</td>\n",
              "      <td>1.0</td>\n",
              "    </tr>\n",
              "    <tr>\n",
              "      <th>9274</th>\n",
              "      <td>9588</td>\n",
              "      <td>1.0</td>\n",
              "    </tr>\n",
              "    <tr>\n",
              "      <th>16115</th>\n",
              "      <td>17268</td>\n",
              "      <td>1.0</td>\n",
              "    </tr>\n",
              "    <tr>\n",
              "      <th>16114</th>\n",
              "      <td>17267</td>\n",
              "      <td>1.0</td>\n",
              "    </tr>\n",
              "    <tr>\n",
              "      <th>16113</th>\n",
              "      <td>17266</td>\n",
              "      <td>1.0</td>\n",
              "    </tr>\n",
              "    <tr>\n",
              "      <th>13134</th>\n",
              "      <td>13829</td>\n",
              "      <td>1.0</td>\n",
              "    </tr>\n",
              "    <tr>\n",
              "      <th>13133</th>\n",
              "      <td>13828</td>\n",
              "      <td>1.0</td>\n",
              "    </tr>\n",
              "    <tr>\n",
              "      <th>17125</th>\n",
              "      <td>18433</td>\n",
              "      <td>1.0</td>\n",
              "    </tr>\n",
              "    <tr>\n",
              "      <th>17124</th>\n",
              "      <td>18432</td>\n",
              "      <td>1.0</td>\n",
              "    </tr>\n",
              "    <tr>\n",
              "      <th>13131</th>\n",
              "      <td>13826</td>\n",
              "      <td>1.0</td>\n",
              "    </tr>\n",
              "    <tr>\n",
              "      <th>13130</th>\n",
              "      <td>13825</td>\n",
              "      <td>1.0</td>\n",
              "    </tr>\n",
              "    <tr>\n",
              "      <th>13128</th>\n",
              "      <td>13823</td>\n",
              "      <td>1.0</td>\n",
              "    </tr>\n",
              "    <tr>\n",
              "      <th>13126</th>\n",
              "      <td>13821</td>\n",
              "      <td>1.0</td>\n",
              "    </tr>\n",
              "    <tr>\n",
              "      <th>13127</th>\n",
              "      <td>13822</td>\n",
              "      <td>1.0</td>\n",
              "    </tr>\n",
              "    <tr>\n",
              "      <th>13615</th>\n",
              "      <td>14367</td>\n",
              "      <td>1.0</td>\n",
              "    </tr>\n",
              "    <tr>\n",
              "      <th>13618</th>\n",
              "      <td>14370</td>\n",
              "      <td>1.0</td>\n",
              "    </tr>\n",
              "    <tr>\n",
              "      <th>13619</th>\n",
              "      <td>14371</td>\n",
              "      <td>1.0</td>\n",
              "    </tr>\n",
              "    <tr>\n",
              "      <th>13620</th>\n",
              "      <td>14372</td>\n",
              "      <td>1.0</td>\n",
              "    </tr>\n",
              "    <tr>\n",
              "      <th>13621</th>\n",
              "      <td>14373</td>\n",
              "      <td>1.0</td>\n",
              "    </tr>\n",
              "    <tr>\n",
              "      <th>13623</th>\n",
              "      <td>14375</td>\n",
              "      <td>1.0</td>\n",
              "    </tr>\n",
              "    <tr>\n",
              "      <th>13624</th>\n",
              "      <td>14376</td>\n",
              "      <td>1.0</td>\n",
              "    </tr>\n",
              "    <tr>\n",
              "      <th>9272</th>\n",
              "      <td>9586</td>\n",
              "      <td>1.0</td>\n",
              "    </tr>\n",
              "    <tr>\n",
              "      <th>9270</th>\n",
              "      <td>9584</td>\n",
              "      <td>1.0</td>\n",
              "    </tr>\n",
              "    <tr>\n",
              "      <th>9269</th>\n",
              "      <td>9583</td>\n",
              "      <td>1.0</td>\n",
              "    </tr>\n",
              "    <tr>\n",
              "      <th>9267</th>\n",
              "      <td>9581</td>\n",
              "      <td>1.0</td>\n",
              "    </tr>\n",
              "    <tr>\n",
              "      <th>9265</th>\n",
              "      <td>9579</td>\n",
              "      <td>1.0</td>\n",
              "    </tr>\n",
              "    <tr>\n",
              "      <th>13122</th>\n",
              "      <td>13817</td>\n",
              "      <td>1.0</td>\n",
              "    </tr>\n",
              "  </tbody>\n",
              "</table>\n",
              "<p>17374 rows × 2 columns</p>\n",
              "</div>"
            ],
            "text/plain": [
              "       ArtistID   HitTimes\n",
              "283         289  2143837.0\n",
              "66           72  1283763.0\n",
              "83           89  1245613.0\n",
              "286         292  1045616.0\n",
              "492         498   960446.0\n",
              "61           67   897815.0\n",
              "282         288   873934.0\n",
              "695         701   682104.0\n",
              "221         227   655560.0\n",
              "294         300   527910.0\n",
              "327         333   523556.0\n",
              "372         378   513470.0\n",
              "673         679   503846.0\n",
              "289         295   498472.0\n",
              "505         511   492265.0\n",
              "480         486   483729.0\n",
              "455         461   480547.0\n",
              "184         190   479623.0\n",
              "338         344   468721.0\n",
              "157         163   465042.0\n",
              "49           55   448827.0\n",
              "148         154   384905.0\n",
              "460         466   383229.0\n",
              "251         257   381982.0\n",
              "701         707   371138.0\n",
              "908         917   362528.0\n",
              "783         792   350035.0\n",
              "45           51   348606.0\n",
              "59           65   327740.0\n",
              "469         475   320619.0\n",
              "...         ...        ...\n",
              "13129     13824        1.0\n",
              "2875       2897        1.0\n",
              "7420       7612        1.0\n",
              "16116     17269        1.0\n",
              "9274       9588        1.0\n",
              "16115     17268        1.0\n",
              "16114     17267        1.0\n",
              "16113     17266        1.0\n",
              "13134     13829        1.0\n",
              "13133     13828        1.0\n",
              "17125     18433        1.0\n",
              "17124     18432        1.0\n",
              "13131     13826        1.0\n",
              "13130     13825        1.0\n",
              "13128     13823        1.0\n",
              "13126     13821        1.0\n",
              "13127     13822        1.0\n",
              "13615     14367        1.0\n",
              "13618     14370        1.0\n",
              "13619     14371        1.0\n",
              "13620     14372        1.0\n",
              "13621     14373        1.0\n",
              "13623     14375        1.0\n",
              "13624     14376        1.0\n",
              "9272       9586        1.0\n",
              "9270       9584        1.0\n",
              "9269       9583        1.0\n",
              "9267       9581        1.0\n",
              "9265       9579        1.0\n",
              "13122     13817        1.0\n",
              "\n",
              "[17374 rows x 2 columns]"
            ]
          },
          "metadata": {
            "tags": []
          },
          "execution_count": 44
        }
      ]
    },
    {
      "metadata": {
        "id": "-6dixvIwRT14",
        "colab_type": "text"
      },
      "cell_type": "markdown",
      "source": [
        "It seems like a lot of artists have only one hit. This could mean that the top artists have most of the fans(users) in the dataset."
      ]
    },
    {
      "metadata": {
        "id": "d9S62dK_R2Wt",
        "colab_type": "code",
        "colab": {}
      },
      "cell_type": "code",
      "source": [
        "ArtistPopularityRanked = ArtistPopularity.sort_values(by=['HitTimes'],ascending=False)"
      ],
      "execution_count": 0,
      "outputs": []
    },
    {
      "metadata": {
        "id": "MhVSxNA2UEe_",
        "colab_type": "text"
      },
      "cell_type": "markdown",
      "source": [
        "A total of 68438134 hits is recorded."
      ]
    },
    {
      "metadata": {
        "id": "GhicF-hmSAYX",
        "colab_type": "code",
        "colab": {
          "base_uri": "https://localhost:8080/",
          "height": 34
        },
        "outputId": "536bc266-50b4-4289-d74f-227340adf679"
      },
      "cell_type": "code",
      "source": [
        "np.sum(ArtistPopularityRanked.HitTimes)"
      ],
      "execution_count": 46,
      "outputs": [
        {
          "output_type": "execute_result",
          "data": {
            "text/plain": [
              "68438134.0"
            ]
          },
          "metadata": {
            "tags": []
          },
          "execution_count": 46
        }
      ]
    },
    {
      "metadata": {
        "id": "DpbFymjRUpxW",
        "colab_type": "text"
      },
      "cell_type": "markdown",
      "source": [
        "The top 100 artists out of 17374 artists have >43.36% of total hits."
      ]
    },
    {
      "metadata": {
        "id": "GWx5hruBUVfs",
        "colab_type": "code",
        "colab": {
          "base_uri": "https://localhost:8080/",
          "height": 34
        },
        "outputId": "313f93cc-2457-4800-91cc-2982d6d59aac"
      },
      "cell_type": "code",
      "source": [
        "np.sum(ArtistPopularityRanked.head(100).HitTimes)/np.sum(ArtistPopularityRanked.HitTimes)"
      ],
      "execution_count": 47,
      "outputs": [
        {
          "output_type": "execute_result",
          "data": {
            "text/plain": [
              "0.433682923032355"
            ]
          },
          "metadata": {
            "tags": []
          },
          "execution_count": 47
        }
      ]
    },
    {
      "metadata": {
        "id": "wXgB41rjVRmq",
        "colab_type": "text"
      },
      "cell_type": "markdown",
      "source": [
        "The top 200 artists out of 17374 artists have >53.63% of total hits."
      ]
    },
    {
      "metadata": {
        "id": "Tw_ekxY7VGc6",
        "colab_type": "code",
        "colab": {
          "base_uri": "https://localhost:8080/",
          "height": 34
        },
        "outputId": "bbe9444a-3746-4bcb-fbc9-5133a34e9cc5"
      },
      "cell_type": "code",
      "source": [
        "np.sum(ArtistPopularityRanked.head(200).HitTimes)/np.sum(ArtistPopularityRanked.HitTimes)"
      ],
      "execution_count": 48,
      "outputs": [
        {
          "output_type": "execute_result",
          "data": {
            "text/plain": [
              "0.5363655005555821"
            ]
          },
          "metadata": {
            "tags": []
          },
          "execution_count": 48
        }
      ]
    },
    {
      "metadata": {
        "id": "S28aq0skpev8",
        "colab_type": "text"
      },
      "cell_type": "markdown",
      "source": [
        "## Collaborative Filtering"
      ]
    },
    {
      "metadata": {
        "id": "XAyhg33UqGqx",
        "colab_type": "text"
      },
      "cell_type": "markdown",
      "source": [
        "### Read the user_friends dataframe."
      ]
    },
    {
      "metadata": {
        "id": "T4hARR0gp6qZ",
        "colab_type": "code",
        "colab": {
          "base_uri": "https://localhost:8080/",
          "height": 204
        },
        "outputId": "0dd0f4eb-319d-4ea8-f1e5-49c50d35514f"
      },
      "cell_type": "code",
      "source": [
        "user_friends = pd.read_table('gdrive/My Drive/Project2/hetrec2011-lastfm-2k/user_friends.dat', sep='\\t', header=None, skiprows=1)\n",
        "user_friends = user_friends.rename(index = int, columns={0: \"UserID\", 1: \"FriendID\"})\n",
        "user_friends.head()"
      ],
      "execution_count": 49,
      "outputs": [
        {
          "output_type": "execute_result",
          "data": {
            "text/html": [
              "<div>\n",
              "<style scoped>\n",
              "    .dataframe tbody tr th:only-of-type {\n",
              "        vertical-align: middle;\n",
              "    }\n",
              "\n",
              "    .dataframe tbody tr th {\n",
              "        vertical-align: top;\n",
              "    }\n",
              "\n",
              "    .dataframe thead th {\n",
              "        text-align: right;\n",
              "    }\n",
              "</style>\n",
              "<table border=\"1\" class=\"dataframe\">\n",
              "  <thead>\n",
              "    <tr style=\"text-align: right;\">\n",
              "      <th></th>\n",
              "      <th>UserID</th>\n",
              "      <th>FriendID</th>\n",
              "    </tr>\n",
              "  </thead>\n",
              "  <tbody>\n",
              "    <tr>\n",
              "      <th>0</th>\n",
              "      <td>2</td>\n",
              "      <td>275</td>\n",
              "    </tr>\n",
              "    <tr>\n",
              "      <th>1</th>\n",
              "      <td>2</td>\n",
              "      <td>428</td>\n",
              "    </tr>\n",
              "    <tr>\n",
              "      <th>2</th>\n",
              "      <td>2</td>\n",
              "      <td>515</td>\n",
              "    </tr>\n",
              "    <tr>\n",
              "      <th>3</th>\n",
              "      <td>2</td>\n",
              "      <td>761</td>\n",
              "    </tr>\n",
              "    <tr>\n",
              "      <th>4</th>\n",
              "      <td>2</td>\n",
              "      <td>831</td>\n",
              "    </tr>\n",
              "  </tbody>\n",
              "</table>\n",
              "</div>"
            ],
            "text/plain": [
              "   UserID  FriendID\n",
              "0       2       275\n",
              "1       2       428\n",
              "2       2       515\n",
              "3       2       761\n",
              "4       2       831"
            ]
          },
          "metadata": {
            "tags": []
          },
          "execution_count": 49
        }
      ]
    },
    {
      "metadata": {
        "id": "A07pJdQjq1Af",
        "colab_type": "text"
      },
      "cell_type": "markdown",
      "source": [
        "### Recommend favorite artists of friends to the user."
      ]
    },
    {
      "metadata": {
        "id": "nNYcg16Bq-ke",
        "colab_type": "text"
      },
      "cell_type": "markdown",
      "source": [
        "The friends() function returns the friends of a user."
      ]
    },
    {
      "metadata": {
        "id": "xfn1O0YarBHD",
        "colab_type": "code",
        "colab": {
          "base_uri": "https://localhost:8080/",
          "height": 266
        },
        "outputId": "3cfcf747-7142-4d92-bc14-bd5d35365d56"
      },
      "cell_type": "code",
      "source": [
        "def friends(uid):\n",
        "    return user_friends.loc[user_friends['UserID']==uid]\n",
        "friends(5)"
      ],
      "execution_count": 50,
      "outputs": [
        {
          "output_type": "execute_result",
          "data": {
            "text/html": [
              "<div>\n",
              "<style scoped>\n",
              "    .dataframe tbody tr th:only-of-type {\n",
              "        vertical-align: middle;\n",
              "    }\n",
              "\n",
              "    .dataframe tbody tr th {\n",
              "        vertical-align: top;\n",
              "    }\n",
              "\n",
              "    .dataframe thead th {\n",
              "        text-align: right;\n",
              "    }\n",
              "</style>\n",
              "<table border=\"1\" class=\"dataframe\">\n",
              "  <thead>\n",
              "    <tr style=\"text-align: right;\">\n",
              "      <th></th>\n",
              "      <th>UserID</th>\n",
              "      <th>FriendID</th>\n",
              "    </tr>\n",
              "  </thead>\n",
              "  <tbody>\n",
              "    <tr>\n",
              "      <th>30</th>\n",
              "      <td>5</td>\n",
              "      <td>228</td>\n",
              "    </tr>\n",
              "    <tr>\n",
              "      <th>31</th>\n",
              "      <td>5</td>\n",
              "      <td>725</td>\n",
              "    </tr>\n",
              "    <tr>\n",
              "      <th>32</th>\n",
              "      <td>5</td>\n",
              "      <td>831</td>\n",
              "    </tr>\n",
              "    <tr>\n",
              "      <th>33</th>\n",
              "      <td>5</td>\n",
              "      <td>1271</td>\n",
              "    </tr>\n",
              "    <tr>\n",
              "      <th>34</th>\n",
              "      <td>5</td>\n",
              "      <td>1310</td>\n",
              "    </tr>\n",
              "    <tr>\n",
              "      <th>35</th>\n",
              "      <td>5</td>\n",
              "      <td>1481</td>\n",
              "    </tr>\n",
              "    <tr>\n",
              "      <th>36</th>\n",
              "      <td>5</td>\n",
              "      <td>1785</td>\n",
              "    </tr>\n",
              "  </tbody>\n",
              "</table>\n",
              "</div>"
            ],
            "text/plain": [
              "    UserID  FriendID\n",
              "30       5       228\n",
              "31       5       725\n",
              "32       5       831\n",
              "33       5      1271\n",
              "34       5      1310\n",
              "35       5      1481\n",
              "36       5      1785"
            ]
          },
          "metadata": {
            "tags": []
          },
          "execution_count": 50
        }
      ]
    },
    {
      "metadata": {
        "id": "ubz4uPXCrdPf",
        "colab_type": "text"
      },
      "cell_type": "markdown",
      "source": [
        "The initializing function recommendlist_initialize() intializes an empty dataframe consists of three columns: <b>UserID</b>, <b>FriendArtistID</b>(the ArtistID in friends' favorite artists lists), <b>Rate</b>."
      ]
    },
    {
      "metadata": {
        "id": "Ya-vnihprfoq",
        "colab_type": "code",
        "colab": {
          "base_uri": "https://localhost:8080/",
          "height": 49
        },
        "outputId": "30e337f5-b8df-4885-8af2-410b8115d33f"
      },
      "cell_type": "code",
      "source": [
        "def recommendlist_initialize():\n",
        "    return pd.DataFrame([],columns=['UserID','FriendArtistID','Rate'])\n",
        "recommendlist_initialize()"
      ],
      "execution_count": 55,
      "outputs": [
        {
          "output_type": "execute_result",
          "data": {
            "text/html": [
              "<div>\n",
              "<style scoped>\n",
              "    .dataframe tbody tr th:only-of-type {\n",
              "        vertical-align: middle;\n",
              "    }\n",
              "\n",
              "    .dataframe tbody tr th {\n",
              "        vertical-align: top;\n",
              "    }\n",
              "\n",
              "    .dataframe thead th {\n",
              "        text-align: right;\n",
              "    }\n",
              "</style>\n",
              "<table border=\"1\" class=\"dataframe\">\n",
              "  <thead>\n",
              "    <tr style=\"text-align: right;\">\n",
              "      <th></th>\n",
              "      <th>UserID</th>\n",
              "      <th>FriendArtistID</th>\n",
              "      <th>Rate</th>\n",
              "    </tr>\n",
              "  </thead>\n",
              "  <tbody>\n",
              "  </tbody>\n",
              "</table>\n",
              "</div>"
            ],
            "text/plain": [
              "Empty DataFrame\n",
              "Columns: [UserID, FriendArtistID, Rate]\n",
              "Index: []"
            ]
          },
          "metadata": {
            "tags": []
          },
          "execution_count": 55
        }
      ]
    },
    {
      "metadata": {
        "id": "knT3VKM1she4",
        "colab_type": "text"
      },
      "cell_type": "markdown",
      "source": [
        "The friend_artists() function returns a list of all the artists that the friends of a user have listened to."
      ]
    },
    {
      "metadata": {
        "id": "D1Cs2olQslZK",
        "colab_type": "code",
        "colab": {
          "base_uri": "https://localhost:8080/",
          "height": 204
        },
        "outputId": "fcd99635-8bac-4b99-ebc8-5584f2e578fb"
      },
      "cell_type": "code",
      "source": [
        "def friend_artists(uid):\n",
        "    User_FriendArtists = recommendlist_initialize()##initialization\n",
        "    for k,v in friends(uid).FriendID.iteritems():\n",
        "        User_FriendArtists = User_FriendArtists.append(user_artists.loc[user_artists.UserID==v].rename(columns\\\n",
        "                                                 ={'ArtistID':'FriendArtistID'}).replace(v,uid))\n",
        "        ## Replace friends' UserID by the user's UserID since we do not need the information of which friend listened to which artist\n",
        "        ## Replace ArtitstID by FriendArtistID since these are the artists that friends has listened to.\n",
        "    return User_FriendArtists\n",
        "friend_artists(5).head()"
      ],
      "execution_count": 56,
      "outputs": [
        {
          "output_type": "execute_result",
          "data": {
            "text/html": [
              "<div>\n",
              "<style scoped>\n",
              "    .dataframe tbody tr th:only-of-type {\n",
              "        vertical-align: middle;\n",
              "    }\n",
              "\n",
              "    .dataframe tbody tr th {\n",
              "        vertical-align: top;\n",
              "    }\n",
              "\n",
              "    .dataframe thead th {\n",
              "        text-align: right;\n",
              "    }\n",
              "</style>\n",
              "<table border=\"1\" class=\"dataframe\">\n",
              "  <thead>\n",
              "    <tr style=\"text-align: right;\">\n",
              "      <th></th>\n",
              "      <th>FriendArtistID</th>\n",
              "      <th>Rate</th>\n",
              "      <th>UA</th>\n",
              "      <th>UserID</th>\n",
              "    </tr>\n",
              "  </thead>\n",
              "  <tbody>\n",
              "    <tr>\n",
              "      <th>10547</th>\n",
              "      <td>197</td>\n",
              "      <td>0.0013</td>\n",
              "      <td>(228, 197)</td>\n",
              "      <td>5</td>\n",
              "    </tr>\n",
              "    <tr>\n",
              "      <th>10548</th>\n",
              "      <td>212</td>\n",
              "      <td>0.0017</td>\n",
              "      <td>(228, 212)</td>\n",
              "      <td>5</td>\n",
              "    </tr>\n",
              "    <tr>\n",
              "      <th>10549</th>\n",
              "      <td>219</td>\n",
              "      <td>0.0008</td>\n",
              "      <td>(228, 219)</td>\n",
              "      <td>5</td>\n",
              "    </tr>\n",
              "    <tr>\n",
              "      <th>10550</th>\n",
              "      <td>222</td>\n",
              "      <td>0.0008</td>\n",
              "      <td>(228, 222)</td>\n",
              "      <td>5</td>\n",
              "    </tr>\n",
              "    <tr>\n",
              "      <th>10551</th>\n",
              "      <td>609</td>\n",
              "      <td>0.0018</td>\n",
              "      <td>(228, 609)</td>\n",
              "      <td>5</td>\n",
              "    </tr>\n",
              "  </tbody>\n",
              "</table>\n",
              "</div>"
            ],
            "text/plain": [
              "      FriendArtistID    Rate          UA UserID\n",
              "10547            197  0.0013  (228, 197)      5\n",
              "10548            212  0.0017  (228, 212)      5\n",
              "10549            219  0.0008  (228, 219)      5\n",
              "10550            222  0.0008  (228, 222)      5\n",
              "10551            609  0.0018  (228, 609)      5"
            ]
          },
          "metadata": {
            "tags": []
          },
          "execution_count": 56
        }
      ]
    },
    {
      "metadata": {
        "id": "9EcvTO6ouHC9",
        "colab_type": "text"
      },
      "cell_type": "markdown",
      "source": [
        "The function recommendedtop(n,uid) returns the top n artists evaluated by the sum of weights that the user's friends have listened to."
      ]
    },
    {
      "metadata": {
        "id": "Lh_gSq0vuJJd",
        "colab_type": "code",
        "colab": {
          "base_uri": "https://localhost:8080/",
          "height": 204
        },
        "outputId": "84b432c3-5efd-485a-9455-ecb70cd8e085"
      },
      "cell_type": "code",
      "source": [
        "def recommendedtop(n,uid):\n",
        "    recommended = friend_artists(uid).groupby(['FriendArtistID'])['Rate'].sum().sort_values(ascending\\\n",
        "                                              =False).to_frame().reset_index().FriendArtistID.head(n)\n",
        "    return recommended\n",
        "recommendedtop(10,5)"
      ],
      "execution_count": 58,
      "outputs": [
        {
          "output_type": "execute_result",
          "data": {
            "text/plain": [
              "0      154\n",
              "1     2524\n",
              "2     7650\n",
              "3     1520\n",
              "4      207\n",
              "5       57\n",
              "6      173\n",
              "7     9233\n",
              "8      190\n",
              "9    12168\n",
              "Name: FriendArtistID, dtype: int64"
            ]
          },
          "metadata": {
            "tags": []
          },
          "execution_count": 58
        }
      ]
    },
    {
      "metadata": {
        "id": "n6J85i0JwAjk",
        "colab_type": "text"
      },
      "cell_type": "markdown",
      "source": [
        "### Accuracy"
      ]
    },
    {
      "metadata": {
        "id": "UxKxLT07uhxY",
        "colab_type": "text"
      },
      "cell_type": "markdown",
      "source": [
        "The accuracy(n,uid) function checks the number of artists who are simultaneously in the top-n recommended list and in the top-n of a user's favorite artists list. The accuracy is calculated by this number divided by n.  "
      ]
    },
    {
      "metadata": {
        "id": "EX4WGpqCukgP",
        "colab_type": "code",
        "colab": {}
      },
      "cell_type": "code",
      "source": [
        "def accuracy(n,uid):\n",
        "    Correct =0\n",
        "    RealTop = user_artists.loc[user_artists.UserID==uid].ArtistID.head(n)\n",
        "    for k_rec,rec in recommendedtop(n,uid).iteritems():\n",
        "        for k_real,real in RealTop.iteritems():\n",
        "             if rec == real:\n",
        "                Correct += 1\n",
        "    Accuracy = Correct/n\n",
        "    return Accuracy"
      ],
      "execution_count": 0,
      "outputs": []
    },
    {
      "metadata": {
        "id": "ddJxopByutOf",
        "colab_type": "text"
      },
      "cell_type": "markdown",
      "source": [
        "The accuracy of predicting Top-10 artists of User 5."
      ]
    },
    {
      "metadata": {
        "id": "ro_TWdZSu5-9",
        "colab_type": "code",
        "colab": {
          "base_uri": "https://localhost:8080/",
          "height": 34
        },
        "outputId": "64e687cc-7556-415f-de3a-939448251f33"
      },
      "cell_type": "code",
      "source": [
        "accuracy(10,5)"
      ],
      "execution_count": 60,
      "outputs": [
        {
          "output_type": "execute_result",
          "data": {
            "text/plain": [
              "0.3"
            ]
          },
          "metadata": {
            "tags": []
          },
          "execution_count": 60
        }
      ]
    },
    {
      "metadata": {
        "id": "e_11ozdsvYzL",
        "colab_type": "text"
      },
      "cell_type": "markdown",
      "source": [
        "Visualize the accuracies of predicting Top 1<=n<=50 artists of User 5."
      ]
    },
    {
      "metadata": {
        "id": "hBAdeiX-vPY8",
        "colab_type": "code",
        "colab": {
          "base_uri": "https://localhost:8080/",
          "height": 393
        },
        "outputId": "d0de9116-611a-41c0-e42d-ab1a2ea278df"
      },
      "cell_type": "code",
      "source": [
        "x = np.arange(1,51)\n",
        "y = [accuracy(n,uid=5) for n in x]\n",
        "plt.plot(x,y)\n",
        "plt.xlabel('Top 50')\n",
        "plt.ylabel('Accuracy')\n",
        "plt.title('Accuracy v.s Top 50')"
      ],
      "execution_count": 62,
      "outputs": [
        {
          "output_type": "execute_result",
          "data": {
            "text/plain": [
              "Text(0.5, 1.0, 'Accuracy v.s Top 50')"
            ]
          },
          "metadata": {
            "tags": []
          },
          "execution_count": 62
        },
        {
          "output_type": "display_data",
          "data": {
            "image/png": "[encoded data removed]",
            "text/plain": [
              "<Figure size 576x396 with 1 Axes>"
            ]
          },
          "metadata": {
            "tags": []
          }
        }
      ]
    },
    {
      "metadata": {
        "id": "Vms6DSB-A2Qv",
        "colab_type": "text"
      },
      "cell_type": "markdown",
      "source": [
        "## Content-Based Recommendation"
      ]
    },
    {
      "metadata": {
        "id": "qN_49frfAmwR",
        "colab_type": "text"
      },
      "cell_type": "markdown",
      "source": [
        "We want to see the predictive power of our recommendation system on unseen data. To do this, we separate the user_artists dataframe into a training set(60%), a validation set(20%), and a test set(20%). We first use the training set to initialize the recommendation matrix by SVD. Secondly, we use SGD to minimize the MSE of the training and validation set combined. Finally we evaluate the accuracy."
      ]
    },
    {
      "metadata": {
        "id": "jYtrvh9OcUKq",
        "colab_type": "text"
      },
      "cell_type": "markdown",
      "source": [
        "We separate the \"user_artists_majority\" dataframe into 60% train_data, 20% of validation data and 20% of test_data"
      ]
    },
    {
      "metadata": {
        "id": "L30vwhvhcQra",
        "colab_type": "code",
        "outputId": "cfd75ab7-866b-41a5-d058-5c5ef3c662d5",
        "colab": {
          "base_uri": "https://localhost:8080/",
          "height": 34
        }
      },
      "cell_type": "code",
      "source": [
        "train_data = user_artists_majority.sample(frac=0.6, random_state=0)#randomly select 60%\n",
        "none_train_data = user_artists_majority.loc[~user_artists_majority.index.isin(train_data.index)]#the rest 40% is in none_train data\n",
        "validation_data = none_train_data.sample(frac=0.5, random_state=0)#50% of none_train data is stored in validation data.\n",
        "test_data = none_train_data.loc[~none_train_data.index.isin(validation_data.index)]#the remaining 50% of none_train data is stored in test data. \n",
        "len(user_artists_majority)==len(train_data)+len(validation_data)+len(test_data)"
      ],
      "execution_count": 0,
      "outputs": [
        {
          "output_type": "execute_result",
          "data": {
            "text/plain": [
              "True"
            ]
          },
          "metadata": {
            "tags": []
          },
          "execution_count": 66
        }
      ]
    },
    {
      "metadata": {
        "id": "MP80uECAdE3n",
        "colab_type": "text"
      },
      "cell_type": "markdown",
      "source": [
        "The train_data and the validation_data combined is called the none_test_data."
      ]
    },
    {
      "metadata": {
        "id": "jtl0e1rfdTDb",
        "colab_type": "code",
        "outputId": "5bdcba60-7fe5-4aba-a3da-6f29b81af621",
        "colab": {
          "base_uri": "https://localhost:8080/",
          "height": 204
        }
      },
      "cell_type": "code",
      "source": [
        "none_test_data = train_data.append(validation_data)\n",
        "none_test_data.head()"
      ],
      "execution_count": 0,
      "outputs": [
        {
          "output_type": "execute_result",
          "data": {
            "text/html": [
              "<div>\n",
              "<style scoped>\n",
              "    .dataframe tbody tr th:only-of-type {\n",
              "        vertical-align: middle;\n",
              "    }\n",
              "\n",
              "    .dataframe tbody tr th {\n",
              "        vertical-align: top;\n",
              "    }\n",
              "\n",
              "    .dataframe thead th {\n",
              "        text-align: right;\n",
              "    }\n",
              "</style>\n",
              "<table border=\"1\" class=\"dataframe\">\n",
              "  <thead>\n",
              "    <tr style=\"text-align: right;\">\n",
              "      <th></th>\n",
              "      <th>UserID</th>\n",
              "      <th>ArtistID</th>\n",
              "      <th>Rate</th>\n",
              "      <th>UA</th>\n",
              "    </tr>\n",
              "  </thead>\n",
              "  <tbody>\n",
              "    <tr>\n",
              "      <th>42587</th>\n",
              "      <td>939</td>\n",
              "      <td>2619</td>\n",
              "      <td>0.0540</td>\n",
              "      <td>(939, 2619)</td>\n",
              "    </tr>\n",
              "    <tr>\n",
              "      <th>36462</th>\n",
              "      <td>798</td>\n",
              "      <td>10095</td>\n",
              "      <td>0.0127</td>\n",
              "      <td>(798, 10095)</td>\n",
              "    </tr>\n",
              "    <tr>\n",
              "      <th>37152</th>\n",
              "      <td>814</td>\n",
              "      <td>1048</td>\n",
              "      <td>0.0155</td>\n",
              "      <td>(814, 1048)</td>\n",
              "    </tr>\n",
              "    <tr>\n",
              "      <th>75723</th>\n",
              "      <td>1708</td>\n",
              "      <td>2537</td>\n",
              "      <td>0.1030</td>\n",
              "      <td>(1708, 2537)</td>\n",
              "    </tr>\n",
              "    <tr>\n",
              "      <th>72973</th>\n",
              "      <td>1647</td>\n",
              "      <td>1388</td>\n",
              "      <td>0.0150</td>\n",
              "      <td>(1647, 1388)</td>\n",
              "    </tr>\n",
              "  </tbody>\n",
              "</table>\n",
              "</div>"
            ],
            "text/plain": [
              "       UserID  ArtistID    Rate            UA\n",
              "42587     939      2619  0.0540   (939, 2619)\n",
              "36462     798     10095  0.0127  (798, 10095)\n",
              "37152     814      1048  0.0155   (814, 1048)\n",
              "75723    1708      2537  0.1030  (1708, 2537)\n",
              "72973    1647      1388  0.0150  (1647, 1388)"
            ]
          },
          "metadata": {
            "tags": []
          },
          "execution_count": 67
        }
      ]
    },
    {
      "metadata": {
        "id": "k0cN4qVNeTFl",
        "colab_type": "text"
      },
      "cell_type": "markdown",
      "source": [
        "Create a sparse pivot table with users in rows and items in columns using train_data."
      ]
    },
    {
      "metadata": {
        "id": "H_SP0au8eXwC",
        "colab_type": "code",
        "outputId": "d3bd3d98-506a-42e9-d23e-da524c44bb7f",
        "colab": {
          "base_uri": "https://localhost:8080/",
          "height": 34
        }
      },
      "cell_type": "code",
      "source": [
        "R_svd_init = user_artists_majority.pivot(index='UserID', columns='ArtistID', values='Rate').fillna(0)\n",
        "R_svd_init.shape"
      ],
      "execution_count": 0,
      "outputs": [
        {
          "output_type": "execute_result",
          "data": {
            "text/plain": [
              "(1829, 17374)"
            ]
          },
          "metadata": {
            "tags": []
          },
          "execution_count": 68
        }
      ]
    },
    {
      "metadata": {
        "id": "lA94koYweiOS",
        "colab_type": "text"
      },
      "cell_type": "markdown",
      "source": [
        "R_svd_init is not a zero matrix."
      ]
    },
    {
      "metadata": {
        "id": "_2-YmHLlemnp",
        "colab_type": "code",
        "outputId": "88c1c504-7a5f-4d07-d4a8-fb254f7bf243",
        "colab": {
          "base_uri": "https://localhost:8080/",
          "height": 34
        }
      },
      "cell_type": "code",
      "source": [
        "R_svd_init.loc[665,1061]"
      ],
      "execution_count": 0,
      "outputs": [
        {
          "output_type": "execute_result",
          "data": {
            "text/plain": [
              "0.0073"
            ]
          },
          "metadata": {
            "tags": []
          },
          "execution_count": 16
        }
      ]
    },
    {
      "metadata": {
        "id": "ZhQhdOBAe6qV",
        "colab_type": "text"
      },
      "cell_type": "markdown",
      "source": [
        "Replace the data in the initial recommendation matrix that are not in train_data by 0. The initial infomation we have is the train_data."
      ]
    },
    {
      "metadata": {
        "id": "xXQH7ImKe8bK",
        "colab_type": "code",
        "colab": {}
      },
      "cell_type": "code",
      "source": [
        "for (uid,artid), r_ui in list(zip(none_train_data.UA, none_train_data.Rate)):\n",
        "          R_svd_init.at[uid, artid] = 0"
      ],
      "execution_count": 0,
      "outputs": []
    },
    {
      "metadata": {
        "id": "m66jIlR-fDtj",
        "colab_type": "text"
      },
      "cell_type": "markdown",
      "source": [
        "Test if the data not in train_data has been replaced."
      ]
    },
    {
      "metadata": {
        "id": "rznNN5Y7fyxs",
        "colab_type": "text"
      },
      "cell_type": "markdown",
      "source": [
        "The value at (2,53) has been modified to 0 since (2,53) is NOT in train_data"
      ]
    },
    {
      "metadata": {
        "id": "J7wz8cHqfrxk",
        "colab_type": "code",
        "outputId": "39d6e7d2-1b24-4d0e-849b-e197953f9e3d",
        "colab": {
          "base_uri": "https://localhost:8080/",
          "height": 34
        }
      },
      "cell_type": "code",
      "source": [
        "R_svd_init.at[2, 53]  "
      ],
      "execution_count": 0,
      "outputs": [
        {
          "output_type": "execute_result",
          "data": {
            "text/plain": [
              "0.0"
            ]
          },
          "metadata": {
            "tags": []
          },
          "execution_count": 19
        }
      ]
    },
    {
      "metadata": {
        "id": "HzV9bm-cgoXD",
        "colab_type": "code",
        "outputId": "c5c153e8-4ba8-4748-9e16-165b73412f94",
        "colab": {
          "base_uri": "https://localhost:8080/",
          "height": 119
        }
      },
      "cell_type": "code",
      "source": [
        "none_train_data.UA.head()"
      ],
      "execution_count": 0,
      "outputs": [
        {
          "output_type": "execute_result",
          "data": {
            "text/plain": [
              "2     (2, 53)\n",
              "4     (2, 55)\n",
              "7     (2, 58)\n",
              "10    (2, 61)\n",
              "13    (2, 64)\n",
              "Name: UA, dtype: object"
            ]
          },
          "metadata": {
            "tags": []
          },
          "execution_count": 20
        }
      ]
    },
    {
      "metadata": {
        "id": "9ElfPRM3hZXw",
        "colab_type": "text"
      },
      "cell_type": "markdown",
      "source": [
        "The value at (2,51) has not been modified to 0 since (2,51) is in train_data"
      ]
    },
    {
      "metadata": {
        "id": "umjy9SHchdL2",
        "colab_type": "code",
        "outputId": "a630a417-4aa6-4f44-f27a-7f7c0596df23",
        "colab": {
          "base_uri": "https://localhost:8080/",
          "height": 34
        }
      },
      "cell_type": "code",
      "source": [
        "R_svd_init.at[2, 51]  "
      ],
      "execution_count": 0,
      "outputs": [
        {
          "output_type": "execute_result",
          "data": {
            "text/plain": [
              "1.3883"
            ]
          },
          "metadata": {
            "tags": []
          },
          "execution_count": 21
        }
      ]
    },
    {
      "metadata": {
        "id": "HDlFFA27hgsn",
        "colab_type": "code",
        "outputId": "59fa98e7-eef3-4f63-fec8-814f1c027aca",
        "colab": {
          "base_uri": "https://localhost:8080/",
          "height": 80
        }
      },
      "cell_type": "code",
      "source": [
        "train_data[train_data.UA==(2,51)]"
      ],
      "execution_count": 0,
      "outputs": [
        {
          "output_type": "execute_result",
          "data": {
            "text/html": [
              "<div>\n",
              "<style scoped>\n",
              "    .dataframe tbody tr th:only-of-type {\n",
              "        vertical-align: middle;\n",
              "    }\n",
              "\n",
              "    .dataframe tbody tr th {\n",
              "        vertical-align: top;\n",
              "    }\n",
              "\n",
              "    .dataframe thead th {\n",
              "        text-align: right;\n",
              "    }\n",
              "</style>\n",
              "<table border=\"1\" class=\"dataframe\">\n",
              "  <thead>\n",
              "    <tr style=\"text-align: right;\">\n",
              "      <th></th>\n",
              "      <th>UserID</th>\n",
              "      <th>ArtistID</th>\n",
              "      <th>Rate</th>\n",
              "      <th>UA</th>\n",
              "    </tr>\n",
              "  </thead>\n",
              "  <tbody>\n",
              "    <tr>\n",
              "      <th>0</th>\n",
              "      <td>2</td>\n",
              "      <td>51</td>\n",
              "      <td>1.3883</td>\n",
              "      <td>(2, 51)</td>\n",
              "    </tr>\n",
              "  </tbody>\n",
              "</table>\n",
              "</div>"
            ],
            "text/plain": [
              "   UserID  ArtistID    Rate       UA\n",
              "0       2        51  1.3883  (2, 51)"
            ]
          },
          "metadata": {
            "tags": []
          },
          "execution_count": 22
        }
      ]
    },
    {
      "metadata": {
        "id": "gfFqvn4siGHJ",
        "colab_type": "text"
      },
      "cell_type": "markdown",
      "source": [
        "Now we initialize the component matrices P and Q based on train_data. Remember the R_svd_init matrix only contains information of train_data."
      ]
    },
    {
      "metadata": {
        "id": "4emOctmziUtU",
        "colab_type": "code",
        "outputId": "404698be-e5b5-4201-9c32-2c5b9a576a4d",
        "colab": {
          "base_uri": "https://localhost:8080/",
          "height": 34
        }
      },
      "cell_type": "code",
      "source": [
        "t = time.time()\n",
        "R_svd_init_matrix = R_svd_init.as_matrix()\n",
        "from scipy.sparse.linalg import svds\n",
        "NUMBER_OF_FACTORS = 50\n",
        "U, sigma, V = svds(R_svd_init_matrix, k = NUMBER_OF_FACTORS)\n",
        "P = np.matmul(U,np.sqrt(np.diag(sigma)))\n",
        "Q = np.matmul(np.sqrt(np.diag(sigma)),V)\n",
        "elapsed = time.time()-t\n",
        "print(\"processed time is %.1f s\" % elapsed)"
      ],
      "execution_count": 0,
      "outputs": [
        {
          "output_type": "stream",
          "text": [
            "processed time is 8.6 s\n"
          ],
          "name": "stdout"
        }
      ]
    },
    {
      "metadata": {
        "id": "GrxVBUtPih7S",
        "colab_type": "text"
      },
      "cell_type": "markdown",
      "source": [
        "Save copies of P and Q."
      ]
    },
    {
      "metadata": {
        "id": "3XsvN9ntioij",
        "colab_type": "code",
        "colab": {}
      },
      "cell_type": "code",
      "source": [
        "P_Copy = P.copy()\n",
        "Q_Copy = Q.copy()"
      ],
      "execution_count": 0,
      "outputs": []
    },
    {
      "metadata": {
        "id": "K3AOl9FCiv-y",
        "colab_type": "text"
      },
      "cell_type": "markdown",
      "source": [
        "Construct the recommendation matrix from P and Q, called R0."
      ]
    },
    {
      "metadata": {
        "id": "Ui3AtBEQi4s5",
        "colab_type": "code",
        "outputId": "1731e31f-8ec6-47be-89e2-ef3b831e2bc6",
        "colab": {
          "base_uri": "https://localhost:8080/",
          "height": 369
        }
      },
      "cell_type": "code",
      "source": [
        "R0 = pd.DataFrame(data=np.matmul(P_Copy,Q_Copy),dtype=float,columns=np.sort(user_artists_majority.ArtistID.unique()))\n",
        "R0['UserID'] = np.sort(user_artists_majority.UserID.unique())\n",
        "cols = R0.columns.tolist()\n",
        "cols = cols[-1:] + cols[:-1]\n",
        "R0 = R0[cols].set_index('UserID')\n",
        "R0.head()"
      ],
      "execution_count": 0,
      "outputs": [
        {
          "output_type": "execute_result",
          "data": {
            "text/html": [
              "<div>\n",
              "<style scoped>\n",
              "    .dataframe tbody tr th:only-of-type {\n",
              "        vertical-align: middle;\n",
              "    }\n",
              "\n",
              "    .dataframe tbody tr th {\n",
              "        vertical-align: top;\n",
              "    }\n",
              "\n",
              "    .dataframe thead th {\n",
              "        text-align: right;\n",
              "    }\n",
              "</style>\n",
              "<table border=\"1\" class=\"dataframe\">\n",
              "  <thead>\n",
              "    <tr style=\"text-align: right;\">\n",
              "      <th></th>\n",
              "      <th>1</th>\n",
              "      <th>2</th>\n",
              "      <th>3</th>\n",
              "      <th>4</th>\n",
              "      <th>5</th>\n",
              "      <th>6</th>\n",
              "      <th>7</th>\n",
              "      <th>8</th>\n",
              "      <th>9</th>\n",
              "      <th>10</th>\n",
              "      <th>...</th>\n",
              "      <th>18736</th>\n",
              "      <th>18737</th>\n",
              "      <th>18738</th>\n",
              "      <th>18739</th>\n",
              "      <th>18740</th>\n",
              "      <th>18741</th>\n",
              "      <th>18742</th>\n",
              "      <th>18743</th>\n",
              "      <th>18744</th>\n",
              "      <th>18745</th>\n",
              "    </tr>\n",
              "    <tr>\n",
              "      <th>UserID</th>\n",
              "      <th></th>\n",
              "      <th></th>\n",
              "      <th></th>\n",
              "      <th></th>\n",
              "      <th></th>\n",
              "      <th></th>\n",
              "      <th></th>\n",
              "      <th></th>\n",
              "      <th></th>\n",
              "      <th></th>\n",
              "      <th></th>\n",
              "      <th></th>\n",
              "      <th></th>\n",
              "      <th></th>\n",
              "      <th></th>\n",
              "      <th></th>\n",
              "      <th></th>\n",
              "      <th></th>\n",
              "      <th></th>\n",
              "      <th></th>\n",
              "      <th></th>\n",
              "    </tr>\n",
              "  </thead>\n",
              "  <tbody>\n",
              "    <tr>\n",
              "      <th>2</th>\n",
              "      <td>-5.714411e-05</td>\n",
              "      <td>-8.468154e-06</td>\n",
              "      <td>-2.889242e-08</td>\n",
              "      <td>0.0</td>\n",
              "      <td>-2.231605e-05</td>\n",
              "      <td>-1.668987e-04</td>\n",
              "      <td>0.004073</td>\n",
              "      <td>-8.984354e-06</td>\n",
              "      <td>-5.109797e-04</td>\n",
              "      <td>-4.329410e-07</td>\n",
              "      <td>...</td>\n",
              "      <td>0.0</td>\n",
              "      <td>-6.051253e-07</td>\n",
              "      <td>-4.408770e-07</td>\n",
              "      <td>0.0</td>\n",
              "      <td>-3.457859e-07</td>\n",
              "      <td>0.0</td>\n",
              "      <td>0.0</td>\n",
              "      <td>0.0</td>\n",
              "      <td>-3.090461e-07</td>\n",
              "      <td>5.076018e-06</td>\n",
              "    </tr>\n",
              "    <tr>\n",
              "      <th>3</th>\n",
              "      <td>-2.852036e-09</td>\n",
              "      <td>2.399163e-08</td>\n",
              "      <td>1.214145e-10</td>\n",
              "      <td>0.0</td>\n",
              "      <td>1.866258e-08</td>\n",
              "      <td>4.571437e-08</td>\n",
              "      <td>0.000001</td>\n",
              "      <td>2.136604e-07</td>\n",
              "      <td>3.693935e-07</td>\n",
              "      <td>2.181458e-09</td>\n",
              "      <td>...</td>\n",
              "      <td>0.0</td>\n",
              "      <td>1.522301e-09</td>\n",
              "      <td>1.109105e-09</td>\n",
              "      <td>0.0</td>\n",
              "      <td>8.698863e-10</td>\n",
              "      <td>0.0</td>\n",
              "      <td>0.0</td>\n",
              "      <td>0.0</td>\n",
              "      <td>7.774609e-10</td>\n",
              "      <td>3.815592e-08</td>\n",
              "    </tr>\n",
              "    <tr>\n",
              "      <th>4</th>\n",
              "      <td>6.266569e-05</td>\n",
              "      <td>1.020025e-05</td>\n",
              "      <td>1.002129e-08</td>\n",
              "      <td>0.0</td>\n",
              "      <td>4.233396e-06</td>\n",
              "      <td>9.422825e-06</td>\n",
              "      <td>0.000092</td>\n",
              "      <td>-1.577129e-06</td>\n",
              "      <td>7.418232e-04</td>\n",
              "      <td>4.732593e-07</td>\n",
              "      <td>...</td>\n",
              "      <td>0.0</td>\n",
              "      <td>6.624041e-07</td>\n",
              "      <td>4.826087e-07</td>\n",
              "      <td>0.0</td>\n",
              "      <td>3.785166e-07</td>\n",
              "      <td>0.0</td>\n",
              "      <td>0.0</td>\n",
              "      <td>0.0</td>\n",
              "      <td>3.382992e-07</td>\n",
              "      <td>1.178174e-05</td>\n",
              "    </tr>\n",
              "    <tr>\n",
              "      <th>5</th>\n",
              "      <td>1.554788e-06</td>\n",
              "      <td>1.147693e-05</td>\n",
              "      <td>3.407899e-08</td>\n",
              "      <td>0.0</td>\n",
              "      <td>9.125044e-06</td>\n",
              "      <td>3.647488e-05</td>\n",
              "      <td>0.000334</td>\n",
              "      <td>4.432612e-05</td>\n",
              "      <td>1.914981e-04</td>\n",
              "      <td>6.364766e-07</td>\n",
              "      <td>...</td>\n",
              "      <td>0.0</td>\n",
              "      <td>6.353649e-07</td>\n",
              "      <td>4.629087e-07</td>\n",
              "      <td>0.0</td>\n",
              "      <td>3.630657e-07</td>\n",
              "      <td>0.0</td>\n",
              "      <td>0.0</td>\n",
              "      <td>0.0</td>\n",
              "      <td>3.244899e-07</td>\n",
              "      <td>2.027153e-05</td>\n",
              "    </tr>\n",
              "    <tr>\n",
              "      <th>6</th>\n",
              "      <td>-1.153957e-08</td>\n",
              "      <td>-2.101944e-07</td>\n",
              "      <td>-2.307123e-10</td>\n",
              "      <td>0.0</td>\n",
              "      <td>-1.416418e-07</td>\n",
              "      <td>-7.156654e-07</td>\n",
              "      <td>-0.000004</td>\n",
              "      <td>-4.760587e-08</td>\n",
              "      <td>-3.950208e-07</td>\n",
              "      <td>-1.579358e-08</td>\n",
              "      <td>...</td>\n",
              "      <td>0.0</td>\n",
              "      <td>-1.036271e-09</td>\n",
              "      <td>-7.549972e-10</td>\n",
              "      <td>0.0</td>\n",
              "      <td>-5.921546e-10</td>\n",
              "      <td>0.0</td>\n",
              "      <td>0.0</td>\n",
              "      <td>0.0</td>\n",
              "      <td>-5.292382e-10</td>\n",
              "      <td>-7.797641e-08</td>\n",
              "    </tr>\n",
              "  </tbody>\n",
              "</table>\n",
              "<p>5 rows × 17374 columns</p>\n",
              "</div>"
            ],
            "text/plain": [
              "               1             2             3      4             5      \\\n",
              "UserID                                                                  \n",
              "2      -5.714411e-05 -8.468154e-06 -2.889242e-08    0.0 -2.231605e-05   \n",
              "3      -2.852036e-09  2.399163e-08  1.214145e-10    0.0  1.866258e-08   \n",
              "4       6.266569e-05  1.020025e-05  1.002129e-08    0.0  4.233396e-06   \n",
              "5       1.554788e-06  1.147693e-05  3.407899e-08    0.0  9.125044e-06   \n",
              "6      -1.153957e-08 -2.101944e-07 -2.307123e-10    0.0 -1.416418e-07   \n",
              "\n",
              "               6         7             8             9             10     \\\n",
              "UserID                                                                     \n",
              "2      -1.668987e-04  0.004073 -8.984354e-06 -5.109797e-04 -4.329410e-07   \n",
              "3       4.571437e-08  0.000001  2.136604e-07  3.693935e-07  2.181458e-09   \n",
              "4       9.422825e-06  0.000092 -1.577129e-06  7.418232e-04  4.732593e-07   \n",
              "5       3.647488e-05  0.000334  4.432612e-05  1.914981e-04  6.364766e-07   \n",
              "6      -7.156654e-07 -0.000004 -4.760587e-08 -3.950208e-07 -1.579358e-08   \n",
              "\n",
              "            ...       18736         18737         18738  18739         18740  \\\n",
              "UserID      ...                                                                \n",
              "2           ...         0.0 -6.051253e-07 -4.408770e-07    0.0 -3.457859e-07   \n",
              "3           ...         0.0  1.522301e-09  1.109105e-09    0.0  8.698863e-10   \n",
              "4           ...         0.0  6.624041e-07  4.826087e-07    0.0  3.785166e-07   \n",
              "5           ...         0.0  6.353649e-07  4.629087e-07    0.0  3.630657e-07   \n",
              "6           ...         0.0 -1.036271e-09 -7.549972e-10    0.0 -5.921546e-10   \n",
              "\n",
              "        18741  18742  18743         18744         18745  \n",
              "UserID                                                   \n",
              "2         0.0    0.0    0.0 -3.090461e-07  5.076018e-06  \n",
              "3         0.0    0.0    0.0  7.774609e-10  3.815592e-08  \n",
              "4         0.0    0.0    0.0  3.382992e-07  1.178174e-05  \n",
              "5         0.0    0.0    0.0  3.244899e-07  2.027153e-05  \n",
              "6         0.0    0.0    0.0 -5.292382e-10 -7.797641e-08  \n",
              "\n",
              "[5 rows x 17374 columns]"
            ]
          },
          "metadata": {
            "tags": []
          },
          "execution_count": 27
        }
      ]
    },
    {
      "metadata": {
        "id": "wxHUlVdRjMd7",
        "colab_type": "text"
      },
      "cell_type": "markdown",
      "source": [
        "Store dataframe versions of  P and Q with index."
      ]
    },
    {
      "metadata": {
        "id": "7U6y460TjXyy",
        "colab_type": "code",
        "colab": {}
      },
      "cell_type": "code",
      "source": [
        "P = pd.DataFrame(data=P,dtype=float,index=R0.index)\n",
        "Q = pd.DataFrame(data=Q,dtype=float,columns=R0.columns)"
      ],
      "execution_count": 0,
      "outputs": []
    },
    {
      "metadata": {
        "id": "oVyag6jkjeLL",
        "colab_type": "code",
        "outputId": "b2a4d380-3dcb-4177-a6f9-74b4964bd3c9",
        "colab": {
          "base_uri": "https://localhost:8080/",
          "height": 369
        }
      },
      "cell_type": "code",
      "source": [
        "P.head()"
      ],
      "execution_count": 0,
      "outputs": [
        {
          "output_type": "execute_result",
          "data": {
            "text/html": [
              "<div>\n",
              "<style scoped>\n",
              "    .dataframe tbody tr th:only-of-type {\n",
              "        vertical-align: middle;\n",
              "    }\n",
              "\n",
              "    .dataframe tbody tr th {\n",
              "        vertical-align: top;\n",
              "    }\n",
              "\n",
              "    .dataframe thead th {\n",
              "        text-align: right;\n",
              "    }\n",
              "</style>\n",
              "<table border=\"1\" class=\"dataframe\">\n",
              "  <thead>\n",
              "    <tr style=\"text-align: right;\">\n",
              "      <th></th>\n",
              "      <th>0</th>\n",
              "      <th>1</th>\n",
              "      <th>2</th>\n",
              "      <th>3</th>\n",
              "      <th>4</th>\n",
              "      <th>5</th>\n",
              "      <th>6</th>\n",
              "      <th>7</th>\n",
              "      <th>8</th>\n",
              "      <th>9</th>\n",
              "      <th>...</th>\n",
              "      <th>40</th>\n",
              "      <th>41</th>\n",
              "      <th>42</th>\n",
              "      <th>43</th>\n",
              "      <th>44</th>\n",
              "      <th>45</th>\n",
              "      <th>46</th>\n",
              "      <th>47</th>\n",
              "      <th>48</th>\n",
              "      <th>49</th>\n",
              "    </tr>\n",
              "    <tr>\n",
              "      <th>UserID</th>\n",
              "      <th></th>\n",
              "      <th></th>\n",
              "      <th></th>\n",
              "      <th></th>\n",
              "      <th></th>\n",
              "      <th></th>\n",
              "      <th></th>\n",
              "      <th></th>\n",
              "      <th></th>\n",
              "      <th></th>\n",
              "      <th></th>\n",
              "      <th></th>\n",
              "      <th></th>\n",
              "      <th></th>\n",
              "      <th></th>\n",
              "      <th></th>\n",
              "      <th></th>\n",
              "      <th></th>\n",
              "      <th></th>\n",
              "      <th></th>\n",
              "      <th></th>\n",
              "    </tr>\n",
              "  </thead>\n",
              "  <tbody>\n",
              "    <tr>\n",
              "      <th>2</th>\n",
              "      <td>-0.003635</td>\n",
              "      <td>-1.144434e-04</td>\n",
              "      <td>-0.000656</td>\n",
              "      <td>0.006235</td>\n",
              "      <td>-0.000255</td>\n",
              "      <td>-0.005903</td>\n",
              "      <td>0.005652</td>\n",
              "      <td>0.025670</td>\n",
              "      <td>-0.010613</td>\n",
              "      <td>0.003093</td>\n",
              "      <td>...</td>\n",
              "      <td>2.855138e-04</td>\n",
              "      <td>2.389976e-04</td>\n",
              "      <td>3.636634e-02</td>\n",
              "      <td>-1.066153e-04</td>\n",
              "      <td>-8.033916e-04</td>\n",
              "      <td>4.901229e-03</td>\n",
              "      <td>-3.609294e-02</td>\n",
              "      <td>-4.310732e-03</td>\n",
              "      <td>2.289810e-05</td>\n",
              "      <td>-4.542762e-03</td>\n",
              "    </tr>\n",
              "    <tr>\n",
              "      <th>3</th>\n",
              "      <td>-0.000007</td>\n",
              "      <td>7.511523e-07</td>\n",
              "      <td>0.000012</td>\n",
              "      <td>0.000032</td>\n",
              "      <td>-0.000073</td>\n",
              "      <td>-0.000041</td>\n",
              "      <td>-0.000008</td>\n",
              "      <td>-0.000011</td>\n",
              "      <td>0.000004</td>\n",
              "      <td>0.000013</td>\n",
              "      <td>...</td>\n",
              "      <td>-1.467684e-08</td>\n",
              "      <td>1.361791e-06</td>\n",
              "      <td>3.103477e-08</td>\n",
              "      <td>-1.334519e-08</td>\n",
              "      <td>6.147931e-08</td>\n",
              "      <td>9.726551e-08</td>\n",
              "      <td>-1.426577e-07</td>\n",
              "      <td>-1.858570e-07</td>\n",
              "      <td>1.927478e-08</td>\n",
              "      <td>-6.454451e-09</td>\n",
              "    </tr>\n",
              "    <tr>\n",
              "      <th>4</th>\n",
              "      <td>-0.001614</td>\n",
              "      <td>-2.002709e-04</td>\n",
              "      <td>-0.003162</td>\n",
              "      <td>0.006448</td>\n",
              "      <td>-0.015996</td>\n",
              "      <td>-0.006991</td>\n",
              "      <td>-0.001889</td>\n",
              "      <td>-0.000072</td>\n",
              "      <td>-0.000502</td>\n",
              "      <td>-0.000752</td>\n",
              "      <td>...</td>\n",
              "      <td>-4.328403e-05</td>\n",
              "      <td>-4.326253e-05</td>\n",
              "      <td>-1.659315e-03</td>\n",
              "      <td>-6.279901e-05</td>\n",
              "      <td>-2.750566e-03</td>\n",
              "      <td>-1.189679e-02</td>\n",
              "      <td>-1.103034e-01</td>\n",
              "      <td>-1.534018e-03</td>\n",
              "      <td>1.619732e-05</td>\n",
              "      <td>-6.823619e-04</td>\n",
              "    </tr>\n",
              "    <tr>\n",
              "      <th>5</th>\n",
              "      <td>-0.004784</td>\n",
              "      <td>-2.305348e-04</td>\n",
              "      <td>-0.001812</td>\n",
              "      <td>0.014611</td>\n",
              "      <td>-0.028912</td>\n",
              "      <td>-0.015558</td>\n",
              "      <td>-0.003195</td>\n",
              "      <td>-0.004926</td>\n",
              "      <td>0.002901</td>\n",
              "      <td>0.003939</td>\n",
              "      <td>...</td>\n",
              "      <td>-3.464513e-05</td>\n",
              "      <td>2.935022e-04</td>\n",
              "      <td>8.672029e-05</td>\n",
              "      <td>-8.706369e-05</td>\n",
              "      <td>4.125154e-04</td>\n",
              "      <td>7.632759e-05</td>\n",
              "      <td>-6.906504e-04</td>\n",
              "      <td>-1.081303e-04</td>\n",
              "      <td>1.094327e-05</td>\n",
              "      <td>-3.024611e-05</td>\n",
              "    </tr>\n",
              "    <tr>\n",
              "      <th>6</th>\n",
              "      <td>-0.000170</td>\n",
              "      <td>1.854065e-06</td>\n",
              "      <td>0.000015</td>\n",
              "      <td>-0.000016</td>\n",
              "      <td>-0.000011</td>\n",
              "      <td>0.000071</td>\n",
              "      <td>-0.000049</td>\n",
              "      <td>0.000182</td>\n",
              "      <td>0.000074</td>\n",
              "      <td>-0.000081</td>\n",
              "      <td>...</td>\n",
              "      <td>2.651194e-08</td>\n",
              "      <td>1.835684e-08</td>\n",
              "      <td>-8.563902e-07</td>\n",
              "      <td>1.701462e-06</td>\n",
              "      <td>-5.099017e-06</td>\n",
              "      <td>2.017481e-05</td>\n",
              "      <td>-3.731967e-06</td>\n",
              "      <td>-1.003633e-05</td>\n",
              "      <td>1.343285e-08</td>\n",
              "      <td>-2.711616e-07</td>\n",
              "    </tr>\n",
              "  </tbody>\n",
              "</table>\n",
              "<p>5 rows × 50 columns</p>\n",
              "</div>"
            ],
            "text/plain": [
              "              0             1         2         3         4         5   \\\n",
              "UserID                                                                   \n",
              "2      -0.003635 -1.144434e-04 -0.000656  0.006235 -0.000255 -0.005903   \n",
              "3      -0.000007  7.511523e-07  0.000012  0.000032 -0.000073 -0.000041   \n",
              "4      -0.001614 -2.002709e-04 -0.003162  0.006448 -0.015996 -0.006991   \n",
              "5      -0.004784 -2.305348e-04 -0.001812  0.014611 -0.028912 -0.015558   \n",
              "6      -0.000170  1.854065e-06  0.000015 -0.000016 -0.000011  0.000071   \n",
              "\n",
              "              6         7         8         9       ...                 40  \\\n",
              "UserID                                              ...                      \n",
              "2       0.005652  0.025670 -0.010613  0.003093      ...       2.855138e-04   \n",
              "3      -0.000008 -0.000011  0.000004  0.000013      ...      -1.467684e-08   \n",
              "4      -0.001889 -0.000072 -0.000502 -0.000752      ...      -4.328403e-05   \n",
              "5      -0.003195 -0.004926  0.002901  0.003939      ...      -3.464513e-05   \n",
              "6      -0.000049  0.000182  0.000074 -0.000081      ...       2.651194e-08   \n",
              "\n",
              "                  41            42            43            44            45  \\\n",
              "UserID                                                                         \n",
              "2       2.389976e-04  3.636634e-02 -1.066153e-04 -8.033916e-04  4.901229e-03   \n",
              "3       1.361791e-06  3.103477e-08 -1.334519e-08  6.147931e-08  9.726551e-08   \n",
              "4      -4.326253e-05 -1.659315e-03 -6.279901e-05 -2.750566e-03 -1.189679e-02   \n",
              "5       2.935022e-04  8.672029e-05 -8.706369e-05  4.125154e-04  7.632759e-05   \n",
              "6       1.835684e-08 -8.563902e-07  1.701462e-06 -5.099017e-06  2.017481e-05   \n",
              "\n",
              "                  46            47            48            49  \n",
              "UserID                                                          \n",
              "2      -3.609294e-02 -4.310732e-03  2.289810e-05 -4.542762e-03  \n",
              "3      -1.426577e-07 -1.858570e-07  1.927478e-08 -6.454451e-09  \n",
              "4      -1.103034e-01 -1.534018e-03  1.619732e-05 -6.823619e-04  \n",
              "5      -6.906504e-04 -1.081303e-04  1.094327e-05 -3.024611e-05  \n",
              "6      -3.731967e-06 -1.003633e-05  1.343285e-08 -2.711616e-07  \n",
              "\n",
              "[5 rows x 50 columns]"
            ]
          },
          "metadata": {
            "tags": []
          },
          "execution_count": 29
        }
      ]
    },
    {
      "metadata": {
        "id": "1kAB6aZzjhE0",
        "colab_type": "code",
        "outputId": "6735bdfb-8fea-4dd5-eb7d-2fd627ac6d6b",
        "colab": {
          "base_uri": "https://localhost:8080/",
          "height": 338
        }
      },
      "cell_type": "code",
      "source": [
        "Q.head()"
      ],
      "execution_count": 0,
      "outputs": [
        {
          "output_type": "execute_result",
          "data": {
            "text/html": [
              "<div>\n",
              "<style scoped>\n",
              "    .dataframe tbody tr th:only-of-type {\n",
              "        vertical-align: middle;\n",
              "    }\n",
              "\n",
              "    .dataframe tbody tr th {\n",
              "        vertical-align: top;\n",
              "    }\n",
              "\n",
              "    .dataframe thead th {\n",
              "        text-align: right;\n",
              "    }\n",
              "</style>\n",
              "<table border=\"1\" class=\"dataframe\">\n",
              "  <thead>\n",
              "    <tr style=\"text-align: right;\">\n",
              "      <th></th>\n",
              "      <th>1</th>\n",
              "      <th>2</th>\n",
              "      <th>3</th>\n",
              "      <th>4</th>\n",
              "      <th>5</th>\n",
              "      <th>6</th>\n",
              "      <th>7</th>\n",
              "      <th>8</th>\n",
              "      <th>9</th>\n",
              "      <th>10</th>\n",
              "      <th>...</th>\n",
              "      <th>18736</th>\n",
              "      <th>18737</th>\n",
              "      <th>18738</th>\n",
              "      <th>18739</th>\n",
              "      <th>18740</th>\n",
              "      <th>18741</th>\n",
              "      <th>18742</th>\n",
              "      <th>18743</th>\n",
              "      <th>18744</th>\n",
              "      <th>18745</th>\n",
              "    </tr>\n",
              "  </thead>\n",
              "  <tbody>\n",
              "    <tr>\n",
              "      <th>0</th>\n",
              "      <td>0.000022</td>\n",
              "      <td>8.161663e-04</td>\n",
              "      <td>8.548840e-07</td>\n",
              "      <td>0.0</td>\n",
              "      <td>0.000466</td>\n",
              "      <td>0.002143</td>\n",
              "      <td>0.092973</td>\n",
              "      <td>0.001131</td>\n",
              "      <td>0.000372</td>\n",
              "      <td>8.668665e-05</td>\n",
              "      <td>...</td>\n",
              "      <td>0.0</td>\n",
              "      <td>-1.333880e-06</td>\n",
              "      <td>-9.718269e-07</td>\n",
              "      <td>0.0</td>\n",
              "      <td>-7.622172e-07</td>\n",
              "      <td>0.0</td>\n",
              "      <td>0.0</td>\n",
              "      <td>0.0</td>\n",
              "      <td>-6.812316e-07</td>\n",
              "      <td>-0.000148</td>\n",
              "    </tr>\n",
              "    <tr>\n",
              "      <th>1</th>\n",
              "      <td>0.000006</td>\n",
              "      <td>-3.221301e-06</td>\n",
              "      <td>1.104487e-08</td>\n",
              "      <td>0.0</td>\n",
              "      <td>-0.000003</td>\n",
              "      <td>-0.000018</td>\n",
              "      <td>-0.000185</td>\n",
              "      <td>0.000032</td>\n",
              "      <td>-0.000113</td>\n",
              "      <td>-2.070906e-07</td>\n",
              "      <td>...</td>\n",
              "      <td>0.0</td>\n",
              "      <td>-7.822778e-08</td>\n",
              "      <td>-5.699453e-08</td>\n",
              "      <td>0.0</td>\n",
              "      <td>-4.470159e-08</td>\n",
              "      <td>0.0</td>\n",
              "      <td>0.0</td>\n",
              "      <td>0.0</td>\n",
              "      <td>-3.995204e-08</td>\n",
              "      <td>-0.000008</td>\n",
              "    </tr>\n",
              "    <tr>\n",
              "      <th>2</th>\n",
              "      <td>0.000024</td>\n",
              "      <td>1.056511e-04</td>\n",
              "      <td>2.534261e-06</td>\n",
              "      <td>0.0</td>\n",
              "      <td>0.000068</td>\n",
              "      <td>0.000125</td>\n",
              "      <td>0.024976</td>\n",
              "      <td>0.007465</td>\n",
              "      <td>-0.000560</td>\n",
              "      <td>2.237172e-05</td>\n",
              "      <td>...</td>\n",
              "      <td>0.0</td>\n",
              "      <td>3.401319e-07</td>\n",
              "      <td>2.478104e-07</td>\n",
              "      <td>0.0</td>\n",
              "      <td>1.943611e-07</td>\n",
              "      <td>0.0</td>\n",
              "      <td>0.0</td>\n",
              "      <td>0.0</td>\n",
              "      <td>1.737102e-07</td>\n",
              "      <td>0.000031</td>\n",
              "    </tr>\n",
              "    <tr>\n",
              "      <th>3</th>\n",
              "      <td>-0.000297</td>\n",
              "      <td>3.709107e-07</td>\n",
              "      <td>6.056801e-07</td>\n",
              "      <td>0.0</td>\n",
              "      <td>0.000039</td>\n",
              "      <td>0.000263</td>\n",
              "      <td>0.004767</td>\n",
              "      <td>0.001058</td>\n",
              "      <td>0.001413</td>\n",
              "      <td>6.636449e-06</td>\n",
              "      <td>...</td>\n",
              "      <td>0.0</td>\n",
              "      <td>-1.479865e-05</td>\n",
              "      <td>-1.078187e-05</td>\n",
              "      <td>0.0</td>\n",
              "      <td>-8.456371e-06</td>\n",
              "      <td>0.0</td>\n",
              "      <td>0.0</td>\n",
              "      <td>0.0</td>\n",
              "      <td>-7.557881e-06</td>\n",
              "      <td>0.000040</td>\n",
              "    </tr>\n",
              "    <tr>\n",
              "      <th>4</th>\n",
              "      <td>-0.000079</td>\n",
              "      <td>-2.107457e-04</td>\n",
              "      <td>-8.382669e-07</td>\n",
              "      <td>0.0</td>\n",
              "      <td>-0.000069</td>\n",
              "      <td>-0.000233</td>\n",
              "      <td>-0.005533</td>\n",
              "      <td>-0.001330</td>\n",
              "      <td>-0.004498</td>\n",
              "      <td>-2.204030e-05</td>\n",
              "      <td>...</td>\n",
              "      <td>0.0</td>\n",
              "      <td>-1.985688e-05</td>\n",
              "      <td>-1.446716e-05</td>\n",
              "      <td>0.0</td>\n",
              "      <td>-1.134679e-05</td>\n",
              "      <td>0.0</td>\n",
              "      <td>0.0</td>\n",
              "      <td>0.0</td>\n",
              "      <td>-1.014119e-05</td>\n",
              "      <td>-0.000077</td>\n",
              "    </tr>\n",
              "  </tbody>\n",
              "</table>\n",
              "<p>5 rows × 17374 columns</p>\n",
              "</div>"
            ],
            "text/plain": [
              "      1             2             3      4         5         6         7      \\\n",
              "0  0.000022  8.161663e-04  8.548840e-07    0.0  0.000466  0.002143  0.092973   \n",
              "1  0.000006 -3.221301e-06  1.104487e-08    0.0 -0.000003 -0.000018 -0.000185   \n",
              "2  0.000024  1.056511e-04  2.534261e-06    0.0  0.000068  0.000125  0.024976   \n",
              "3 -0.000297  3.709107e-07  6.056801e-07    0.0  0.000039  0.000263  0.004767   \n",
              "4 -0.000079 -2.107457e-04 -8.382669e-07    0.0 -0.000069 -0.000233 -0.005533   \n",
              "\n",
              "      8         9             10       ...     18736         18737  \\\n",
              "0  0.001131  0.000372  8.668665e-05    ...       0.0 -1.333880e-06   \n",
              "1  0.000032 -0.000113 -2.070906e-07    ...       0.0 -7.822778e-08   \n",
              "2  0.007465 -0.000560  2.237172e-05    ...       0.0  3.401319e-07   \n",
              "3  0.001058  0.001413  6.636449e-06    ...       0.0 -1.479865e-05   \n",
              "4 -0.001330 -0.004498 -2.204030e-05    ...       0.0 -1.985688e-05   \n",
              "\n",
              "          18738  18739         18740  18741  18742  18743         18744  \\\n",
              "0 -9.718269e-07    0.0 -7.622172e-07    0.0    0.0    0.0 -6.812316e-07   \n",
              "1 -5.699453e-08    0.0 -4.470159e-08    0.0    0.0    0.0 -3.995204e-08   \n",
              "2  2.478104e-07    0.0  1.943611e-07    0.0    0.0    0.0  1.737102e-07   \n",
              "3 -1.078187e-05    0.0 -8.456371e-06    0.0    0.0    0.0 -7.557881e-06   \n",
              "4 -1.446716e-05    0.0 -1.134679e-05    0.0    0.0    0.0 -1.014119e-05   \n",
              "\n",
              "      18745  \n",
              "0 -0.000148  \n",
              "1 -0.000008  \n",
              "2  0.000031  \n",
              "3  0.000040  \n",
              "4 -0.000077  \n",
              "\n",
              "[5 rows x 17374 columns]"
            ]
          },
          "metadata": {
            "tags": []
          },
          "execution_count": 30
        }
      ]
    },
    {
      "metadata": {
        "id": "AaOWFaAMlgzx",
        "colab_type": "text"
      },
      "cell_type": "markdown",
      "source": [
        "Calculate the MSE of R0 against the train data."
      ]
    },
    {
      "metadata": {
        "id": "dmm1DQYGlkWl",
        "colab_type": "code",
        "outputId": "5089384b-5740-42a1-c2d3-8cc2758565f8",
        "colab": {
          "base_uri": "https://localhost:8080/",
          "height": 51
        }
      },
      "cell_type": "code",
      "source": [
        "t = time.time()\n",
        "MSE_R0_train = np.sum([(r_ui - R0.loc[uid,artid])**2 for (uid,artid), r_ui in list(zip(train_data.UA, train_data.Rate))])\n",
        "print(\"The MSE of R0 against the train_data is %.10f\" %MSE_R0_train)\n",
        "elapsed = time.time() - t\n",
        "print(\"Processed time: %.1f s\" % elapsed)"
      ],
      "execution_count": 0,
      "outputs": [
        {
          "output_type": "stream",
          "text": [
            "The MSE of R0 against the train_data is 644.4244722674\n",
            "Processed time: 0.7 s\n"
          ],
          "name": "stdout"
        }
      ]
    },
    {
      "metadata": {
        "colab_type": "text",
        "id": "NpNLw7W6l3Rd"
      },
      "cell_type": "markdown",
      "source": [
        "Calculate the MSE of R0 against the validation data."
      ]
    },
    {
      "metadata": {
        "id": "xDQL4mCSmCNL",
        "colab_type": "code",
        "outputId": "81d89310-5a49-472a-ca72-398588eacd84",
        "colab": {
          "base_uri": "https://localhost:8080/",
          "height": 51
        }
      },
      "cell_type": "code",
      "source": [
        "t = time.time()\n",
        "MSE_R0_validation = np.sum([(r_ui - R0.loc[uid,artid])**2 for (uid,artid), r_ui in list(zip(validation_data.UA, validation_data.Rate))])\n",
        "print(\"The MSE of R0 against the validation_data is %.10f\" %MSE_R0_validation)\n",
        "elapsed = time.time() - t\n",
        "print(\"Processed time: %.1f s\" % elapsed)"
      ],
      "execution_count": 0,
      "outputs": [
        {
          "output_type": "stream",
          "text": [
            "The MSE of R0 against the validation_data is 3919.7429054224\n",
            "Processed time: 0.2 s\n"
          ],
          "name": "stdout"
        }
      ]
    },
    {
      "metadata": {
        "id": "SXE_IKnhkufs",
        "colab_type": "text"
      },
      "cell_type": "markdown",
      "source": [
        "Calculate the MSE of R0 against the test data."
      ]
    },
    {
      "metadata": {
        "id": "faTTdwJAk0Ew",
        "colab_type": "code",
        "outputId": "81dd6538-1cae-4372-c69e-c6015a1577f6",
        "colab": {
          "base_uri": "https://localhost:8080/",
          "height": 51
        }
      },
      "cell_type": "code",
      "source": [
        "t = time.time()\n",
        "MSE_R0_test = np.sum([(r_ui - R0.loc[uid,artid])**2 for (uid,artid), r_ui in list(zip(test_data.UA, test_data.Rate))])\n",
        "print(\"The MSE of R0 against the test_data is %.10f\" %MSE_R0_test)\n",
        "elapsed = time.time() - t\n",
        "print(\"Processed time: %.1f s\" % elapsed)"
      ],
      "execution_count": 0,
      "outputs": [
        {
          "output_type": "stream",
          "text": [
            "The MSE of R0 against the test_data is 2379.8144425020\n",
            "Processed time: 0.2 s\n"
          ],
          "name": "stdout"
        }
      ]
    },
    {
      "metadata": {
        "id": "9bJFQ7LfjwC5",
        "colab_type": "text"
      },
      "cell_type": "markdown",
      "source": [
        "Calculate the MSE of R0 against the none_test data."
      ]
    },
    {
      "metadata": {
        "id": "L-uBXnBJj4u1",
        "colab_type": "code",
        "outputId": "65f07565-a73a-420f-e4f1-b44f538e4700",
        "colab": {
          "base_uri": "https://localhost:8080/",
          "height": 51
        }
      },
      "cell_type": "code",
      "source": [
        "t = time.time()\n",
        "MSE_R0_none_test = np.sum([(r_ui - R0.loc[uid,artid])**2 for (uid,artid), r_ui in list(zip(none_test_data.UA, none_test_data.Rate))])\n",
        "print(\"The MSE of R0 against the none_test_data is %.10f\" % MSE_R0_none_test)\n",
        "elapsed = time.time() - t\n",
        "print(\"Processed time: %.1f s\" % elapsed)"
      ],
      "execution_count": 0,
      "outputs": [
        {
          "output_type": "stream",
          "text": [
            "The MSE of R0 against the none_test_data is 4564.1673776898\n",
            "Processed time: 0.9 s\n"
          ],
          "name": "stdout"
        }
      ]
    },
    {
      "metadata": {
        "id": "69GO8lZUmuaI",
        "colab_type": "text"
      },
      "cell_type": "markdown",
      "source": [
        "Apply SGD to minimize the MSE against the train_data."
      ]
    },
    {
      "metadata": {
        "id": "88YmDZT8m55Y",
        "colab_type": "code",
        "outputId": "286353c1-0b48-444b-c3fc-0eb9f7a18739",
        "colab": {
          "base_uri": "https://localhost:8080/",
          "height": 34
        }
      },
      "cell_type": "code",
      "source": [
        "t = time.time()\n",
        "steps = 1\n",
        "for _ in range(steps):# Rounds of iterations. We expect each round to reduce the MSE. \n",
        "    for (uid,artid), r_ui in list(zip(train_data.UA, train_data.Rate)):                  \n",
        "      err = r_ui-Q.loc[:,artid]*P.loc[uid,:]#This is the negative of the scaled gradient\n",
        "      # Update vectors p_u and q_i\n",
        "      P.loc[uid,:] = P.loc[uid,:]+0.0000001*err*Q.loc[:,artid]\n",
        "      Q.loc[:,artid] = Q.loc[:,artid]+0.0000001*err*P.loc[uid,:]\n",
        "\n",
        "elapsed = time.time() - t\n",
        "print(\"Processed time: %.1f s\" % elapsed)"
      ],
      "execution_count": 0,
      "outputs": [
        {
          "output_type": "stream",
          "text": [
            "Processed time: 105.1 s\n"
          ],
          "name": "stdout"
        }
      ]
    },
    {
      "metadata": {
        "id": "lhtSy5QPnfUO",
        "colab_type": "code",
        "outputId": "55d7e026-1f95-4f71-d0ac-eded526858b2",
        "colab": {
          "base_uri": "https://localhost:8080/",
          "height": 369
        }
      },
      "cell_type": "code",
      "source": [
        "P.head()"
      ],
      "execution_count": 0,
      "outputs": [
        {
          "output_type": "execute_result",
          "data": {
            "text/html": [
              "<div>\n",
              "<style scoped>\n",
              "    .dataframe tbody tr th:only-of-type {\n",
              "        vertical-align: middle;\n",
              "    }\n",
              "\n",
              "    .dataframe tbody tr th {\n",
              "        vertical-align: top;\n",
              "    }\n",
              "\n",
              "    .dataframe thead th {\n",
              "        text-align: right;\n",
              "    }\n",
              "</style>\n",
              "<table border=\"1\" class=\"dataframe\">\n",
              "  <thead>\n",
              "    <tr style=\"text-align: right;\">\n",
              "      <th></th>\n",
              "      <th>0</th>\n",
              "      <th>1</th>\n",
              "      <th>2</th>\n",
              "      <th>3</th>\n",
              "      <th>4</th>\n",
              "      <th>5</th>\n",
              "      <th>6</th>\n",
              "      <th>7</th>\n",
              "      <th>8</th>\n",
              "      <th>9</th>\n",
              "      <th>...</th>\n",
              "      <th>40</th>\n",
              "      <th>41</th>\n",
              "      <th>42</th>\n",
              "      <th>43</th>\n",
              "      <th>44</th>\n",
              "      <th>45</th>\n",
              "      <th>46</th>\n",
              "      <th>47</th>\n",
              "      <th>48</th>\n",
              "      <th>49</th>\n",
              "    </tr>\n",
              "    <tr>\n",
              "      <th>UserID</th>\n",
              "      <th></th>\n",
              "      <th></th>\n",
              "      <th></th>\n",
              "      <th></th>\n",
              "      <th></th>\n",
              "      <th></th>\n",
              "      <th></th>\n",
              "      <th></th>\n",
              "      <th></th>\n",
              "      <th></th>\n",
              "      <th></th>\n",
              "      <th></th>\n",
              "      <th></th>\n",
              "      <th></th>\n",
              "      <th></th>\n",
              "      <th></th>\n",
              "      <th></th>\n",
              "      <th></th>\n",
              "      <th></th>\n",
              "      <th></th>\n",
              "      <th></th>\n",
              "    </tr>\n",
              "  </thead>\n",
              "  <tbody>\n",
              "    <tr>\n",
              "      <th>2</th>\n",
              "      <td>-0.003635</td>\n",
              "      <td>-1.144434e-04</td>\n",
              "      <td>-0.000656</td>\n",
              "      <td>0.006235</td>\n",
              "      <td>-0.000255</td>\n",
              "      <td>-0.005903</td>\n",
              "      <td>0.005652</td>\n",
              "      <td>0.025670</td>\n",
              "      <td>-0.010613</td>\n",
              "      <td>0.003093</td>\n",
              "      <td>...</td>\n",
              "      <td>2.855142e-04</td>\n",
              "      <td>2.389979e-04</td>\n",
              "      <td>3.636635e-02</td>\n",
              "      <td>-1.066155e-04</td>\n",
              "      <td>-8.033930e-04</td>\n",
              "      <td>4.901238e-03</td>\n",
              "      <td>-3.609301e-02</td>\n",
              "      <td>-4.310741e-03</td>\n",
              "      <td>2.289816e-05</td>\n",
              "      <td>-4.542777e-03</td>\n",
              "    </tr>\n",
              "    <tr>\n",
              "      <th>3</th>\n",
              "      <td>-0.000007</td>\n",
              "      <td>7.511526e-07</td>\n",
              "      <td>0.000012</td>\n",
              "      <td>0.000032</td>\n",
              "      <td>-0.000073</td>\n",
              "      <td>-0.000041</td>\n",
              "      <td>-0.000008</td>\n",
              "      <td>-0.000011</td>\n",
              "      <td>0.000004</td>\n",
              "      <td>0.000013</td>\n",
              "      <td>...</td>\n",
              "      <td>-1.467687e-08</td>\n",
              "      <td>1.361793e-06</td>\n",
              "      <td>3.103482e-08</td>\n",
              "      <td>-1.334521e-08</td>\n",
              "      <td>6.147942e-08</td>\n",
              "      <td>9.726569e-08</td>\n",
              "      <td>-1.426580e-07</td>\n",
              "      <td>-1.858574e-07</td>\n",
              "      <td>1.927483e-08</td>\n",
              "      <td>-6.454472e-09</td>\n",
              "    </tr>\n",
              "    <tr>\n",
              "      <th>4</th>\n",
              "      <td>-0.001614</td>\n",
              "      <td>-2.002709e-04</td>\n",
              "      <td>-0.003162</td>\n",
              "      <td>0.006448</td>\n",
              "      <td>-0.015996</td>\n",
              "      <td>-0.006991</td>\n",
              "      <td>-0.001889</td>\n",
              "      <td>-0.000072</td>\n",
              "      <td>-0.000502</td>\n",
              "      <td>-0.000752</td>\n",
              "      <td>...</td>\n",
              "      <td>-4.328409e-05</td>\n",
              "      <td>-4.326260e-05</td>\n",
              "      <td>-1.659317e-03</td>\n",
              "      <td>-6.279912e-05</td>\n",
              "      <td>-2.750571e-03</td>\n",
              "      <td>-1.189682e-02</td>\n",
              "      <td>-1.103034e-01</td>\n",
              "      <td>-1.534021e-03</td>\n",
              "      <td>1.619736e-05</td>\n",
              "      <td>-6.823641e-04</td>\n",
              "    </tr>\n",
              "    <tr>\n",
              "      <th>5</th>\n",
              "      <td>-0.004784</td>\n",
              "      <td>-2.305349e-04</td>\n",
              "      <td>-0.001812</td>\n",
              "      <td>0.014611</td>\n",
              "      <td>-0.028912</td>\n",
              "      <td>-0.015558</td>\n",
              "      <td>-0.003195</td>\n",
              "      <td>-0.004926</td>\n",
              "      <td>0.002901</td>\n",
              "      <td>0.003939</td>\n",
              "      <td>...</td>\n",
              "      <td>-3.464518e-05</td>\n",
              "      <td>2.935026e-04</td>\n",
              "      <td>8.672042e-05</td>\n",
              "      <td>-8.706384e-05</td>\n",
              "      <td>4.125162e-04</td>\n",
              "      <td>7.632773e-05</td>\n",
              "      <td>-6.906517e-04</td>\n",
              "      <td>-1.081306e-04</td>\n",
              "      <td>1.094330e-05</td>\n",
              "      <td>-3.024620e-05</td>\n",
              "    </tr>\n",
              "    <tr>\n",
              "      <th>6</th>\n",
              "      <td>-0.000170</td>\n",
              "      <td>1.854066e-06</td>\n",
              "      <td>0.000015</td>\n",
              "      <td>-0.000016</td>\n",
              "      <td>-0.000011</td>\n",
              "      <td>0.000071</td>\n",
              "      <td>-0.000049</td>\n",
              "      <td>0.000182</td>\n",
              "      <td>0.000074</td>\n",
              "      <td>-0.000081</td>\n",
              "      <td>...</td>\n",
              "      <td>2.651198e-08</td>\n",
              "      <td>1.835686e-08</td>\n",
              "      <td>-8.563915e-07</td>\n",
              "      <td>1.701465e-06</td>\n",
              "      <td>-5.099026e-06</td>\n",
              "      <td>2.017485e-05</td>\n",
              "      <td>-3.731974e-06</td>\n",
              "      <td>-1.003636e-05</td>\n",
              "      <td>1.343288e-08</td>\n",
              "      <td>-2.711624e-07</td>\n",
              "    </tr>\n",
              "  </tbody>\n",
              "</table>\n",
              "<p>5 rows × 50 columns</p>\n",
              "</div>"
            ],
            "text/plain": [
              "              0             1         2         3         4         5   \\\n",
              "UserID                                                                   \n",
              "2      -0.003635 -1.144434e-04 -0.000656  0.006235 -0.000255 -0.005903   \n",
              "3      -0.000007  7.511526e-07  0.000012  0.000032 -0.000073 -0.000041   \n",
              "4      -0.001614 -2.002709e-04 -0.003162  0.006448 -0.015996 -0.006991   \n",
              "5      -0.004784 -2.305349e-04 -0.001812  0.014611 -0.028912 -0.015558   \n",
              "6      -0.000170  1.854066e-06  0.000015 -0.000016 -0.000011  0.000071   \n",
              "\n",
              "              6         7         8         9       ...                 40  \\\n",
              "UserID                                              ...                      \n",
              "2       0.005652  0.025670 -0.010613  0.003093      ...       2.855142e-04   \n",
              "3      -0.000008 -0.000011  0.000004  0.000013      ...      -1.467687e-08   \n",
              "4      -0.001889 -0.000072 -0.000502 -0.000752      ...      -4.328409e-05   \n",
              "5      -0.003195 -0.004926  0.002901  0.003939      ...      -3.464518e-05   \n",
              "6      -0.000049  0.000182  0.000074 -0.000081      ...       2.651198e-08   \n",
              "\n",
              "                  41            42            43            44            45  \\\n",
              "UserID                                                                         \n",
              "2       2.389979e-04  3.636635e-02 -1.066155e-04 -8.033930e-04  4.901238e-03   \n",
              "3       1.361793e-06  3.103482e-08 -1.334521e-08  6.147942e-08  9.726569e-08   \n",
              "4      -4.326260e-05 -1.659317e-03 -6.279912e-05 -2.750571e-03 -1.189682e-02   \n",
              "5       2.935026e-04  8.672042e-05 -8.706384e-05  4.125162e-04  7.632773e-05   \n",
              "6       1.835686e-08 -8.563915e-07  1.701465e-06 -5.099026e-06  2.017485e-05   \n",
              "\n",
              "                  46            47            48            49  \n",
              "UserID                                                          \n",
              "2      -3.609301e-02 -4.310741e-03  2.289816e-05 -4.542777e-03  \n",
              "3      -1.426580e-07 -1.858574e-07  1.927483e-08 -6.454472e-09  \n",
              "4      -1.103034e-01 -1.534021e-03  1.619736e-05 -6.823641e-04  \n",
              "5      -6.906517e-04 -1.081306e-04  1.094330e-05 -3.024620e-05  \n",
              "6      -3.731974e-06 -1.003636e-05  1.343288e-08 -2.711624e-07  \n",
              "\n",
              "[5 rows x 50 columns]"
            ]
          },
          "metadata": {
            "tags": []
          },
          "execution_count": 36
        }
      ]
    },
    {
      "metadata": {
        "id": "oI9jANt5njaE",
        "colab_type": "code",
        "outputId": "d51f1787-a0b6-4992-8d66-61d4b58aa34a",
        "colab": {
          "base_uri": "https://localhost:8080/",
          "height": 338
        }
      },
      "cell_type": "code",
      "source": [
        "Q.head()"
      ],
      "execution_count": 0,
      "outputs": [
        {
          "output_type": "execute_result",
          "data": {
            "text/html": [
              "<div>\n",
              "<style scoped>\n",
              "    .dataframe tbody tr th:only-of-type {\n",
              "        vertical-align: middle;\n",
              "    }\n",
              "\n",
              "    .dataframe tbody tr th {\n",
              "        vertical-align: top;\n",
              "    }\n",
              "\n",
              "    .dataframe thead th {\n",
              "        text-align: right;\n",
              "    }\n",
              "</style>\n",
              "<table border=\"1\" class=\"dataframe\">\n",
              "  <thead>\n",
              "    <tr style=\"text-align: right;\">\n",
              "      <th></th>\n",
              "      <th>1</th>\n",
              "      <th>2</th>\n",
              "      <th>3</th>\n",
              "      <th>4</th>\n",
              "      <th>5</th>\n",
              "      <th>6</th>\n",
              "      <th>7</th>\n",
              "      <th>8</th>\n",
              "      <th>9</th>\n",
              "      <th>10</th>\n",
              "      <th>...</th>\n",
              "      <th>18736</th>\n",
              "      <th>18737</th>\n",
              "      <th>18738</th>\n",
              "      <th>18739</th>\n",
              "      <th>18740</th>\n",
              "      <th>18741</th>\n",
              "      <th>18742</th>\n",
              "      <th>18743</th>\n",
              "      <th>18744</th>\n",
              "      <th>18745</th>\n",
              "    </tr>\n",
              "  </thead>\n",
              "  <tbody>\n",
              "    <tr>\n",
              "      <th>0</th>\n",
              "      <td>0.000022</td>\n",
              "      <td>8.161666e-04</td>\n",
              "      <td>8.548843e-07</td>\n",
              "      <td>0.0</td>\n",
              "      <td>0.000466</td>\n",
              "      <td>0.002143</td>\n",
              "      <td>0.092973</td>\n",
              "      <td>0.001131</td>\n",
              "      <td>0.000372</td>\n",
              "      <td>8.668668e-05</td>\n",
              "      <td>...</td>\n",
              "      <td>0.0</td>\n",
              "      <td>-1.333881e-06</td>\n",
              "      <td>-9.718273e-07</td>\n",
              "      <td>0.0</td>\n",
              "      <td>-7.622175e-07</td>\n",
              "      <td>0.0</td>\n",
              "      <td>0.0</td>\n",
              "      <td>0.0</td>\n",
              "      <td>-6.812318e-07</td>\n",
              "      <td>-0.000148</td>\n",
              "    </tr>\n",
              "    <tr>\n",
              "      <th>1</th>\n",
              "      <td>0.000006</td>\n",
              "      <td>-3.221302e-06</td>\n",
              "      <td>1.104487e-08</td>\n",
              "      <td>0.0</td>\n",
              "      <td>-0.000003</td>\n",
              "      <td>-0.000018</td>\n",
              "      <td>-0.000185</td>\n",
              "      <td>0.000032</td>\n",
              "      <td>-0.000113</td>\n",
              "      <td>-2.070906e-07</td>\n",
              "      <td>...</td>\n",
              "      <td>0.0</td>\n",
              "      <td>-7.822781e-08</td>\n",
              "      <td>-5.699455e-08</td>\n",
              "      <td>0.0</td>\n",
              "      <td>-4.470161e-08</td>\n",
              "      <td>0.0</td>\n",
              "      <td>0.0</td>\n",
              "      <td>0.0</td>\n",
              "      <td>-3.995206e-08</td>\n",
              "      <td>-0.000008</td>\n",
              "    </tr>\n",
              "    <tr>\n",
              "      <th>2</th>\n",
              "      <td>0.000024</td>\n",
              "      <td>1.056511e-04</td>\n",
              "      <td>2.534262e-06</td>\n",
              "      <td>0.0</td>\n",
              "      <td>0.000068</td>\n",
              "      <td>0.000125</td>\n",
              "      <td>0.024976</td>\n",
              "      <td>0.007465</td>\n",
              "      <td>-0.000560</td>\n",
              "      <td>2.237173e-05</td>\n",
              "      <td>...</td>\n",
              "      <td>0.0</td>\n",
              "      <td>3.401320e-07</td>\n",
              "      <td>2.478105e-07</td>\n",
              "      <td>0.0</td>\n",
              "      <td>1.943612e-07</td>\n",
              "      <td>0.0</td>\n",
              "      <td>0.0</td>\n",
              "      <td>0.0</td>\n",
              "      <td>1.737103e-07</td>\n",
              "      <td>0.000031</td>\n",
              "    </tr>\n",
              "    <tr>\n",
              "      <th>3</th>\n",
              "      <td>-0.000297</td>\n",
              "      <td>3.709108e-07</td>\n",
              "      <td>6.056804e-07</td>\n",
              "      <td>0.0</td>\n",
              "      <td>0.000039</td>\n",
              "      <td>0.000263</td>\n",
              "      <td>0.004767</td>\n",
              "      <td>0.001058</td>\n",
              "      <td>0.001413</td>\n",
              "      <td>6.636451e-06</td>\n",
              "      <td>...</td>\n",
              "      <td>0.0</td>\n",
              "      <td>-1.479865e-05</td>\n",
              "      <td>-1.078188e-05</td>\n",
              "      <td>0.0</td>\n",
              "      <td>-8.456374e-06</td>\n",
              "      <td>0.0</td>\n",
              "      <td>0.0</td>\n",
              "      <td>0.0</td>\n",
              "      <td>-7.557884e-06</td>\n",
              "      <td>0.000040</td>\n",
              "    </tr>\n",
              "    <tr>\n",
              "      <th>4</th>\n",
              "      <td>-0.000079</td>\n",
              "      <td>-2.107458e-04</td>\n",
              "      <td>-8.382672e-07</td>\n",
              "      <td>0.0</td>\n",
              "      <td>-0.000069</td>\n",
              "      <td>-0.000233</td>\n",
              "      <td>-0.005533</td>\n",
              "      <td>-0.001330</td>\n",
              "      <td>-0.004498</td>\n",
              "      <td>-2.204031e-05</td>\n",
              "      <td>...</td>\n",
              "      <td>0.0</td>\n",
              "      <td>-1.985689e-05</td>\n",
              "      <td>-1.446716e-05</td>\n",
              "      <td>0.0</td>\n",
              "      <td>-1.134679e-05</td>\n",
              "      <td>0.0</td>\n",
              "      <td>0.0</td>\n",
              "      <td>0.0</td>\n",
              "      <td>-1.014120e-05</td>\n",
              "      <td>-0.000077</td>\n",
              "    </tr>\n",
              "  </tbody>\n",
              "</table>\n",
              "<p>5 rows × 17374 columns</p>\n",
              "</div>"
            ],
            "text/plain": [
              "      1             2             3      4         5         6         7      \\\n",
              "0  0.000022  8.161666e-04  8.548843e-07    0.0  0.000466  0.002143  0.092973   \n",
              "1  0.000006 -3.221302e-06  1.104487e-08    0.0 -0.000003 -0.000018 -0.000185   \n",
              "2  0.000024  1.056511e-04  2.534262e-06    0.0  0.000068  0.000125  0.024976   \n",
              "3 -0.000297  3.709108e-07  6.056804e-07    0.0  0.000039  0.000263  0.004767   \n",
              "4 -0.000079 -2.107458e-04 -8.382672e-07    0.0 -0.000069 -0.000233 -0.005533   \n",
              "\n",
              "      8         9             10       ...     18736         18737  \\\n",
              "0  0.001131  0.000372  8.668668e-05    ...       0.0 -1.333881e-06   \n",
              "1  0.000032 -0.000113 -2.070906e-07    ...       0.0 -7.822781e-08   \n",
              "2  0.007465 -0.000560  2.237173e-05    ...       0.0  3.401320e-07   \n",
              "3  0.001058  0.001413  6.636451e-06    ...       0.0 -1.479865e-05   \n",
              "4 -0.001330 -0.004498 -2.204031e-05    ...       0.0 -1.985689e-05   \n",
              "\n",
              "          18738  18739         18740  18741  18742  18743         18744  \\\n",
              "0 -9.718273e-07    0.0 -7.622175e-07    0.0    0.0    0.0 -6.812318e-07   \n",
              "1 -5.699455e-08    0.0 -4.470161e-08    0.0    0.0    0.0 -3.995206e-08   \n",
              "2  2.478105e-07    0.0  1.943612e-07    0.0    0.0    0.0  1.737103e-07   \n",
              "3 -1.078188e-05    0.0 -8.456374e-06    0.0    0.0    0.0 -7.557884e-06   \n",
              "4 -1.446716e-05    0.0 -1.134679e-05    0.0    0.0    0.0 -1.014120e-05   \n",
              "\n",
              "      18745  \n",
              "0 -0.000148  \n",
              "1 -0.000008  \n",
              "2  0.000031  \n",
              "3  0.000040  \n",
              "4 -0.000077  \n",
              "\n",
              "[5 rows x 17374 columns]"
            ]
          },
          "metadata": {
            "tags": []
          },
          "execution_count": 37
        }
      ]
    },
    {
      "metadata": {
        "id": "6l7grTzCn1X4",
        "colab_type": "text"
      },
      "cell_type": "markdown",
      "source": [
        "Get the new recommendation matrix R."
      ]
    },
    {
      "metadata": {
        "id": "haB1yuCunlYu",
        "colab_type": "code",
        "colab": {}
      },
      "cell_type": "code",
      "source": [
        "R = pd.DataFrame(data=np.matmul(P,Q),dtype=float,columns=np.sort(user_artists_majority.ArtistID.unique()))\n",
        "R['UserID'] = np.sort(user_artists_majority.UserID.unique())\n",
        "cols = R.columns.tolist()\n",
        "cols = cols[-1:] + cols[:-1]\n",
        "R = R[cols].set_index('UserID')"
      ],
      "execution_count": 0,
      "outputs": []
    },
    {
      "metadata": {
        "id": "VbDWRmpVtt2t",
        "colab_type": "code",
        "outputId": "f7995eb6-b4bd-447d-b349-94c956b3f3ba",
        "colab": {
          "base_uri": "https://localhost:8080/",
          "height": 369
        }
      },
      "cell_type": "code",
      "source": [
        "R.head()"
      ],
      "execution_count": 0,
      "outputs": [
        {
          "output_type": "execute_result",
          "data": {
            "text/html": [
              "<div>\n",
              "<style scoped>\n",
              "    .dataframe tbody tr th:only-of-type {\n",
              "        vertical-align: middle;\n",
              "    }\n",
              "\n",
              "    .dataframe tbody tr th {\n",
              "        vertical-align: top;\n",
              "    }\n",
              "\n",
              "    .dataframe thead th {\n",
              "        text-align: right;\n",
              "    }\n",
              "</style>\n",
              "<table border=\"1\" class=\"dataframe\">\n",
              "  <thead>\n",
              "    <tr style=\"text-align: right;\">\n",
              "      <th></th>\n",
              "      <th>1</th>\n",
              "      <th>2</th>\n",
              "      <th>3</th>\n",
              "      <th>4</th>\n",
              "      <th>5</th>\n",
              "      <th>6</th>\n",
              "      <th>7</th>\n",
              "      <th>8</th>\n",
              "      <th>9</th>\n",
              "      <th>10</th>\n",
              "      <th>...</th>\n",
              "      <th>18736</th>\n",
              "      <th>18737</th>\n",
              "      <th>18738</th>\n",
              "      <th>18739</th>\n",
              "      <th>18740</th>\n",
              "      <th>18741</th>\n",
              "      <th>18742</th>\n",
              "      <th>18743</th>\n",
              "      <th>18744</th>\n",
              "      <th>18745</th>\n",
              "    </tr>\n",
              "    <tr>\n",
              "      <th>UserID</th>\n",
              "      <th></th>\n",
              "      <th></th>\n",
              "      <th></th>\n",
              "      <th></th>\n",
              "      <th></th>\n",
              "      <th></th>\n",
              "      <th></th>\n",
              "      <th></th>\n",
              "      <th></th>\n",
              "      <th></th>\n",
              "      <th></th>\n",
              "      <th></th>\n",
              "      <th></th>\n",
              "      <th></th>\n",
              "      <th></th>\n",
              "      <th></th>\n",
              "      <th></th>\n",
              "      <th></th>\n",
              "      <th></th>\n",
              "      <th></th>\n",
              "      <th></th>\n",
              "    </tr>\n",
              "  </thead>\n",
              "  <tbody>\n",
              "    <tr>\n",
              "      <th>2</th>\n",
              "      <td>-5.714413e-05</td>\n",
              "      <td>-8.468160e-06</td>\n",
              "      <td>-2.889240e-08</td>\n",
              "      <td>0.0</td>\n",
              "      <td>-2.231607e-05</td>\n",
              "      <td>-1.668989e-04</td>\n",
              "      <td>0.004073</td>\n",
              "      <td>-8.984222e-06</td>\n",
              "      <td>-5.109799e-04</td>\n",
              "      <td>-4.329414e-07</td>\n",
              "      <td>...</td>\n",
              "      <td>0.0</td>\n",
              "      <td>-6.051259e-07</td>\n",
              "      <td>-4.408774e-07</td>\n",
              "      <td>0.0</td>\n",
              "      <td>-3.457862e-07</td>\n",
              "      <td>0.0</td>\n",
              "      <td>0.0</td>\n",
              "      <td>0.0</td>\n",
              "      <td>-3.090464e-07</td>\n",
              "      <td>5.076018e-06</td>\n",
              "    </tr>\n",
              "    <tr>\n",
              "      <th>3</th>\n",
              "      <td>-2.852037e-09</td>\n",
              "      <td>2.399165e-08</td>\n",
              "      <td>1.214146e-10</td>\n",
              "      <td>0.0</td>\n",
              "      <td>1.866260e-08</td>\n",
              "      <td>4.571442e-08</td>\n",
              "      <td>0.000001</td>\n",
              "      <td>2.136605e-07</td>\n",
              "      <td>3.693939e-07</td>\n",
              "      <td>2.181460e-09</td>\n",
              "      <td>...</td>\n",
              "      <td>0.0</td>\n",
              "      <td>1.522302e-09</td>\n",
              "      <td>1.109106e-09</td>\n",
              "      <td>0.0</td>\n",
              "      <td>8.698870e-10</td>\n",
              "      <td>0.0</td>\n",
              "      <td>0.0</td>\n",
              "      <td>0.0</td>\n",
              "      <td>7.774615e-10</td>\n",
              "      <td>3.815595e-08</td>\n",
              "    </tr>\n",
              "    <tr>\n",
              "      <th>4</th>\n",
              "      <td>6.266581e-05</td>\n",
              "      <td>1.020026e-05</td>\n",
              "      <td>1.002130e-08</td>\n",
              "      <td>0.0</td>\n",
              "      <td>4.233400e-06</td>\n",
              "      <td>9.422840e-06</td>\n",
              "      <td>0.000092</td>\n",
              "      <td>-1.577134e-06</td>\n",
              "      <td>7.418244e-04</td>\n",
              "      <td>4.732596e-07</td>\n",
              "      <td>...</td>\n",
              "      <td>0.0</td>\n",
              "      <td>6.624047e-07</td>\n",
              "      <td>4.826092e-07</td>\n",
              "      <td>0.0</td>\n",
              "      <td>3.785170e-07</td>\n",
              "      <td>0.0</td>\n",
              "      <td>0.0</td>\n",
              "      <td>0.0</td>\n",
              "      <td>3.382996e-07</td>\n",
              "      <td>1.178175e-05</td>\n",
              "    </tr>\n",
              "    <tr>\n",
              "      <th>5</th>\n",
              "      <td>1.554791e-06</td>\n",
              "      <td>1.147694e-05</td>\n",
              "      <td>3.407902e-08</td>\n",
              "      <td>0.0</td>\n",
              "      <td>9.125053e-06</td>\n",
              "      <td>3.647492e-05</td>\n",
              "      <td>0.000334</td>\n",
              "      <td>4.432616e-05</td>\n",
              "      <td>1.914982e-04</td>\n",
              "      <td>6.364772e-07</td>\n",
              "      <td>...</td>\n",
              "      <td>0.0</td>\n",
              "      <td>6.353654e-07</td>\n",
              "      <td>4.629091e-07</td>\n",
              "      <td>0.0</td>\n",
              "      <td>3.630659e-07</td>\n",
              "      <td>0.0</td>\n",
              "      <td>0.0</td>\n",
              "      <td>0.0</td>\n",
              "      <td>3.244902e-07</td>\n",
              "      <td>2.027154e-05</td>\n",
              "    </tr>\n",
              "    <tr>\n",
              "      <th>6</th>\n",
              "      <td>-1.153958e-08</td>\n",
              "      <td>-2.101946e-07</td>\n",
              "      <td>-2.307125e-10</td>\n",
              "      <td>0.0</td>\n",
              "      <td>-1.416419e-07</td>\n",
              "      <td>-7.156659e-07</td>\n",
              "      <td>-0.000004</td>\n",
              "      <td>-4.760606e-08</td>\n",
              "      <td>-3.950212e-07</td>\n",
              "      <td>-1.579359e-08</td>\n",
              "      <td>...</td>\n",
              "      <td>0.0</td>\n",
              "      <td>-1.036272e-09</td>\n",
              "      <td>-7.549979e-10</td>\n",
              "      <td>0.0</td>\n",
              "      <td>-5.921553e-10</td>\n",
              "      <td>0.0</td>\n",
              "      <td>0.0</td>\n",
              "      <td>0.0</td>\n",
              "      <td>-5.292388e-10</td>\n",
              "      <td>-7.797648e-08</td>\n",
              "    </tr>\n",
              "  </tbody>\n",
              "</table>\n",
              "<p>5 rows × 17374 columns</p>\n",
              "</div>"
            ],
            "text/plain": [
              "               1             2             3      4             5      \\\n",
              "UserID                                                                  \n",
              "2      -5.714413e-05 -8.468160e-06 -2.889240e-08    0.0 -2.231607e-05   \n",
              "3      -2.852037e-09  2.399165e-08  1.214146e-10    0.0  1.866260e-08   \n",
              "4       6.266581e-05  1.020026e-05  1.002130e-08    0.0  4.233400e-06   \n",
              "5       1.554791e-06  1.147694e-05  3.407902e-08    0.0  9.125053e-06   \n",
              "6      -1.153958e-08 -2.101946e-07 -2.307125e-10    0.0 -1.416419e-07   \n",
              "\n",
              "               6         7             8             9             10     \\\n",
              "UserID                                                                     \n",
              "2      -1.668989e-04  0.004073 -8.984222e-06 -5.109799e-04 -4.329414e-07   \n",
              "3       4.571442e-08  0.000001  2.136605e-07  3.693939e-07  2.181460e-09   \n",
              "4       9.422840e-06  0.000092 -1.577134e-06  7.418244e-04  4.732596e-07   \n",
              "5       3.647492e-05  0.000334  4.432616e-05  1.914982e-04  6.364772e-07   \n",
              "6      -7.156659e-07 -0.000004 -4.760606e-08 -3.950212e-07 -1.579359e-08   \n",
              "\n",
              "            ...       18736         18737         18738  18739         18740  \\\n",
              "UserID      ...                                                                \n",
              "2           ...         0.0 -6.051259e-07 -4.408774e-07    0.0 -3.457862e-07   \n",
              "3           ...         0.0  1.522302e-09  1.109106e-09    0.0  8.698870e-10   \n",
              "4           ...         0.0  6.624047e-07  4.826092e-07    0.0  3.785170e-07   \n",
              "5           ...         0.0  6.353654e-07  4.629091e-07    0.0  3.630659e-07   \n",
              "6           ...         0.0 -1.036272e-09 -7.549979e-10    0.0 -5.921553e-10   \n",
              "\n",
              "        18741  18742  18743         18744         18745  \n",
              "UserID                                                   \n",
              "2         0.0    0.0    0.0 -3.090464e-07  5.076018e-06  \n",
              "3         0.0    0.0    0.0  7.774615e-10  3.815595e-08  \n",
              "4         0.0    0.0    0.0  3.382996e-07  1.178175e-05  \n",
              "5         0.0    0.0    0.0  3.244902e-07  2.027154e-05  \n",
              "6         0.0    0.0    0.0 -5.292388e-10 -7.797648e-08  \n",
              "\n",
              "[5 rows x 17374 columns]"
            ]
          },
          "metadata": {
            "tags": []
          },
          "execution_count": 39
        }
      ]
    },
    {
      "metadata": {
        "id": "_bA8kSMcHhs-",
        "colab_type": "text"
      },
      "cell_type": "markdown",
      "source": [
        "Check R has the same index as that of P and the same columns as that of Q."
      ]
    },
    {
      "metadata": {
        "id": "CfIiE8-FHArl",
        "colab_type": "code",
        "outputId": "464b2ac7-512a-4ea0-f217-b5e9a36089db",
        "colab": {
          "base_uri": "https://localhost:8080/",
          "height": 85
        }
      },
      "cell_type": "code",
      "source": [
        "P.index"
      ],
      "execution_count": 0,
      "outputs": [
        {
          "output_type": "execute_result",
          "data": {
            "text/plain": [
              "Int64Index([   2,    3,    4,    5,    6,    7,    8,    9,   10,   11,\n",
              "            ...\n",
              "            2090, 2091, 2092, 2093, 2094, 2095, 2096, 2097, 2099, 2100],\n",
              "           dtype='int64', name='UserID', length=1829)"
            ]
          },
          "metadata": {
            "tags": []
          },
          "execution_count": 40
        }
      ]
    },
    {
      "metadata": {
        "id": "LWPf0uwOHEV0",
        "colab_type": "code",
        "outputId": "15ceada7-9dfb-4fa2-bf82-4597052ea208",
        "colab": {
          "base_uri": "https://localhost:8080/",
          "height": 85
        }
      },
      "cell_type": "code",
      "source": [
        "R.index"
      ],
      "execution_count": 0,
      "outputs": [
        {
          "output_type": "execute_result",
          "data": {
            "text/plain": [
              "Int64Index([   2,    3,    4,    5,    6,    7,    8,    9,   10,   11,\n",
              "            ...\n",
              "            2090, 2091, 2092, 2093, 2094, 2095, 2096, 2097, 2099, 2100],\n",
              "           dtype='int64', name='UserID', length=1829)"
            ]
          },
          "metadata": {
            "tags": []
          },
          "execution_count": 41
        }
      ]
    },
    {
      "metadata": {
        "id": "H7AN2XiAHICI",
        "colab_type": "code",
        "outputId": "df67fd7a-0732-4057-b54f-466813d3885a",
        "colab": {
          "base_uri": "https://localhost:8080/",
          "height": 34
        }
      },
      "cell_type": "code",
      "source": [
        "np.unique(P.index == R.index)"
      ],
      "execution_count": 0,
      "outputs": [
        {
          "output_type": "execute_result",
          "data": {
            "text/plain": [
              "array([ True])"
            ]
          },
          "metadata": {
            "tags": []
          },
          "execution_count": 43
        }
      ]
    },
    {
      "metadata": {
        "id": "fAbFahKoHRnG",
        "colab_type": "code",
        "outputId": "1a47a670-4fbf-47e2-b831-2d2517ed5638",
        "colab": {
          "base_uri": "https://localhost:8080/",
          "height": 85
        }
      },
      "cell_type": "code",
      "source": [
        "Q.columns"
      ],
      "execution_count": 0,
      "outputs": [
        {
          "output_type": "execute_result",
          "data": {
            "text/plain": [
              "Index([    1,     2,     3,     4,     5,     6,     7,     8,     9,    10,\n",
              "       ...\n",
              "       18736, 18737, 18738, 18739, 18740, 18741, 18742, 18743, 18744, 18745],\n",
              "      dtype='object', length=17374)"
            ]
          },
          "metadata": {
            "tags": []
          },
          "execution_count": 44
        }
      ]
    },
    {
      "metadata": {
        "id": "2P3M4YOpHVQg",
        "colab_type": "code",
        "outputId": "5a9dd570-c216-4c21-80e9-10b0e5ab23ea",
        "colab": {
          "base_uri": "https://localhost:8080/",
          "height": 85
        }
      },
      "cell_type": "code",
      "source": [
        "R.columns"
      ],
      "execution_count": 0,
      "outputs": [
        {
          "output_type": "execute_result",
          "data": {
            "text/plain": [
              "Index([    1,     2,     3,     4,     5,     6,     7,     8,     9,    10,\n",
              "       ...\n",
              "       18736, 18737, 18738, 18739, 18740, 18741, 18742, 18743, 18744, 18745],\n",
              "      dtype='object', length=17374)"
            ]
          },
          "metadata": {
            "tags": []
          },
          "execution_count": 45
        }
      ]
    },
    {
      "metadata": {
        "id": "4hy8dBtsHZdd",
        "colab_type": "code",
        "outputId": "6db10258-e0bd-41de-e28c-c405132ef6de",
        "colab": {
          "base_uri": "https://localhost:8080/",
          "height": 34
        }
      },
      "cell_type": "code",
      "source": [
        "np.unique(Q.columns == R.columns)"
      ],
      "execution_count": 0,
      "outputs": [
        {
          "output_type": "execute_result",
          "data": {
            "text/plain": [
              "array([ True])"
            ]
          },
          "metadata": {
            "tags": []
          },
          "execution_count": 46
        }
      ]
    },
    {
      "metadata": {
        "id": "JtaOTUATn9et",
        "colab_type": "text"
      },
      "cell_type": "markdown",
      "source": [
        "Calculate the MSE of R against the train data."
      ]
    },
    {
      "metadata": {
        "id": "Rp8mx3jNoRxs",
        "colab_type": "code",
        "outputId": "6b4f1699-e8dc-46f5-db43-3f6a21964888",
        "colab": {
          "base_uri": "https://localhost:8080/",
          "height": 51
        }
      },
      "cell_type": "code",
      "source": [
        "t = time.time()\n",
        "MSE_R_train = np.sum([(r_ui - R.loc[uid,artid])**2 for (uid,artid), r_ui in list(zip(train_data.UA, train_data.Rate))])\n",
        "print(\"The MSE of R against the train_data is %.10f\" % MSE_R_train)\n",
        "elapsed = time.time() - t\n",
        "print(\"Processed time: %.1f s\" % elapsed)"
      ],
      "execution_count": 0,
      "outputs": [
        {
          "output_type": "stream",
          "text": [
            "The MSE of R against the train_data is 644.4243710388\n",
            "Processed time: 0.6 s\n"
          ],
          "name": "stdout"
        }
      ]
    },
    {
      "metadata": {
        "id": "53Z87_5UKDRA",
        "colab_type": "code",
        "outputId": "df710206-1cc0-4f03-f782-ecbfc7fcfa15",
        "colab": {
          "base_uri": "https://localhost:8080/",
          "height": 34
        }
      },
      "cell_type": "code",
      "source": [
        "MSE_R_train < MSE_R0_train"
      ],
      "execution_count": 0,
      "outputs": [
        {
          "output_type": "execute_result",
          "data": {
            "text/plain": [
              "True"
            ]
          },
          "metadata": {
            "tags": []
          },
          "execution_count": 57
        }
      ]
    },
    {
      "metadata": {
        "id": "Yb5_-CzQorSF",
        "colab_type": "text"
      },
      "cell_type": "markdown",
      "source": [
        "Calculate the MSE of R against the validation data."
      ]
    },
    {
      "metadata": {
        "id": "uo-S8BVbo9Xq",
        "colab_type": "code",
        "outputId": "84b7a1a4-0be4-4c66-a110-1078cb15698c",
        "colab": {
          "base_uri": "https://localhost:8080/",
          "height": 51
        }
      },
      "cell_type": "code",
      "source": [
        "t = time.time()\n",
        "MSE_R_validation = np.sum([(r_ui - R.loc[uid,artid])**2 for (uid,artid), r_ui in list(zip(validation_data.UA, validation_data.Rate))])\n",
        "print(\"The MSE of R0 against the validation_data is %.10f\" % MSE_R_validation)\n",
        "elapsed = time.time() - t\n",
        "print(\"Processed time: %.1f s\" % elapsed)"
      ],
      "execution_count": 0,
      "outputs": [
        {
          "output_type": "stream",
          "text": [
            "The MSE of R0 against the validation_data is 3919.7428419252\n",
            "Processed time: 0.3 s\n"
          ],
          "name": "stdout"
        }
      ]
    },
    {
      "metadata": {
        "id": "bsmzSxT4KW3l",
        "colab_type": "code",
        "outputId": "11c81d0d-a533-4d8d-f6b2-8d0c946b96d1",
        "colab": {
          "base_uri": "https://localhost:8080/",
          "height": 34
        }
      },
      "cell_type": "code",
      "source": [
        "MSE_R_validation < MSE_R0_validation"
      ],
      "execution_count": 0,
      "outputs": [
        {
          "output_type": "execute_result",
          "data": {
            "text/plain": [
              "True"
            ]
          },
          "metadata": {
            "tags": []
          },
          "execution_count": 58
        }
      ]
    },
    {
      "metadata": {
        "id": "TFF-ZBaKqO3l",
        "colab_type": "text"
      },
      "cell_type": "markdown",
      "source": [
        "Calculate the MSE of R against the test data."
      ]
    },
    {
      "metadata": {
        "id": "gYsa8K4UqW9H",
        "colab_type": "code",
        "outputId": "bfc0a131-a89c-4b8c-e68e-831697b435a3",
        "colab": {
          "base_uri": "https://localhost:8080/",
          "height": 51
        }
      },
      "cell_type": "code",
      "source": [
        "t = time.time()\n",
        "MSE_R_test = np.sum([(r_ui - R.loc[uid,artid])**2 for (uid,artid), r_ui in list(zip(test_data.UA, test_data.Rate))])\n",
        "print(\"The MSE of R against the test_data is %.10f\" % MSE_R_test)\n",
        "elapsed = time.time() - t\n",
        "print(\"Processed time: %.1f s\" % elapsed)"
      ],
      "execution_count": 0,
      "outputs": [
        {
          "output_type": "stream",
          "text": [
            "The MSE of R against the test_data is 2379.8143980665\n",
            "Processed time: 0.3 s\n"
          ],
          "name": "stdout"
        }
      ]
    },
    {
      "metadata": {
        "id": "I7NlkAGVKuYe",
        "colab_type": "code",
        "outputId": "58138384-f4a9-4a85-9698-75ec8f3d2f89",
        "colab": {
          "base_uri": "https://localhost:8080/",
          "height": 34
        }
      },
      "cell_type": "code",
      "source": [
        "MSE_R_test < MSE_R0_test"
      ],
      "execution_count": 0,
      "outputs": [
        {
          "output_type": "execute_result",
          "data": {
            "text/plain": [
              "True"
            ]
          },
          "metadata": {
            "tags": []
          },
          "execution_count": 59
        }
      ]
    },
    {
      "metadata": {
        "id": "Q0vIuz1xrjTO",
        "colab_type": "text"
      },
      "cell_type": "markdown",
      "source": [
        "Calculate the MSE of R against the none_test data."
      ]
    },
    {
      "metadata": {
        "id": "_wQrlx0crrD0",
        "colab_type": "code",
        "outputId": "1febdbae-8c74-45c2-c003-c2e67db4f999",
        "colab": {
          "base_uri": "https://localhost:8080/",
          "height": 51
        }
      },
      "cell_type": "code",
      "source": [
        "t = time.time()\n",
        "MSE_R_none_test = np.sum([(r_ui - R.loc[uid,artid])**2 for (uid,artid), r_ui in list(zip(none_test_data.UA, none_test_data.Rate))])\n",
        "print(\"The MSE of R against the none_test_data is %.10f\" % MSE_R_none_test)\n",
        "elapsed = time.time() - t\n",
        "print(\"Processed time: %.1f s\" % elapsed)"
      ],
      "execution_count": 0,
      "outputs": [
        {
          "output_type": "stream",
          "text": [
            "The MSE of R against the none_test_data is 4564.1672129640\n",
            "Processed time: 0.9 s\n"
          ],
          "name": "stdout"
        }
      ]
    },
    {
      "metadata": {
        "id": "9GIMdbj4K4SY",
        "colab_type": "code",
        "outputId": "da347a4c-2c3d-4df4-e42f-dd12fece6ecf",
        "colab": {
          "base_uri": "https://localhost:8080/",
          "height": 34
        }
      },
      "cell_type": "code",
      "source": [
        "MSE_R_none_test < MSE_R0_none_test"
      ],
      "execution_count": 0,
      "outputs": [
        {
          "output_type": "execute_result",
          "data": {
            "text/plain": [
              "True"
            ]
          },
          "metadata": {
            "tags": []
          },
          "execution_count": 60
        }
      ]
    },
    {
      "metadata": {
        "id": "W2oGXqkLJsOX",
        "colab_type": "text"
      },
      "cell_type": "markdown",
      "source": [
        "### The Result: After one round of SGD on train_data the MSEs against train_data, validation_data, test_data, none_test_data have all been decreased."
      ]
    },
    {
      "metadata": {
        "id": "nLcW7y-0Ltnv",
        "colab_type": "text"
      },
      "cell_type": "markdown",
      "source": [
        "## Next, we include 300 hidden features in SVD. More hidden features lead to lower MSEs agaisnt the train_data. Including dim(R) = min(dim(P),dim(Q)) hidden features gives an MSE of zero. We do not want the model to be overfit though.  "
      ]
    },
    {
      "metadata": {
        "id": "DglcZQjyLkvH",
        "colab_type": "code",
        "outputId": "a09ff52f-d9e7-4819-98bb-df0dda7dd0a1",
        "colab": {
          "base_uri": "https://localhost:8080/",
          "height": 34
        }
      },
      "cell_type": "code",
      "source": [
        "t = time.time()\n",
        "R_svd_init_matrix = R_svd_init.as_matrix()\n",
        "from scipy.sparse.linalg import svds\n",
        "NUMBER_OF_FACTORS = 300\n",
        "U, sigma, V = svds(R_svd_init_matrix, k = NUMBER_OF_FACTORS)\n",
        "P = np.matmul(U,np.sqrt(np.diag(sigma)))\n",
        "Q = np.matmul(np.sqrt(np.diag(sigma)),V)\n",
        "elapsed = time.time()-t\n",
        "print(\"processed time is %.1f s\" % elapsed)"
      ],
      "execution_count": 0,
      "outputs": [
        {
          "output_type": "stream",
          "text": [
            "processed time is 43.8 s\n"
          ],
          "name": "stdout"
        }
      ]
    },
    {
      "metadata": {
        "id": "no0JKRsHNLbX",
        "colab_type": "text"
      },
      "cell_type": "markdown",
      "source": [
        "Store copies of P and Q."
      ]
    },
    {
      "metadata": {
        "id": "9a9nyDlKNOqk",
        "colab_type": "code",
        "colab": {}
      },
      "cell_type": "code",
      "source": [
        "P_Copy = P.copy()\n",
        "Q_Copy = Q.copy()"
      ],
      "execution_count": 0,
      "outputs": []
    },
    {
      "metadata": {
        "id": "jp0xkq_INhmX",
        "colab_type": "text"
      },
      "cell_type": "markdown",
      "source": [
        "Construct the recommendation matrix from P and Q, called R0."
      ]
    },
    {
      "metadata": {
        "id": "5wQx9F8iNpD6",
        "colab_type": "code",
        "outputId": "535901a3-7969-45d6-db16-f5b9e173c620",
        "colab": {
          "base_uri": "https://localhost:8080/",
          "height": 369
        }
      },
      "cell_type": "code",
      "source": [
        "R0 = pd.DataFrame(data=np.matmul(P_Copy,Q_Copy),dtype=float,columns=np.sort(user_artists_majority.ArtistID.unique()))\n",
        "R0['UserID'] = np.sort(user_artists_majority.UserID.unique())\n",
        "cols = R0.columns.tolist()\n",
        "cols = cols[-1:] + cols[:-1]\n",
        "R0 = R0[cols].set_index('UserID')\n",
        "R0.head()"
      ],
      "execution_count": 0,
      "outputs": [
        {
          "output_type": "execute_result",
          "data": {
            "text/html": [
              "<div>\n",
              "<style scoped>\n",
              "    .dataframe tbody tr th:only-of-type {\n",
              "        vertical-align: middle;\n",
              "    }\n",
              "\n",
              "    .dataframe tbody tr th {\n",
              "        vertical-align: top;\n",
              "    }\n",
              "\n",
              "    .dataframe thead th {\n",
              "        text-align: right;\n",
              "    }\n",
              "</style>\n",
              "<table border=\"1\" class=\"dataframe\">\n",
              "  <thead>\n",
              "    <tr style=\"text-align: right;\">\n",
              "      <th></th>\n",
              "      <th>1</th>\n",
              "      <th>2</th>\n",
              "      <th>3</th>\n",
              "      <th>4</th>\n",
              "      <th>5</th>\n",
              "      <th>6</th>\n",
              "      <th>7</th>\n",
              "      <th>8</th>\n",
              "      <th>9</th>\n",
              "      <th>10</th>\n",
              "      <th>...</th>\n",
              "      <th>18736</th>\n",
              "      <th>18737</th>\n",
              "      <th>18738</th>\n",
              "      <th>18739</th>\n",
              "      <th>18740</th>\n",
              "      <th>18741</th>\n",
              "      <th>18742</th>\n",
              "      <th>18743</th>\n",
              "      <th>18744</th>\n",
              "      <th>18745</th>\n",
              "    </tr>\n",
              "    <tr>\n",
              "      <th>UserID</th>\n",
              "      <th></th>\n",
              "      <th></th>\n",
              "      <th></th>\n",
              "      <th></th>\n",
              "      <th></th>\n",
              "      <th></th>\n",
              "      <th></th>\n",
              "      <th></th>\n",
              "      <th></th>\n",
              "      <th></th>\n",
              "      <th></th>\n",
              "      <th></th>\n",
              "      <th></th>\n",
              "      <th></th>\n",
              "      <th></th>\n",
              "      <th></th>\n",
              "      <th></th>\n",
              "      <th></th>\n",
              "      <th></th>\n",
              "      <th></th>\n",
              "      <th></th>\n",
              "    </tr>\n",
              "  </thead>\n",
              "  <tbody>\n",
              "    <tr>\n",
              "      <th>2</th>\n",
              "      <td>1.790708e-04</td>\n",
              "      <td>-9.804904e-05</td>\n",
              "      <td>2.549898e-06</td>\n",
              "      <td>0.0</td>\n",
              "      <td>-3.936096e-06</td>\n",
              "      <td>4.035638e-04</td>\n",
              "      <td>-0.000104</td>\n",
              "      <td>0.000016</td>\n",
              "      <td>-0.000258</td>\n",
              "      <td>-4.905154e-05</td>\n",
              "      <td>...</td>\n",
              "      <td>0.0</td>\n",
              "      <td>-0.000038</td>\n",
              "      <td>-2.777176e-05</td>\n",
              "      <td>0.0</td>\n",
              "      <td>-2.178177e-05</td>\n",
              "      <td>0.0</td>\n",
              "      <td>0.0</td>\n",
              "      <td>0.0</td>\n",
              "      <td>-1.946746e-05</td>\n",
              "      <td>-0.000155</td>\n",
              "    </tr>\n",
              "    <tr>\n",
              "      <th>3</th>\n",
              "      <td>3.654851e-06</td>\n",
              "      <td>-4.633249e-05</td>\n",
              "      <td>1.130901e-07</td>\n",
              "      <td>0.0</td>\n",
              "      <td>-2.676851e-05</td>\n",
              "      <td>5.755097e-06</td>\n",
              "      <td>0.000012</td>\n",
              "      <td>0.000011</td>\n",
              "      <td>-0.000107</td>\n",
              "      <td>-2.322331e-05</td>\n",
              "      <td>...</td>\n",
              "      <td>0.0</td>\n",
              "      <td>-0.000018</td>\n",
              "      <td>-1.295239e-05</td>\n",
              "      <td>0.0</td>\n",
              "      <td>-1.015874e-05</td>\n",
              "      <td>0.0</td>\n",
              "      <td>0.0</td>\n",
              "      <td>0.0</td>\n",
              "      <td>-9.079370e-06</td>\n",
              "      <td>-0.000001</td>\n",
              "    </tr>\n",
              "    <tr>\n",
              "      <th>4</th>\n",
              "      <td>9.420725e-05</td>\n",
              "      <td>2.347450e-04</td>\n",
              "      <td>8.474831e-07</td>\n",
              "      <td>0.0</td>\n",
              "      <td>3.692799e-05</td>\n",
              "      <td>1.017082e-03</td>\n",
              "      <td>0.001212</td>\n",
              "      <td>0.000166</td>\n",
              "      <td>-0.000403</td>\n",
              "      <td>-1.216260e-05</td>\n",
              "      <td>...</td>\n",
              "      <td>0.0</td>\n",
              "      <td>-0.000176</td>\n",
              "      <td>-1.279331e-04</td>\n",
              "      <td>0.0</td>\n",
              "      <td>-1.003397e-04</td>\n",
              "      <td>0.0</td>\n",
              "      <td>0.0</td>\n",
              "      <td>0.0</td>\n",
              "      <td>-8.967862e-05</td>\n",
              "      <td>0.000007</td>\n",
              "    </tr>\n",
              "    <tr>\n",
              "      <th>5</th>\n",
              "      <td>1.489520e-05</td>\n",
              "      <td>6.227835e-05</td>\n",
              "      <td>-3.140292e-06</td>\n",
              "      <td>0.0</td>\n",
              "      <td>3.802877e-05</td>\n",
              "      <td>-6.387648e-04</td>\n",
              "      <td>-0.000280</td>\n",
              "      <td>-0.000322</td>\n",
              "      <td>0.002363</td>\n",
              "      <td>-3.395630e-05</td>\n",
              "      <td>...</td>\n",
              "      <td>0.0</td>\n",
              "      <td>0.000094</td>\n",
              "      <td>6.875835e-05</td>\n",
              "      <td>0.0</td>\n",
              "      <td>5.392812e-05</td>\n",
              "      <td>0.0</td>\n",
              "      <td>0.0</td>\n",
              "      <td>0.0</td>\n",
              "      <td>4.819825e-05</td>\n",
              "      <td>0.000084</td>\n",
              "    </tr>\n",
              "    <tr>\n",
              "      <th>6</th>\n",
              "      <td>-7.100374e-08</td>\n",
              "      <td>1.971936e-08</td>\n",
              "      <td>2.040378e-08</td>\n",
              "      <td>0.0</td>\n",
              "      <td>3.826354e-07</td>\n",
              "      <td>-8.138383e-09</td>\n",
              "      <td>-0.000048</td>\n",
              "      <td>-0.000005</td>\n",
              "      <td>0.000004</td>\n",
              "      <td>1.635131e-07</td>\n",
              "      <td>...</td>\n",
              "      <td>0.0</td>\n",
              "      <td>0.000001</td>\n",
              "      <td>8.676582e-07</td>\n",
              "      <td>0.0</td>\n",
              "      <td>6.805162e-07</td>\n",
              "      <td>0.0</td>\n",
              "      <td>0.0</td>\n",
              "      <td>0.0</td>\n",
              "      <td>6.082114e-07</td>\n",
              "      <td>-0.000002</td>\n",
              "    </tr>\n",
              "  </tbody>\n",
              "</table>\n",
              "<p>5 rows × 17374 columns</p>\n",
              "</div>"
            ],
            "text/plain": [
              "               1             2             3      4             5      \\\n",
              "UserID                                                                  \n",
              "2       1.790708e-04 -9.804904e-05  2.549898e-06    0.0 -3.936096e-06   \n",
              "3       3.654851e-06 -4.633249e-05  1.130901e-07    0.0 -2.676851e-05   \n",
              "4       9.420725e-05  2.347450e-04  8.474831e-07    0.0  3.692799e-05   \n",
              "5       1.489520e-05  6.227835e-05 -3.140292e-06    0.0  3.802877e-05   \n",
              "6      -7.100374e-08  1.971936e-08  2.040378e-08    0.0  3.826354e-07   \n",
              "\n",
              "               6         7         8         9             10       ...     \\\n",
              "UserID                                                              ...      \n",
              "2       4.035638e-04 -0.000104  0.000016 -0.000258 -4.905154e-05    ...      \n",
              "3       5.755097e-06  0.000012  0.000011 -0.000107 -2.322331e-05    ...      \n",
              "4       1.017082e-03  0.001212  0.000166 -0.000403 -1.216260e-05    ...      \n",
              "5      -6.387648e-04 -0.000280 -0.000322  0.002363 -3.395630e-05    ...      \n",
              "6      -8.138383e-09 -0.000048 -0.000005  0.000004  1.635131e-07    ...      \n",
              "\n",
              "        18736     18737         18738  18739         18740  18741  18742  \\\n",
              "UserID                                                                     \n",
              "2         0.0 -0.000038 -2.777176e-05    0.0 -2.178177e-05    0.0    0.0   \n",
              "3         0.0 -0.000018 -1.295239e-05    0.0 -1.015874e-05    0.0    0.0   \n",
              "4         0.0 -0.000176 -1.279331e-04    0.0 -1.003397e-04    0.0    0.0   \n",
              "5         0.0  0.000094  6.875835e-05    0.0  5.392812e-05    0.0    0.0   \n",
              "6         0.0  0.000001  8.676582e-07    0.0  6.805162e-07    0.0    0.0   \n",
              "\n",
              "        18743         18744     18745  \n",
              "UserID                                 \n",
              "2         0.0 -1.946746e-05 -0.000155  \n",
              "3         0.0 -9.079370e-06 -0.000001  \n",
              "4         0.0 -8.967862e-05  0.000007  \n",
              "5         0.0  4.819825e-05  0.000084  \n",
              "6         0.0  6.082114e-07 -0.000002  \n",
              "\n",
              "[5 rows x 17374 columns]"
            ]
          },
          "metadata": {
            "tags": []
          },
          "execution_count": 106
        }
      ]
    },
    {
      "metadata": {
        "id": "9HPTX8AzjjLV",
        "colab_type": "code",
        "outputId": "f452e1f6-b619-42c5-d172-ec5173defc2d",
        "colab": {
          "base_uri": "https://localhost:8080/",
          "height": 68
        }
      },
      "cell_type": "code",
      "source": [
        "t = time.time()\n",
        "MSE_R0_train = np.sum([(r_ui - R0.loc[uid,artid])**2 for (uid,artid), r_ui in list(zip(train_data.UA, train_data.Rate))])\n",
        "print(\"The MSE of R0 against the train_data is %.10f\" % MSE_R0_train)\n",
        "MSE_R0_validation = np.sum([(r_ui - R0.loc[uid,artid])**2 for (uid,artid), r_ui in list(zip(validation_data.UA, validation_data.Rate))])\n",
        "print(\"The MSE of R0 against the validation_data is %.10f\" % MSE_R0_validation)\n",
        "elapsed = time.time() - t\n",
        "print(\"Processed time: %.1f s\" % elapsed)"
      ],
      "execution_count": 0,
      "outputs": [
        {
          "output_type": "stream",
          "text": [
            "The MSE of R0 against the train_data is 69.0766855687\n",
            "The MSE of R0 against the validation_data is 3934.1921462412\n",
            "Processed time: 1.7 s\n"
          ],
          "name": "stdout"
        }
      ]
    },
    {
      "metadata": {
        "id": "j4z7XS_sN5BX",
        "colab_type": "text"
      },
      "cell_type": "markdown",
      "source": [
        "Store the dataframe versions of P and Q with index."
      ]
    },
    {
      "metadata": {
        "id": "nlTMtfKmN-RI",
        "colab_type": "code",
        "colab": {}
      },
      "cell_type": "code",
      "source": [
        "P = pd.DataFrame(data=P,dtype=float,index=R0.index)\n",
        "Q = pd.DataFrame(data=Q,dtype=float,columns=R0.columns)"
      ],
      "execution_count": 0,
      "outputs": []
    },
    {
      "metadata": {
        "id": "QtIZ5we3OOt-",
        "colab_type": "code",
        "outputId": "a818eb67-8418-4e79-e432-c349693cc7fb",
        "colab": {
          "base_uri": "https://localhost:8080/",
          "height": 369
        }
      },
      "cell_type": "code",
      "source": [
        "P.head()"
      ],
      "execution_count": 0,
      "outputs": [
        {
          "output_type": "execute_result",
          "data": {
            "text/html": [
              "<div>\n",
              "<style scoped>\n",
              "    .dataframe tbody tr th:only-of-type {\n",
              "        vertical-align: middle;\n",
              "    }\n",
              "\n",
              "    .dataframe tbody tr th {\n",
              "        vertical-align: top;\n",
              "    }\n",
              "\n",
              "    .dataframe thead th {\n",
              "        text-align: right;\n",
              "    }\n",
              "</style>\n",
              "<table border=\"1\" class=\"dataframe\">\n",
              "  <thead>\n",
              "    <tr style=\"text-align: right;\">\n",
              "      <th></th>\n",
              "      <th>0</th>\n",
              "      <th>1</th>\n",
              "      <th>2</th>\n",
              "      <th>3</th>\n",
              "      <th>4</th>\n",
              "      <th>5</th>\n",
              "      <th>6</th>\n",
              "      <th>7</th>\n",
              "      <th>8</th>\n",
              "      <th>9</th>\n",
              "      <th>...</th>\n",
              "      <th>290</th>\n",
              "      <th>291</th>\n",
              "      <th>292</th>\n",
              "      <th>293</th>\n",
              "      <th>294</th>\n",
              "      <th>295</th>\n",
              "      <th>296</th>\n",
              "      <th>297</th>\n",
              "      <th>298</th>\n",
              "      <th>299</th>\n",
              "    </tr>\n",
              "    <tr>\n",
              "      <th>UserID</th>\n",
              "      <th></th>\n",
              "      <th></th>\n",
              "      <th></th>\n",
              "      <th></th>\n",
              "      <th></th>\n",
              "      <th></th>\n",
              "      <th></th>\n",
              "      <th></th>\n",
              "      <th></th>\n",
              "      <th></th>\n",
              "      <th></th>\n",
              "      <th></th>\n",
              "      <th></th>\n",
              "      <th></th>\n",
              "      <th></th>\n",
              "      <th></th>\n",
              "      <th></th>\n",
              "      <th></th>\n",
              "      <th></th>\n",
              "      <th></th>\n",
              "      <th></th>\n",
              "    </tr>\n",
              "  </thead>\n",
              "  <tbody>\n",
              "    <tr>\n",
              "      <th>2</th>\n",
              "      <td>0.001104</td>\n",
              "      <td>0.002223</td>\n",
              "      <td>0.003588</td>\n",
              "      <td>0.006393</td>\n",
              "      <td>-0.000544</td>\n",
              "      <td>-0.000246</td>\n",
              "      <td>-0.008274</td>\n",
              "      <td>-0.003291</td>\n",
              "      <td>-0.001234</td>\n",
              "      <td>-0.001499</td>\n",
              "      <td>...</td>\n",
              "      <td>-2.855138e-04</td>\n",
              "      <td>2.389976e-04</td>\n",
              "      <td>-3.636634e-02</td>\n",
              "      <td>1.066153e-04</td>\n",
              "      <td>8.033916e-04</td>\n",
              "      <td>4.901229e-03</td>\n",
              "      <td>-3.609294e-02</td>\n",
              "      <td>-4.310732e-03</td>\n",
              "      <td>-2.289810e-05</td>\n",
              "      <td>-4.542762e-03</td>\n",
              "    </tr>\n",
              "    <tr>\n",
              "      <th>3</th>\n",
              "      <td>-0.000605</td>\n",
              "      <td>-0.000090</td>\n",
              "      <td>0.000317</td>\n",
              "      <td>-0.000215</td>\n",
              "      <td>0.000478</td>\n",
              "      <td>-0.000554</td>\n",
              "      <td>-0.000148</td>\n",
              "      <td>-0.000394</td>\n",
              "      <td>-0.000018</td>\n",
              "      <td>-0.000801</td>\n",
              "      <td>...</td>\n",
              "      <td>1.467685e-08</td>\n",
              "      <td>1.361791e-06</td>\n",
              "      <td>-3.103477e-08</td>\n",
              "      <td>1.334519e-08</td>\n",
              "      <td>-6.147931e-08</td>\n",
              "      <td>9.726551e-08</td>\n",
              "      <td>-1.426577e-07</td>\n",
              "      <td>-1.858570e-07</td>\n",
              "      <td>-1.927478e-08</td>\n",
              "      <td>-6.454451e-09</td>\n",
              "    </tr>\n",
              "    <tr>\n",
              "      <th>4</th>\n",
              "      <td>0.003305</td>\n",
              "      <td>0.000097</td>\n",
              "      <td>-0.001595</td>\n",
              "      <td>0.005036</td>\n",
              "      <td>-0.001474</td>\n",
              "      <td>0.004041</td>\n",
              "      <td>0.005272</td>\n",
              "      <td>0.000549</td>\n",
              "      <td>0.001898</td>\n",
              "      <td>0.003993</td>\n",
              "      <td>...</td>\n",
              "      <td>4.328403e-05</td>\n",
              "      <td>-4.326253e-05</td>\n",
              "      <td>1.659315e-03</td>\n",
              "      <td>6.279901e-05</td>\n",
              "      <td>2.750566e-03</td>\n",
              "      <td>-1.189679e-02</td>\n",
              "      <td>-1.103034e-01</td>\n",
              "      <td>-1.534018e-03</td>\n",
              "      <td>-1.619732e-05</td>\n",
              "      <td>-6.823619e-04</td>\n",
              "    </tr>\n",
              "    <tr>\n",
              "      <th>5</th>\n",
              "      <td>-0.000448</td>\n",
              "      <td>-0.006762</td>\n",
              "      <td>0.003213</td>\n",
              "      <td>0.003203</td>\n",
              "      <td>-0.000314</td>\n",
              "      <td>0.000540</td>\n",
              "      <td>-0.001113</td>\n",
              "      <td>0.006661</td>\n",
              "      <td>0.004392</td>\n",
              "      <td>0.000922</td>\n",
              "      <td>...</td>\n",
              "      <td>3.464513e-05</td>\n",
              "      <td>2.935022e-04</td>\n",
              "      <td>-8.672029e-05</td>\n",
              "      <td>8.706369e-05</td>\n",
              "      <td>-4.125154e-04</td>\n",
              "      <td>7.632759e-05</td>\n",
              "      <td>-6.906504e-04</td>\n",
              "      <td>-1.081303e-04</td>\n",
              "      <td>-1.094327e-05</td>\n",
              "      <td>-3.024611e-05</td>\n",
              "    </tr>\n",
              "    <tr>\n",
              "      <th>6</th>\n",
              "      <td>-0.000191</td>\n",
              "      <td>-0.000256</td>\n",
              "      <td>0.000122</td>\n",
              "      <td>0.000033</td>\n",
              "      <td>-0.000064</td>\n",
              "      <td>0.000040</td>\n",
              "      <td>0.000102</td>\n",
              "      <td>0.000150</td>\n",
              "      <td>0.000016</td>\n",
              "      <td>-0.000068</td>\n",
              "      <td>...</td>\n",
              "      <td>-2.651194e-08</td>\n",
              "      <td>1.835684e-08</td>\n",
              "      <td>8.563902e-07</td>\n",
              "      <td>-1.701462e-06</td>\n",
              "      <td>5.099017e-06</td>\n",
              "      <td>2.017481e-05</td>\n",
              "      <td>-3.731967e-06</td>\n",
              "      <td>-1.003633e-05</td>\n",
              "      <td>-1.343285e-08</td>\n",
              "      <td>-2.711616e-07</td>\n",
              "    </tr>\n",
              "  </tbody>\n",
              "</table>\n",
              "<p>5 rows × 300 columns</p>\n",
              "</div>"
            ],
            "text/plain": [
              "             0         1         2         3         4         5         6    \\\n",
              "UserID                                                                         \n",
              "2       0.001104  0.002223  0.003588  0.006393 -0.000544 -0.000246 -0.008274   \n",
              "3      -0.000605 -0.000090  0.000317 -0.000215  0.000478 -0.000554 -0.000148   \n",
              "4       0.003305  0.000097 -0.001595  0.005036 -0.001474  0.004041  0.005272   \n",
              "5      -0.000448 -0.006762  0.003213  0.003203 -0.000314  0.000540 -0.001113   \n",
              "6      -0.000191 -0.000256  0.000122  0.000033 -0.000064  0.000040  0.000102   \n",
              "\n",
              "             7         8         9        ...                290  \\\n",
              "UserID                                    ...                      \n",
              "2      -0.003291 -0.001234 -0.001499      ...      -2.855138e-04   \n",
              "3      -0.000394 -0.000018 -0.000801      ...       1.467685e-08   \n",
              "4       0.000549  0.001898  0.003993      ...       4.328403e-05   \n",
              "5       0.006661  0.004392  0.000922      ...       3.464513e-05   \n",
              "6       0.000150  0.000016 -0.000068      ...      -2.651194e-08   \n",
              "\n",
              "                 291           292           293           294           295  \\\n",
              "UserID                                                                         \n",
              "2       2.389976e-04 -3.636634e-02  1.066153e-04  8.033916e-04  4.901229e-03   \n",
              "3       1.361791e-06 -3.103477e-08  1.334519e-08 -6.147931e-08  9.726551e-08   \n",
              "4      -4.326253e-05  1.659315e-03  6.279901e-05  2.750566e-03 -1.189679e-02   \n",
              "5       2.935022e-04 -8.672029e-05  8.706369e-05 -4.125154e-04  7.632759e-05   \n",
              "6       1.835684e-08  8.563902e-07 -1.701462e-06  5.099017e-06  2.017481e-05   \n",
              "\n",
              "                 296           297           298           299  \n",
              "UserID                                                          \n",
              "2      -3.609294e-02 -4.310732e-03 -2.289810e-05 -4.542762e-03  \n",
              "3      -1.426577e-07 -1.858570e-07 -1.927478e-08 -6.454451e-09  \n",
              "4      -1.103034e-01 -1.534018e-03 -1.619732e-05 -6.823619e-04  \n",
              "5      -6.906504e-04 -1.081303e-04 -1.094327e-05 -3.024611e-05  \n",
              "6      -3.731967e-06 -1.003633e-05 -1.343285e-08 -2.711616e-07  \n",
              "\n",
              "[5 rows x 300 columns]"
            ]
          },
          "metadata": {
            "tags": []
          },
          "execution_count": 108
        }
      ]
    },
    {
      "metadata": {
        "id": "vS3Qm0CUOUiZ",
        "colab_type": "code",
        "outputId": "b537079f-3470-4399-d04a-17a30d45f3b1",
        "colab": {
          "base_uri": "https://localhost:8080/",
          "height": 253
        }
      },
      "cell_type": "code",
      "source": [
        "Q.head()"
      ],
      "execution_count": 0,
      "outputs": [
        {
          "output_type": "execute_result",
          "data": {
            "text/html": [
              "<div>\n",
              "<style scoped>\n",
              "    .dataframe tbody tr th:only-of-type {\n",
              "        vertical-align: middle;\n",
              "    }\n",
              "\n",
              "    .dataframe tbody tr th {\n",
              "        vertical-align: top;\n",
              "    }\n",
              "\n",
              "    .dataframe thead th {\n",
              "        text-align: right;\n",
              "    }\n",
              "</style>\n",
              "<table border=\"1\" class=\"dataframe\">\n",
              "  <thead>\n",
              "    <tr style=\"text-align: right;\">\n",
              "      <th></th>\n",
              "      <th>1</th>\n",
              "      <th>2</th>\n",
              "      <th>3</th>\n",
              "      <th>4</th>\n",
              "      <th>5</th>\n",
              "      <th>6</th>\n",
              "      <th>7</th>\n",
              "      <th>8</th>\n",
              "      <th>9</th>\n",
              "      <th>10</th>\n",
              "      <th>...</th>\n",
              "      <th>18736</th>\n",
              "      <th>18737</th>\n",
              "      <th>18738</th>\n",
              "      <th>18739</th>\n",
              "      <th>18740</th>\n",
              "      <th>18741</th>\n",
              "      <th>18742</th>\n",
              "      <th>18743</th>\n",
              "      <th>18744</th>\n",
              "      <th>18745</th>\n",
              "    </tr>\n",
              "  </thead>\n",
              "  <tbody>\n",
              "    <tr>\n",
              "      <th>0</th>\n",
              "      <td>0.000516</td>\n",
              "      <td>0.000425</td>\n",
              "      <td>-0.000022</td>\n",
              "      <td>0.0</td>\n",
              "      <td>-0.000838</td>\n",
              "      <td>-0.009767</td>\n",
              "      <td>-0.010576</td>\n",
              "      <td>-0.001269</td>\n",
              "      <td>-0.009343</td>\n",
              "      <td>-0.000225</td>\n",
              "      <td>...</td>\n",
              "      <td>0.0</td>\n",
              "      <td>0.002327</td>\n",
              "      <td>0.001695</td>\n",
              "      <td>0.0</td>\n",
              "      <td>0.001330</td>\n",
              "      <td>0.0</td>\n",
              "      <td>0.0</td>\n",
              "      <td>0.0</td>\n",
              "      <td>0.001188</td>\n",
              "      <td>-0.000566</td>\n",
              "    </tr>\n",
              "    <tr>\n",
              "      <th>1</th>\n",
              "      <td>0.000191</td>\n",
              "      <td>0.004353</td>\n",
              "      <td>0.000035</td>\n",
              "      <td>0.0</td>\n",
              "      <td>0.000549</td>\n",
              "      <td>0.031764</td>\n",
              "      <td>-0.000768</td>\n",
              "      <td>0.000915</td>\n",
              "      <td>0.002669</td>\n",
              "      <td>0.000688</td>\n",
              "      <td>...</td>\n",
              "      <td>0.0</td>\n",
              "      <td>-0.000767</td>\n",
              "      <td>-0.000559</td>\n",
              "      <td>0.0</td>\n",
              "      <td>-0.000438</td>\n",
              "      <td>0.0</td>\n",
              "      <td>0.0</td>\n",
              "      <td>0.0</td>\n",
              "      <td>-0.000392</td>\n",
              "      <td>0.000319</td>\n",
              "    </tr>\n",
              "    <tr>\n",
              "      <th>2</th>\n",
              "      <td>0.000686</td>\n",
              "      <td>-0.008545</td>\n",
              "      <td>-0.000002</td>\n",
              "      <td>0.0</td>\n",
              "      <td>-0.004322</td>\n",
              "      <td>-0.008919</td>\n",
              "      <td>-0.016304</td>\n",
              "      <td>-0.008157</td>\n",
              "      <td>-0.034761</td>\n",
              "      <td>-0.002789</td>\n",
              "      <td>...</td>\n",
              "      <td>0.0</td>\n",
              "      <td>0.003955</td>\n",
              "      <td>0.002882</td>\n",
              "      <td>0.0</td>\n",
              "      <td>0.002260</td>\n",
              "      <td>0.0</td>\n",
              "      <td>0.0</td>\n",
              "      <td>0.0</td>\n",
              "      <td>0.002020</td>\n",
              "      <td>0.000971</td>\n",
              "    </tr>\n",
              "    <tr>\n",
              "      <th>3</th>\n",
              "      <td>-0.001270</td>\n",
              "      <td>-0.002545</td>\n",
              "      <td>0.000148</td>\n",
              "      <td>0.0</td>\n",
              "      <td>-0.003041</td>\n",
              "      <td>0.030419</td>\n",
              "      <td>-0.000060</td>\n",
              "      <td>-0.003250</td>\n",
              "      <td>-0.018291</td>\n",
              "      <td>0.000052</td>\n",
              "      <td>...</td>\n",
              "      <td>0.0</td>\n",
              "      <td>0.003155</td>\n",
              "      <td>0.002298</td>\n",
              "      <td>0.0</td>\n",
              "      <td>0.001803</td>\n",
              "      <td>0.0</td>\n",
              "      <td>0.0</td>\n",
              "      <td>0.0</td>\n",
              "      <td>0.001611</td>\n",
              "      <td>-0.001074</td>\n",
              "    </tr>\n",
              "    <tr>\n",
              "      <th>4</th>\n",
              "      <td>-0.000101</td>\n",
              "      <td>-0.010114</td>\n",
              "      <td>0.000046</td>\n",
              "      <td>0.0</td>\n",
              "      <td>-0.002133</td>\n",
              "      <td>0.008600</td>\n",
              "      <td>0.005465</td>\n",
              "      <td>0.007918</td>\n",
              "      <td>0.008903</td>\n",
              "      <td>-0.002625</td>\n",
              "      <td>...</td>\n",
              "      <td>0.0</td>\n",
              "      <td>-0.006106</td>\n",
              "      <td>-0.004449</td>\n",
              "      <td>0.0</td>\n",
              "      <td>-0.003489</td>\n",
              "      <td>0.0</td>\n",
              "      <td>0.0</td>\n",
              "      <td>0.0</td>\n",
              "      <td>-0.003119</td>\n",
              "      <td>-0.001144</td>\n",
              "    </tr>\n",
              "  </tbody>\n",
              "</table>\n",
              "<p>5 rows × 17374 columns</p>\n",
              "</div>"
            ],
            "text/plain": [
              "      1         2         3      4         5         6         7      \\\n",
              "0  0.000516  0.000425 -0.000022    0.0 -0.000838 -0.009767 -0.010576   \n",
              "1  0.000191  0.004353  0.000035    0.0  0.000549  0.031764 -0.000768   \n",
              "2  0.000686 -0.008545 -0.000002    0.0 -0.004322 -0.008919 -0.016304   \n",
              "3 -0.001270 -0.002545  0.000148    0.0 -0.003041  0.030419 -0.000060   \n",
              "4 -0.000101 -0.010114  0.000046    0.0 -0.002133  0.008600  0.005465   \n",
              "\n",
              "      8         9         10       ...     18736     18737     18738  18739  \\\n",
              "0 -0.001269 -0.009343 -0.000225    ...       0.0  0.002327  0.001695    0.0   \n",
              "1  0.000915  0.002669  0.000688    ...       0.0 -0.000767 -0.000559    0.0   \n",
              "2 -0.008157 -0.034761 -0.002789    ...       0.0  0.003955  0.002882    0.0   \n",
              "3 -0.003250 -0.018291  0.000052    ...       0.0  0.003155  0.002298    0.0   \n",
              "4  0.007918  0.008903 -0.002625    ...       0.0 -0.006106 -0.004449    0.0   \n",
              "\n",
              "      18740  18741  18742  18743     18744     18745  \n",
              "0  0.001330    0.0    0.0    0.0  0.001188 -0.000566  \n",
              "1 -0.000438    0.0    0.0    0.0 -0.000392  0.000319  \n",
              "2  0.002260    0.0    0.0    0.0  0.002020  0.000971  \n",
              "3  0.001803    0.0    0.0    0.0  0.001611 -0.001074  \n",
              "4 -0.003489    0.0    0.0    0.0 -0.003119 -0.001144  \n",
              "\n",
              "[5 rows x 17374 columns]"
            ]
          },
          "metadata": {
            "tags": []
          },
          "execution_count": 109
        }
      ]
    },
    {
      "metadata": {
        "id": "HcYPFVlhO7E2",
        "colab_type": "text"
      },
      "cell_type": "markdown",
      "source": [
        "Apply SGD to minimize the MSE against the train_data."
      ]
    },
    {
      "metadata": {
        "id": "M4vcrI1UOYrI",
        "colab_type": "code",
        "outputId": "dbad7935-562f-4df4-db33-76b11be0e131",
        "colab": {
          "base_uri": "https://localhost:8080/",
          "height": 34
        }
      },
      "cell_type": "code",
      "source": [
        "t = time.time()\n",
        "steps = 10\n",
        "learning_rate = 0.00000001\n",
        "for _ in range(steps):# Rounds of iterations. We expect each round to reduce the MSE. \n",
        "    for (uid,artid), r_ui in list(zip(train_data.UA, train_data.Rate)):                  \n",
        "      err = r_ui-Q.loc[:,artid]*P.loc[uid,:]#This is the negative of the scaled gradient\n",
        "      # Update vectors p_u and q_i\n",
        "      P.loc[uid,:] = P.loc[uid,:]+learning_rate*err*Q.loc[:,artid]\n",
        "      Q.loc[:,artid] = Q.loc[:,artid]+learning_rate*err*P.loc[uid,:]\n",
        "\n",
        "elapsed = time.time() - t\n",
        "print(\"Processed time: %.1f s\" % elapsed)"
      ],
      "execution_count": 0,
      "outputs": [
        {
          "output_type": "stream",
          "text": [
            "Processed time: 1093.4 s\n"
          ],
          "name": "stdout"
        }
      ]
    },
    {
      "metadata": {
        "id": "mwINsJ7PO4uS",
        "colab_type": "text"
      },
      "cell_type": "markdown",
      "source": [
        "Get the new recommendation matrix R."
      ]
    },
    {
      "metadata": {
        "id": "OYTCsd4IPWvX",
        "colab_type": "code",
        "outputId": "7e486443-2581-4ee4-be46-da9cf16ccc6e",
        "colab": {
          "base_uri": "https://localhost:8080/",
          "height": 369
        }
      },
      "cell_type": "code",
      "source": [
        "R = pd.DataFrame(data=np.matmul(P,Q),dtype=float,columns=np.sort(user_artists_majority.ArtistID.unique()))\n",
        "R['UserID'] = np.sort(user_artists_majority.UserID.unique())\n",
        "cols = R.columns.tolist()\n",
        "cols = cols[-1:] + cols[:-1]\n",
        "R = R[cols].set_index('UserID')\n",
        "R.head()"
      ],
      "execution_count": 0,
      "outputs": [
        {
          "output_type": "execute_result",
          "data": {
            "text/html": [
              "<div>\n",
              "<style scoped>\n",
              "    .dataframe tbody tr th:only-of-type {\n",
              "        vertical-align: middle;\n",
              "    }\n",
              "\n",
              "    .dataframe tbody tr th {\n",
              "        vertical-align: top;\n",
              "    }\n",
              "\n",
              "    .dataframe thead th {\n",
              "        text-align: right;\n",
              "    }\n",
              "</style>\n",
              "<table border=\"1\" class=\"dataframe\">\n",
              "  <thead>\n",
              "    <tr style=\"text-align: right;\">\n",
              "      <th></th>\n",
              "      <th>1</th>\n",
              "      <th>2</th>\n",
              "      <th>3</th>\n",
              "      <th>4</th>\n",
              "      <th>5</th>\n",
              "      <th>6</th>\n",
              "      <th>7</th>\n",
              "      <th>8</th>\n",
              "      <th>9</th>\n",
              "      <th>10</th>\n",
              "      <th>...</th>\n",
              "      <th>18736</th>\n",
              "      <th>18737</th>\n",
              "      <th>18738</th>\n",
              "      <th>18739</th>\n",
              "      <th>18740</th>\n",
              "      <th>18741</th>\n",
              "      <th>18742</th>\n",
              "      <th>18743</th>\n",
              "      <th>18744</th>\n",
              "      <th>18745</th>\n",
              "    </tr>\n",
              "    <tr>\n",
              "      <th>UserID</th>\n",
              "      <th></th>\n",
              "      <th></th>\n",
              "      <th></th>\n",
              "      <th></th>\n",
              "      <th></th>\n",
              "      <th></th>\n",
              "      <th></th>\n",
              "      <th></th>\n",
              "      <th></th>\n",
              "      <th></th>\n",
              "      <th></th>\n",
              "      <th></th>\n",
              "      <th></th>\n",
              "      <th></th>\n",
              "      <th></th>\n",
              "      <th></th>\n",
              "      <th></th>\n",
              "      <th></th>\n",
              "      <th></th>\n",
              "      <th></th>\n",
              "      <th></th>\n",
              "    </tr>\n",
              "  </thead>\n",
              "  <tbody>\n",
              "    <tr>\n",
              "      <th>2</th>\n",
              "      <td>1.790709e-04</td>\n",
              "      <td>-9.804901e-05</td>\n",
              "      <td>2.549899e-06</td>\n",
              "      <td>0.0</td>\n",
              "      <td>-3.936073e-06</td>\n",
              "      <td>4.035637e-04</td>\n",
              "      <td>-0.000104</td>\n",
              "      <td>0.000016</td>\n",
              "      <td>-0.000258</td>\n",
              "      <td>-4.905155e-05</td>\n",
              "      <td>...</td>\n",
              "      <td>0.0</td>\n",
              "      <td>-0.000038</td>\n",
              "      <td>-2.777177e-05</td>\n",
              "      <td>0.0</td>\n",
              "      <td>-2.178178e-05</td>\n",
              "      <td>0.0</td>\n",
              "      <td>0.0</td>\n",
              "      <td>0.0</td>\n",
              "      <td>-1.946746e-05</td>\n",
              "      <td>-0.000155</td>\n",
              "    </tr>\n",
              "    <tr>\n",
              "      <th>3</th>\n",
              "      <td>3.654846e-06</td>\n",
              "      <td>-4.633255e-05</td>\n",
              "      <td>1.130898e-07</td>\n",
              "      <td>0.0</td>\n",
              "      <td>-2.676853e-05</td>\n",
              "      <td>5.755053e-06</td>\n",
              "      <td>0.000012</td>\n",
              "      <td>0.000011</td>\n",
              "      <td>-0.000107</td>\n",
              "      <td>-2.322331e-05</td>\n",
              "      <td>...</td>\n",
              "      <td>0.0</td>\n",
              "      <td>-0.000018</td>\n",
              "      <td>-1.295238e-05</td>\n",
              "      <td>0.0</td>\n",
              "      <td>-1.015873e-05</td>\n",
              "      <td>0.0</td>\n",
              "      <td>0.0</td>\n",
              "      <td>0.0</td>\n",
              "      <td>-9.079366e-06</td>\n",
              "      <td>-0.000001</td>\n",
              "    </tr>\n",
              "    <tr>\n",
              "      <th>4</th>\n",
              "      <td>9.420737e-05</td>\n",
              "      <td>2.347451e-04</td>\n",
              "      <td>8.474834e-07</td>\n",
              "      <td>0.0</td>\n",
              "      <td>3.692799e-05</td>\n",
              "      <td>1.017082e-03</td>\n",
              "      <td>0.001212</td>\n",
              "      <td>0.000166</td>\n",
              "      <td>-0.000403</td>\n",
              "      <td>-1.216261e-05</td>\n",
              "      <td>...</td>\n",
              "      <td>0.0</td>\n",
              "      <td>-0.000176</td>\n",
              "      <td>-1.279332e-04</td>\n",
              "      <td>0.0</td>\n",
              "      <td>-1.003397e-04</td>\n",
              "      <td>0.0</td>\n",
              "      <td>0.0</td>\n",
              "      <td>0.0</td>\n",
              "      <td>-8.967863e-05</td>\n",
              "      <td>0.000007</td>\n",
              "    </tr>\n",
              "    <tr>\n",
              "      <th>5</th>\n",
              "      <td>1.489520e-05</td>\n",
              "      <td>6.227839e-05</td>\n",
              "      <td>-3.140293e-06</td>\n",
              "      <td>0.0</td>\n",
              "      <td>3.802879e-05</td>\n",
              "      <td>-6.387649e-04</td>\n",
              "      <td>-0.000280</td>\n",
              "      <td>-0.000322</td>\n",
              "      <td>0.002363</td>\n",
              "      <td>-3.395630e-05</td>\n",
              "      <td>...</td>\n",
              "      <td>0.0</td>\n",
              "      <td>0.000094</td>\n",
              "      <td>6.875836e-05</td>\n",
              "      <td>0.0</td>\n",
              "      <td>5.392812e-05</td>\n",
              "      <td>0.0</td>\n",
              "      <td>0.0</td>\n",
              "      <td>0.0</td>\n",
              "      <td>4.819826e-05</td>\n",
              "      <td>0.000084</td>\n",
              "    </tr>\n",
              "    <tr>\n",
              "      <th>6</th>\n",
              "      <td>-7.100376e-08</td>\n",
              "      <td>1.971946e-08</td>\n",
              "      <td>2.040378e-08</td>\n",
              "      <td>0.0</td>\n",
              "      <td>3.826354e-07</td>\n",
              "      <td>-8.138428e-09</td>\n",
              "      <td>-0.000048</td>\n",
              "      <td>-0.000005</td>\n",
              "      <td>0.000004</td>\n",
              "      <td>1.635131e-07</td>\n",
              "      <td>...</td>\n",
              "      <td>0.0</td>\n",
              "      <td>0.000001</td>\n",
              "      <td>8.676583e-07</td>\n",
              "      <td>0.0</td>\n",
              "      <td>6.805163e-07</td>\n",
              "      <td>0.0</td>\n",
              "      <td>0.0</td>\n",
              "      <td>0.0</td>\n",
              "      <td>6.082115e-07</td>\n",
              "      <td>-0.000002</td>\n",
              "    </tr>\n",
              "  </tbody>\n",
              "</table>\n",
              "<p>5 rows × 17374 columns</p>\n",
              "</div>"
            ],
            "text/plain": [
              "               1             2             3      4             5      \\\n",
              "UserID                                                                  \n",
              "2       1.790709e-04 -9.804901e-05  2.549899e-06    0.0 -3.936073e-06   \n",
              "3       3.654846e-06 -4.633255e-05  1.130898e-07    0.0 -2.676853e-05   \n",
              "4       9.420737e-05  2.347451e-04  8.474834e-07    0.0  3.692799e-05   \n",
              "5       1.489520e-05  6.227839e-05 -3.140293e-06    0.0  3.802879e-05   \n",
              "6      -7.100376e-08  1.971946e-08  2.040378e-08    0.0  3.826354e-07   \n",
              "\n",
              "               6         7         8         9             10       ...     \\\n",
              "UserID                                                              ...      \n",
              "2       4.035637e-04 -0.000104  0.000016 -0.000258 -4.905155e-05    ...      \n",
              "3       5.755053e-06  0.000012  0.000011 -0.000107 -2.322331e-05    ...      \n",
              "4       1.017082e-03  0.001212  0.000166 -0.000403 -1.216261e-05    ...      \n",
              "5      -6.387649e-04 -0.000280 -0.000322  0.002363 -3.395630e-05    ...      \n",
              "6      -8.138428e-09 -0.000048 -0.000005  0.000004  1.635131e-07    ...      \n",
              "\n",
              "        18736     18737         18738  18739         18740  18741  18742  \\\n",
              "UserID                                                                     \n",
              "2         0.0 -0.000038 -2.777177e-05    0.0 -2.178178e-05    0.0    0.0   \n",
              "3         0.0 -0.000018 -1.295238e-05    0.0 -1.015873e-05    0.0    0.0   \n",
              "4         0.0 -0.000176 -1.279332e-04    0.0 -1.003397e-04    0.0    0.0   \n",
              "5         0.0  0.000094  6.875836e-05    0.0  5.392812e-05    0.0    0.0   \n",
              "6         0.0  0.000001  8.676583e-07    0.0  6.805163e-07    0.0    0.0   \n",
              "\n",
              "        18743         18744     18745  \n",
              "UserID                                 \n",
              "2         0.0 -1.946746e-05 -0.000155  \n",
              "3         0.0 -9.079366e-06 -0.000001  \n",
              "4         0.0 -8.967863e-05  0.000007  \n",
              "5         0.0  4.819826e-05  0.000084  \n",
              "6         0.0  6.082115e-07 -0.000002  \n",
              "\n",
              "[5 rows x 17374 columns]"
            ]
          },
          "metadata": {
            "tags": []
          },
          "execution_count": 112
        }
      ]
    },
    {
      "metadata": {
        "id": "HJHJAs2bPaBv",
        "colab_type": "text"
      },
      "cell_type": "markdown",
      "source": [
        "Check if R has the same index as that of P and the same columns as that of Q."
      ]
    },
    {
      "metadata": {
        "id": "PdMds53ZPz1D",
        "colab_type": "code",
        "outputId": "e92a8cb0-12f4-4c2b-f41d-bb3bf820329b",
        "colab": {
          "base_uri": "https://localhost:8080/",
          "height": 51
        }
      },
      "cell_type": "code",
      "source": [
        "print(np.unique(P.index == R.index))\n",
        "print(np.unique(Q.columns == R.columns))"
      ],
      "execution_count": 0,
      "outputs": [
        {
          "output_type": "stream",
          "text": [
            "[ True]\n",
            "[ True]\n"
          ],
          "name": "stdout"
        }
      ]
    },
    {
      "metadata": {
        "id": "nNmaZ0FWQLk0",
        "colab_type": "text"
      },
      "cell_type": "markdown",
      "source": [
        "Check if the MSE against the train_data has been reduced."
      ]
    },
    {
      "metadata": {
        "id": "lVh4U3HLQKSk",
        "colab_type": "code",
        "outputId": "b574a652-bd9c-48ad-d5fa-f1b6dd7fa005",
        "colab": {
          "base_uri": "https://localhost:8080/",
          "height": 85
        }
      },
      "cell_type": "code",
      "source": [
        "t = time.time()\n",
        "MSE_R0_train = np.sum([(r_ui - R0.loc[uid,artid])**2 for (uid,artid), r_ui in list(zip(train_data.UA, train_data.Rate))])\n",
        "print(\"The MSE of R0 against the train_data is %.10f\" % MSE_R0_train)\n",
        "MSE_R_train = np.sum([(r_ui - R.loc[uid,artid])**2 for (uid,artid), r_ui in list(zip(train_data.UA, train_data.Rate))])\n",
        "print(\"The MSE of R against the train_data is %.10f\" % MSE_R_train)\n",
        "print(MSE_R_train < MSE_R0_train)\n",
        "elapsed = time.time() - t\n",
        "print(\"Processed time: %.1f s\" % elapsed)"
      ],
      "execution_count": 0,
      "outputs": [
        {
          "output_type": "stream",
          "text": [
            "The MSE of R0 against the train_data is 69.0766855687\n",
            "The MSE of R against the train_data is 69.0766721217\n",
            "True\n",
            "Processed time: 2.0 s\n"
          ],
          "name": "stdout"
        }
      ]
    },
    {
      "metadata": {
        "id": "xvlrb-GgRGmi",
        "colab_type": "text"
      },
      "cell_type": "markdown",
      "source": [
        "Check if the MSE against the validation_data has been reduced."
      ]
    },
    {
      "metadata": {
        "id": "ZV3Xv9PPRSRg",
        "colab_type": "code",
        "outputId": "d2a5cabf-8742-4f7d-f5f2-12f555d9f97f",
        "colab": {
          "base_uri": "https://localhost:8080/",
          "height": 85
        }
      },
      "cell_type": "code",
      "source": [
        "t = time.time()\n",
        "MSE_R0_validation = np.sum([(r_ui - R0.loc[uid,artid])**2 for (uid,artid), r_ui in list(zip(validation_data.UA, validation_data.Rate))])\n",
        "print(\"The MSE of R0 against the validation_data is %.10f\" % MSE_R0_validation)\n",
        "MSE_R_validation = np.sum([(r_ui - R.loc[uid,artid])**2 for (uid,artid), r_ui in list(zip(validation_data.UA, validation_data.Rate))])\n",
        "print(\"The MSE of R against the validation_data is %.10f\" % MSE_R_validation)\n",
        "print(MSE_R_validation < MSE_R0_validation)\n",
        "elapsed = time.time() - t\n",
        "print(\"Processed time: %.1f s\" % elapsed)"
      ],
      "execution_count": 0,
      "outputs": [
        {
          "output_type": "stream",
          "text": [
            "The MSE of R0 against the validation_data is 3934.1921462412\n",
            "The MSE of R against the validation_data is 3934.1920803078\n",
            "True\n",
            "Processed time: 0.6 s\n"
          ],
          "name": "stdout"
        }
      ]
    },
    {
      "metadata": {
        "id": "5kyRe_IGR9mV",
        "colab_type": "text"
      },
      "cell_type": "markdown",
      "source": [
        "Check if the MSE against the none_test_data has been reduced."
      ]
    },
    {
      "metadata": {
        "id": "g3Tu8iFhSGGN",
        "colab_type": "code",
        "outputId": "4ab0df90-ce50-4ec2-b555-082c29d22e52",
        "colab": {
          "base_uri": "https://localhost:8080/",
          "height": 85
        }
      },
      "cell_type": "code",
      "source": [
        "t = time.time()\n",
        "MSE_R0_none_test = np.sum([(r_ui - R0.loc[uid,artid])**2 for (uid,artid), r_ui in list(zip(none_test_data.UA, none_test_data.Rate))])\n",
        "print(\"The MSE of R0 against the none_test_data is %.10f\" % MSE_R0_none_test)\n",
        "MSE_R_none_test = np.sum([(r_ui - R.loc[uid,artid])**2 for (uid,artid), r_ui in list(zip(none_test_data.UA, none_test_data.Rate))])\n",
        "print(\"The MSE of R against the none_test_data is %.10f\" % MSE_R_none_test)\n",
        "print(MSE_R_none_test < MSE_R0_none_test)\n",
        "elapsed = time.time() - t\n",
        "print(\"Processed time: %.1f s\" % elapsed)"
      ],
      "execution_count": 0,
      "outputs": [
        {
          "output_type": "stream",
          "text": [
            "The MSE of R0 against the none_test_data is 4003.2688318099\n",
            "The MSE of R against the none_test_data is 4003.2687524295\n",
            "True\n",
            "Processed time: 1.9 s\n"
          ],
          "name": "stdout"
        }
      ]
    },
    {
      "metadata": {
        "id": "DQqFjsE4S8Wh",
        "colab_type": "text"
      },
      "cell_type": "markdown",
      "source": [
        "Check if the MSE against the test_data has been reduced."
      ]
    },
    {
      "metadata": {
        "id": "hNFKcdmPTHYT",
        "colab_type": "code",
        "outputId": "35fd8075-f1bc-4a91-9273-e9d72a39a66a",
        "colab": {
          "base_uri": "https://localhost:8080/",
          "height": 85
        }
      },
      "cell_type": "code",
      "source": [
        "t = time.time()\n",
        "MSE_R0_test = np.sum([(r_ui - R0.loc[uid,artid])**2 for (uid,artid), r_ui in list(zip(test_data.UA, test_data.Rate))])\n",
        "print(\"The MSE of R0 against the test_data is %.10f\" % MSE_R0_test)\n",
        "MSE_R_test = np.sum([(r_ui - R.loc[uid,artid])**2 for (uid,artid), r_ui in list(zip(test_data.UA, test_data.Rate))])\n",
        "print(\"The MSE of R against the test_data is %.10f\" % MSE_R_test)\n",
        "print(MSE_R_test < MSE_R0_test)\n",
        "elapsed = time.time() - t\n",
        "print(\"Processed time: %.1f s\" % elapsed)"
      ],
      "execution_count": 0,
      "outputs": [
        {
          "output_type": "stream",
          "text": [
            "The MSE of R0 against the test_data is 2390.8736537263\n",
            "The MSE of R against the test_data is 2390.8736081738\n",
            "True\n",
            "Processed time: 0.6 s\n"
          ],
          "name": "stdout"
        }
      ]
    },
    {
      "metadata": {
        "id": "Cki0uKI8Zc0W",
        "colab_type": "text"
      },
      "cell_type": "markdown",
      "source": [
        "### Second Approach: We want to replace the none_train data by something more reasonable instead of zeros."
      ]
    },
    {
      "metadata": {
        "id": "H2mPWD6Gr_h1",
        "colab_type": "text"
      },
      "cell_type": "markdown",
      "source": [
        "Initialize the recommendation matrix."
      ]
    },
    {
      "metadata": {
        "id": "iDnCCRLFtVqO",
        "colab_type": "code",
        "outputId": "12e52de7-cb5f-40d0-dfe3-ff11be499521",
        "colab": {
          "base_uri": "https://localhost:8080/",
          "height": 34
        }
      },
      "cell_type": "code",
      "source": [
        "R_svd_init = user_artists_majority.pivot(index='UserID', columns='ArtistID', values='Rate').fillna(0)\n",
        "R_svd_init_matrix = R_svd_init.as_matrix()\n",
        "R_svd_init.shape"
      ],
      "execution_count": 0,
      "outputs": [
        {
          "output_type": "execute_result",
          "data": {
            "text/plain": [
              "(1829, 17374)"
            ]
          },
          "metadata": {
            "tags": []
          },
          "execution_count": 69
        }
      ]
    },
    {
      "metadata": {
        "id": "Bxp1dpyVodRx",
        "colab_type": "text"
      },
      "cell_type": "markdown",
      "source": [
        "We will check if both train_data and none_train_data contains all users in the user_artists_majority dataframe. Since they are complements of each others, it suffices to check if they have the same list of users. The answer is YES."
      ]
    },
    {
      "metadata": {
        "id": "4UXlKSm5f2Uh",
        "colab_type": "code",
        "outputId": "a94616a6-4845-41b3-a04b-01e2a60ad0e2",
        "colab": {
          "base_uri": "https://localhost:8080/",
          "height": 34
        }
      },
      "cell_type": "code",
      "source": [
        "np.sort(none_train_data.UserID.unique())"
      ],
      "execution_count": 0,
      "outputs": [
        {
          "output_type": "execute_result",
          "data": {
            "text/plain": [
              "array([   2,    3,    4, ..., 2097, 2099, 2100])"
            ]
          },
          "metadata": {
            "tags": []
          },
          "execution_count": 28
        }
      ]
    },
    {
      "metadata": {
        "id": "hGty5j9ogMI3",
        "colab_type": "code",
        "outputId": "de1dbb15-885a-4f2b-993b-c7a32d37440a",
        "colab": {
          "base_uri": "https://localhost:8080/",
          "height": 34
        }
      },
      "cell_type": "code",
      "source": [
        "np.sort(train_data.UserID.unique())"
      ],
      "execution_count": 0,
      "outputs": [
        {
          "output_type": "execute_result",
          "data": {
            "text/plain": [
              "array([   2,    3,    4, ..., 2097, 2099, 2100])"
            ]
          },
          "metadata": {
            "tags": []
          },
          "execution_count": 29
        }
      ]
    },
    {
      "metadata": {
        "id": "CLzQjFMSgS4y",
        "colab_type": "code",
        "outputId": "edc62253-a184-4ac8-9423-f1db950bb3ce",
        "colab": {
          "base_uri": "https://localhost:8080/",
          "height": 34
        }
      },
      "cell_type": "code",
      "source": [
        "np.unique(np.sort(none_train_data.UserID.unique())==np.sort(train_data.UserID.unique()))"
      ],
      "execution_count": 0,
      "outputs": [
        {
          "output_type": "execute_result",
          "data": {
            "text/plain": [
              "array([ True])"
            ]
          },
          "metadata": {
            "tags": []
          },
          "execution_count": 30
        }
      ]
    },
    {
      "metadata": {
        "id": "LQ98Wp9NpagL",
        "colab_type": "text"
      },
      "cell_type": "markdown",
      "source": [
        "Next we find the lowest and highest rate for each user in train_data."
      ]
    },
    {
      "metadata": {
        "id": "9sMftm3PkBGT",
        "colab_type": "code",
        "outputId": "bf389315-af5d-4f51-f5d6-1b2cdbb2c859",
        "colab": {
          "base_uri": "https://localhost:8080/",
          "height": 235
        }
      },
      "cell_type": "code",
      "source": [
        "train_data_low_rate = train_data.groupby(['UserID']).Rate.min()\n",
        "train_data_low_rate = pd.DataFrame(data = train_data_low_rate)\n",
        "train_data_low_rate.columns=['Low_Rate']\n",
        "train_data_low_rate.head()"
      ],
      "execution_count": 0,
      "outputs": [
        {
          "output_type": "execute_result",
          "data": {
            "text/html": [
              "<div>\n",
              "<style scoped>\n",
              "    .dataframe tbody tr th:only-of-type {\n",
              "        vertical-align: middle;\n",
              "    }\n",
              "\n",
              "    .dataframe tbody tr th {\n",
              "        vertical-align: top;\n",
              "    }\n",
              "\n",
              "    .dataframe thead th {\n",
              "        text-align: right;\n",
              "    }\n",
              "</style>\n",
              "<table border=\"1\" class=\"dataframe\">\n",
              "  <thead>\n",
              "    <tr style=\"text-align: right;\">\n",
              "      <th></th>\n",
              "      <th>Low_Rate</th>\n",
              "    </tr>\n",
              "    <tr>\n",
              "      <th>UserID</th>\n",
              "      <th></th>\n",
              "    </tr>\n",
              "  </thead>\n",
              "  <tbody>\n",
              "    <tr>\n",
              "      <th>2</th>\n",
              "      <td>0.1315</td>\n",
              "    </tr>\n",
              "    <tr>\n",
              "      <th>3</th>\n",
              "      <td>0.0065</td>\n",
              "    </tr>\n",
              "    <tr>\n",
              "      <th>4</th>\n",
              "      <td>0.0221</td>\n",
              "    </tr>\n",
              "    <tr>\n",
              "      <th>5</th>\n",
              "      <td>0.0115</td>\n",
              "    </tr>\n",
              "    <tr>\n",
              "      <th>6</th>\n",
              "      <td>0.0013</td>\n",
              "    </tr>\n",
              "  </tbody>\n",
              "</table>\n",
              "</div>"
            ],
            "text/plain": [
              "        Low_Rate\n",
              "UserID          \n",
              "2         0.1315\n",
              "3         0.0065\n",
              "4         0.0221\n",
              "5         0.0115\n",
              "6         0.0013"
            ]
          },
          "metadata": {
            "tags": []
          },
          "execution_count": 70
        }
      ]
    },
    {
      "metadata": {
        "id": "tUFz90n6ldGp",
        "colab_type": "code",
        "outputId": "02465723-7de1-4c4f-9fa2-4a358398892c",
        "colab": {
          "base_uri": "https://localhost:8080/",
          "height": 235
        }
      },
      "cell_type": "code",
      "source": [
        "train_data_high_rate = train_data.groupby(['UserID']).Rate.max()\n",
        "train_data_high_rate = pd.DataFrame(data = train_data_high_rate)\n",
        "train_data_high_rate.columns=['High_Rate']\n",
        "train_data_high_rate.head()"
      ],
      "execution_count": 0,
      "outputs": [
        {
          "output_type": "execute_result",
          "data": {
            "text/html": [
              "<div>\n",
              "<style scoped>\n",
              "    .dataframe tbody tr th:only-of-type {\n",
              "        vertical-align: middle;\n",
              "    }\n",
              "\n",
              "    .dataframe tbody tr th {\n",
              "        vertical-align: top;\n",
              "    }\n",
              "\n",
              "    .dataframe thead th {\n",
              "        text-align: right;\n",
              "    }\n",
              "</style>\n",
              "<table border=\"1\" class=\"dataframe\">\n",
              "  <thead>\n",
              "    <tr style=\"text-align: right;\">\n",
              "      <th></th>\n",
              "      <th>High_Rate</th>\n",
              "    </tr>\n",
              "    <tr>\n",
              "      <th>UserID</th>\n",
              "      <th></th>\n",
              "    </tr>\n",
              "  </thead>\n",
              "  <tbody>\n",
              "    <tr>\n",
              "      <th>2</th>\n",
              "      <td>1.3883</td>\n",
              "    </tr>\n",
              "    <tr>\n",
              "      <th>3</th>\n",
              "      <td>1.3176</td>\n",
              "    </tr>\n",
              "    <tr>\n",
              "      <th>4</th>\n",
              "      <td>0.4983</td>\n",
              "    </tr>\n",
              "    <tr>\n",
              "      <th>5</th>\n",
              "      <td>0.0884</td>\n",
              "    </tr>\n",
              "    <tr>\n",
              "      <th>6</th>\n",
              "      <td>0.0040</td>\n",
              "    </tr>\n",
              "  </tbody>\n",
              "</table>\n",
              "</div>"
            ],
            "text/plain": [
              "        High_Rate\n",
              "UserID           \n",
              "2          1.3883\n",
              "3          1.3176\n",
              "4          0.4983\n",
              "5          0.0884\n",
              "6          0.0040"
            ]
          },
          "metadata": {
            "tags": []
          },
          "execution_count": 71
        }
      ]
    },
    {
      "metadata": {
        "id": "cYYbm28apyHA",
        "colab_type": "text"
      },
      "cell_type": "markdown",
      "source": [
        "We will then modify the recommendation matrix by replacing the rates pertain to none_train_data by uniform generated numbers in train_data."
      ]
    },
    {
      "metadata": {
        "id": "SPt7nJYCZzE4",
        "colab_type": "code",
        "outputId": "ef0af72c-b801-47ab-d85e-c5f92e1904d8",
        "colab": {
          "base_uri": "https://localhost:8080/",
          "height": 34
        }
      },
      "cell_type": "code",
      "source": [
        "t = time.time()\n",
        "np.random.seed(42)\n",
        "for (uid,artid), r_ui in list(zip(none_train_data.UA, none_train_data.Rate)):\n",
        "          R_svd_init.at[uid, artid] = np.random.uniform(train_data_low_rate.loc[uid,:], train_data_high_rate.loc[uid,:])\n",
        "elapsed = time.time() - t\n",
        "print(\"Processed time is %.1f s\" % elapsed)"
      ],
      "execution_count": 0,
      "outputs": [
        {
          "output_type": "stream",
          "text": [
            "Processed time is 13.5 s\n"
          ],
          "name": "stdout"
        }
      ]
    },
    {
      "metadata": {
        "id": "VLZ7y1cNsgQP",
        "colab_type": "text"
      },
      "cell_type": "markdown",
      "source": [
        "Generate P and Q and save copies."
      ]
    },
    {
      "metadata": {
        "id": "JMer0Z11snfP",
        "colab_type": "code",
        "colab": {}
      },
      "cell_type": "code",
      "source": [
        "from scipy.sparse.linalg import svds\n",
        "NUMBER_OF_FACTORS = 300\n",
        "U, sigma, V = svds(R_svd_init_matrix, k = NUMBER_OF_FACTORS)\n",
        "P = np.matmul(U,np.sqrt(np.diag(sigma)))\n",
        "Q = np.matmul(np.sqrt(np.diag(sigma)),V)\n",
        "P_Copy = P.copy()\n",
        "Q_Copy = Q.copy()"
      ],
      "execution_count": 0,
      "outputs": []
    },
    {
      "metadata": {
        "id": "ofSaIUKluReo",
        "colab_type": "text"
      },
      "cell_type": "markdown",
      "source": [
        "Construct the recommendation matrix from P and Q. Call it R0."
      ]
    },
    {
      "metadata": {
        "id": "Cbcbrz7_ucPs",
        "colab_type": "code",
        "outputId": "dad2d8c6-7239-430a-8363-03d72a1cb7a4",
        "colab": {
          "base_uri": "https://localhost:8080/",
          "height": 369
        }
      },
      "cell_type": "code",
      "source": [
        "R0 = pd.DataFrame(data=np.matmul(P_Copy,Q_Copy),dtype=float,columns=np.sort(user_artists_majority.ArtistID.unique()))\n",
        "R0['UserID'] = np.sort(user_artists_majority.UserID.unique())\n",
        "cols = R0.columns.tolist()\n",
        "cols = cols[-1:] + cols[:-1]\n",
        "R0 = R0[cols].set_index('UserID')\n",
        "R0.head()"
      ],
      "execution_count": 0,
      "outputs": [
        {
          "output_type": "execute_result",
          "data": {
            "text/html": [
              "<div>\n",
              "<style scoped>\n",
              "    .dataframe tbody tr th:only-of-type {\n",
              "        vertical-align: middle;\n",
              "    }\n",
              "\n",
              "    .dataframe tbody tr th {\n",
              "        vertical-align: top;\n",
              "    }\n",
              "\n",
              "    .dataframe thead th {\n",
              "        text-align: right;\n",
              "    }\n",
              "</style>\n",
              "<table border=\"1\" class=\"dataframe\">\n",
              "  <thead>\n",
              "    <tr style=\"text-align: right;\">\n",
              "      <th></th>\n",
              "      <th>1</th>\n",
              "      <th>2</th>\n",
              "      <th>3</th>\n",
              "      <th>4</th>\n",
              "      <th>5</th>\n",
              "      <th>6</th>\n",
              "      <th>7</th>\n",
              "      <th>8</th>\n",
              "      <th>9</th>\n",
              "      <th>10</th>\n",
              "      <th>...</th>\n",
              "      <th>18736</th>\n",
              "      <th>18737</th>\n",
              "      <th>18738</th>\n",
              "      <th>18739</th>\n",
              "      <th>18740</th>\n",
              "      <th>18741</th>\n",
              "      <th>18742</th>\n",
              "      <th>18743</th>\n",
              "      <th>18744</th>\n",
              "      <th>18745</th>\n",
              "    </tr>\n",
              "    <tr>\n",
              "      <th>UserID</th>\n",
              "      <th></th>\n",
              "      <th></th>\n",
              "      <th></th>\n",
              "      <th></th>\n",
              "      <th></th>\n",
              "      <th></th>\n",
              "      <th></th>\n",
              "      <th></th>\n",
              "      <th></th>\n",
              "      <th></th>\n",
              "      <th></th>\n",
              "      <th></th>\n",
              "      <th></th>\n",
              "      <th></th>\n",
              "      <th></th>\n",
              "      <th></th>\n",
              "      <th></th>\n",
              "      <th></th>\n",
              "      <th></th>\n",
              "      <th></th>\n",
              "      <th></th>\n",
              "    </tr>\n",
              "  </thead>\n",
              "  <tbody>\n",
              "    <tr>\n",
              "      <th>2</th>\n",
              "      <td>-0.001160</td>\n",
              "      <td>-0.000895</td>\n",
              "      <td>-2.632605e-05</td>\n",
              "      <td>-4.639531e-05</td>\n",
              "      <td>-8.063736e-04</td>\n",
              "      <td>-0.000877</td>\n",
              "      <td>-0.014065</td>\n",
              "      <td>0.004550</td>\n",
              "      <td>-0.001539</td>\n",
              "      <td>0.000745</td>\n",
              "      <td>...</td>\n",
              "      <td>-0.005854</td>\n",
              "      <td>-0.000461</td>\n",
              "      <td>-0.000336</td>\n",
              "      <td>-0.005263</td>\n",
              "      <td>-0.000264</td>\n",
              "      <td>-0.002126</td>\n",
              "      <td>-0.003615</td>\n",
              "      <td>-0.005112</td>\n",
              "      <td>-0.000236</td>\n",
              "      <td>-0.000174</td>\n",
              "    </tr>\n",
              "    <tr>\n",
              "      <th>3</th>\n",
              "      <td>0.000070</td>\n",
              "      <td>-0.000075</td>\n",
              "      <td>-2.336037e-05</td>\n",
              "      <td>-3.635072e-07</td>\n",
              "      <td>1.221710e-05</td>\n",
              "      <td>-0.000053</td>\n",
              "      <td>0.000538</td>\n",
              "      <td>0.000011</td>\n",
              "      <td>-0.000102</td>\n",
              "      <td>0.000022</td>\n",
              "      <td>...</td>\n",
              "      <td>0.000787</td>\n",
              "      <td>0.000062</td>\n",
              "      <td>0.000045</td>\n",
              "      <td>0.000708</td>\n",
              "      <td>0.000035</td>\n",
              "      <td>0.000286</td>\n",
              "      <td>0.000486</td>\n",
              "      <td>0.000688</td>\n",
              "      <td>0.000032</td>\n",
              "      <td>0.000006</td>\n",
              "    </tr>\n",
              "    <tr>\n",
              "      <th>4</th>\n",
              "      <td>0.001880</td>\n",
              "      <td>0.003024</td>\n",
              "      <td>-5.896475e-06</td>\n",
              "      <td>-1.183895e-05</td>\n",
              "      <td>3.863184e-04</td>\n",
              "      <td>0.002273</td>\n",
              "      <td>-0.007464</td>\n",
              "      <td>0.032874</td>\n",
              "      <td>0.005107</td>\n",
              "      <td>0.029880</td>\n",
              "      <td>...</td>\n",
              "      <td>0.007361</td>\n",
              "      <td>0.000580</td>\n",
              "      <td>0.000423</td>\n",
              "      <td>0.006618</td>\n",
              "      <td>0.000332</td>\n",
              "      <td>0.002673</td>\n",
              "      <td>0.004546</td>\n",
              "      <td>0.006428</td>\n",
              "      <td>0.000296</td>\n",
              "      <td>0.000277</td>\n",
              "    </tr>\n",
              "    <tr>\n",
              "      <th>5</th>\n",
              "      <td>0.000084</td>\n",
              "      <td>-0.000154</td>\n",
              "      <td>-5.415170e-06</td>\n",
              "      <td>-1.681105e-06</td>\n",
              "      <td>4.217794e-05</td>\n",
              "      <td>-0.000257</td>\n",
              "      <td>-0.001477</td>\n",
              "      <td>0.001510</td>\n",
              "      <td>-0.000391</td>\n",
              "      <td>0.003441</td>\n",
              "      <td>...</td>\n",
              "      <td>-0.001612</td>\n",
              "      <td>-0.000127</td>\n",
              "      <td>-0.000093</td>\n",
              "      <td>-0.001449</td>\n",
              "      <td>-0.000073</td>\n",
              "      <td>-0.000585</td>\n",
              "      <td>-0.000996</td>\n",
              "      <td>-0.001408</td>\n",
              "      <td>-0.000065</td>\n",
              "      <td>-0.000022</td>\n",
              "    </tr>\n",
              "    <tr>\n",
              "      <th>6</th>\n",
              "      <td>-0.000001</td>\n",
              "      <td>-0.000001</td>\n",
              "      <td>-4.590111e-08</td>\n",
              "      <td>-8.859623e-08</td>\n",
              "      <td>-4.657622e-07</td>\n",
              "      <td>-0.000001</td>\n",
              "      <td>0.000101</td>\n",
              "      <td>0.000020</td>\n",
              "      <td>0.000004</td>\n",
              "      <td>0.000018</td>\n",
              "      <td>...</td>\n",
              "      <td>0.000037</td>\n",
              "      <td>0.000003</td>\n",
              "      <td>0.000002</td>\n",
              "      <td>0.000034</td>\n",
              "      <td>0.000002</td>\n",
              "      <td>0.000014</td>\n",
              "      <td>0.000023</td>\n",
              "      <td>0.000033</td>\n",
              "      <td>0.000002</td>\n",
              "      <td>0.000007</td>\n",
              "    </tr>\n",
              "  </tbody>\n",
              "</table>\n",
              "<p>5 rows × 17374 columns</p>\n",
              "</div>"
            ],
            "text/plain": [
              "           1         2             3             4             5      \\\n",
              "UserID                                                                 \n",
              "2      -0.001160 -0.000895 -2.632605e-05 -4.639531e-05 -8.063736e-04   \n",
              "3       0.000070 -0.000075 -2.336037e-05 -3.635072e-07  1.221710e-05   \n",
              "4       0.001880  0.003024 -5.896475e-06 -1.183895e-05  3.863184e-04   \n",
              "5       0.000084 -0.000154 -5.415170e-06 -1.681105e-06  4.217794e-05   \n",
              "6      -0.000001 -0.000001 -4.590111e-08 -8.859623e-08 -4.657622e-07   \n",
              "\n",
              "           6         7         8         9         10       ...        18736  \\\n",
              "UserID                                                      ...                \n",
              "2      -0.000877 -0.014065  0.004550 -0.001539  0.000745    ...    -0.005854   \n",
              "3      -0.000053  0.000538  0.000011 -0.000102  0.000022    ...     0.000787   \n",
              "4       0.002273 -0.007464  0.032874  0.005107  0.029880    ...     0.007361   \n",
              "5      -0.000257 -0.001477  0.001510 -0.000391  0.003441    ...    -0.001612   \n",
              "6      -0.000001  0.000101  0.000020  0.000004  0.000018    ...     0.000037   \n",
              "\n",
              "           18737     18738     18739     18740     18741     18742     18743  \\\n",
              "UserID                                                                         \n",
              "2      -0.000461 -0.000336 -0.005263 -0.000264 -0.002126 -0.003615 -0.005112   \n",
              "3       0.000062  0.000045  0.000708  0.000035  0.000286  0.000486  0.000688   \n",
              "4       0.000580  0.000423  0.006618  0.000332  0.002673  0.004546  0.006428   \n",
              "5      -0.000127 -0.000093 -0.001449 -0.000073 -0.000585 -0.000996 -0.001408   \n",
              "6       0.000003  0.000002  0.000034  0.000002  0.000014  0.000023  0.000033   \n",
              "\n",
              "           18744     18745  \n",
              "UserID                      \n",
              "2      -0.000236 -0.000174  \n",
              "3       0.000032  0.000006  \n",
              "4       0.000296  0.000277  \n",
              "5      -0.000065 -0.000022  \n",
              "6       0.000002  0.000007  \n",
              "\n",
              "[5 rows x 17374 columns]"
            ]
          },
          "metadata": {
            "tags": []
          },
          "execution_count": 74
        }
      ]
    },
    {
      "metadata": {
        "id": "AokyuyG2u_Xk",
        "colab_type": "text"
      },
      "cell_type": "markdown",
      "source": [
        "Store the dataframe versions of P and Q with index."
      ]
    },
    {
      "metadata": {
        "id": "GBac5zxmvFqw",
        "colab_type": "code",
        "colab": {}
      },
      "cell_type": "code",
      "source": [
        "P = pd.DataFrame(data=P,dtype=float,index=R0.index)\n",
        "Q = pd.DataFrame(data=Q,dtype=float,columns=R0.columns)"
      ],
      "execution_count": 0,
      "outputs": []
    },
    {
      "metadata": {
        "id": "hEwgMOOsvTtP",
        "colab_type": "code",
        "outputId": "4bcd62a5-bab8-48f0-f2e1-4c840314e367",
        "colab": {
          "base_uri": "https://localhost:8080/",
          "height": 369
        }
      },
      "cell_type": "code",
      "source": [
        "P.head()"
      ],
      "execution_count": 0,
      "outputs": [
        {
          "output_type": "execute_result",
          "data": {
            "text/html": [
              "<div>\n",
              "<style scoped>\n",
              "    .dataframe tbody tr th:only-of-type {\n",
              "        vertical-align: middle;\n",
              "    }\n",
              "\n",
              "    .dataframe tbody tr th {\n",
              "        vertical-align: top;\n",
              "    }\n",
              "\n",
              "    .dataframe thead th {\n",
              "        text-align: right;\n",
              "    }\n",
              "</style>\n",
              "<table border=\"1\" class=\"dataframe\">\n",
              "  <thead>\n",
              "    <tr style=\"text-align: right;\">\n",
              "      <th></th>\n",
              "      <th>0</th>\n",
              "      <th>1</th>\n",
              "      <th>2</th>\n",
              "      <th>3</th>\n",
              "      <th>4</th>\n",
              "      <th>5</th>\n",
              "      <th>6</th>\n",
              "      <th>7</th>\n",
              "      <th>8</th>\n",
              "      <th>9</th>\n",
              "      <th>...</th>\n",
              "      <th>290</th>\n",
              "      <th>291</th>\n",
              "      <th>292</th>\n",
              "      <th>293</th>\n",
              "      <th>294</th>\n",
              "      <th>295</th>\n",
              "      <th>296</th>\n",
              "      <th>297</th>\n",
              "      <th>298</th>\n",
              "      <th>299</th>\n",
              "    </tr>\n",
              "    <tr>\n",
              "      <th>UserID</th>\n",
              "      <th></th>\n",
              "      <th></th>\n",
              "      <th></th>\n",
              "      <th></th>\n",
              "      <th></th>\n",
              "      <th></th>\n",
              "      <th></th>\n",
              "      <th></th>\n",
              "      <th></th>\n",
              "      <th></th>\n",
              "      <th></th>\n",
              "      <th></th>\n",
              "      <th></th>\n",
              "      <th></th>\n",
              "      <th></th>\n",
              "      <th></th>\n",
              "      <th></th>\n",
              "      <th></th>\n",
              "      <th></th>\n",
              "      <th></th>\n",
              "      <th></th>\n",
              "    </tr>\n",
              "  </thead>\n",
              "  <tbody>\n",
              "    <tr>\n",
              "      <th>2</th>\n",
              "      <td>0.018568</td>\n",
              "      <td>0.001604</td>\n",
              "      <td>0.001440</td>\n",
              "      <td>0.001618</td>\n",
              "      <td>0.020371</td>\n",
              "      <td>-0.065341</td>\n",
              "      <td>0.034788</td>\n",
              "      <td>0.042909</td>\n",
              "      <td>-0.008472</td>\n",
              "      <td>-0.001534</td>\n",
              "      <td>...</td>\n",
              "      <td>0.004411</td>\n",
              "      <td>1.804727e-01</td>\n",
              "      <td>-0.009073</td>\n",
              "      <td>0.050276</td>\n",
              "      <td>-0.003760</td>\n",
              "      <td>-5.283766e-04</td>\n",
              "      <td>0.001435</td>\n",
              "      <td>0.023907</td>\n",
              "      <td>-6.694444e-02</td>\n",
              "      <td>-1.572760e-02</td>\n",
              "    </tr>\n",
              "    <tr>\n",
              "      <th>3</th>\n",
              "      <td>-0.000664</td>\n",
              "      <td>0.001489</td>\n",
              "      <td>-0.000560</td>\n",
              "      <td>0.002417</td>\n",
              "      <td>-0.001403</td>\n",
              "      <td>0.000175</td>\n",
              "      <td>-0.001958</td>\n",
              "      <td>-0.003548</td>\n",
              "      <td>0.004341</td>\n",
              "      <td>0.000252</td>\n",
              "      <td>...</td>\n",
              "      <td>0.000012</td>\n",
              "      <td>-6.174110e-07</td>\n",
              "      <td>-0.000012</td>\n",
              "      <td>0.000020</td>\n",
              "      <td>-0.000002</td>\n",
              "      <td>1.385971e-07</td>\n",
              "      <td>-0.000001</td>\n",
              "      <td>0.000003</td>\n",
              "      <td>-1.017744e-07</td>\n",
              "      <td>-1.960949e-06</td>\n",
              "    </tr>\n",
              "    <tr>\n",
              "      <th>4</th>\n",
              "      <td>-0.025711</td>\n",
              "      <td>0.014746</td>\n",
              "      <td>-0.089739</td>\n",
              "      <td>-0.048739</td>\n",
              "      <td>-0.080983</td>\n",
              "      <td>-0.024482</td>\n",
              "      <td>-0.078045</td>\n",
              "      <td>-0.015875</td>\n",
              "      <td>0.111263</td>\n",
              "      <td>-0.031999</td>\n",
              "      <td>...</td>\n",
              "      <td>-0.016161</td>\n",
              "      <td>4.899302e-02</td>\n",
              "      <td>-0.025779</td>\n",
              "      <td>0.036945</td>\n",
              "      <td>-0.004372</td>\n",
              "      <td>4.315421e-04</td>\n",
              "      <td>-0.002524</td>\n",
              "      <td>0.011645</td>\n",
              "      <td>-9.947156e-03</td>\n",
              "      <td>-5.710281e-03</td>\n",
              "    </tr>\n",
              "    <tr>\n",
              "      <th>5</th>\n",
              "      <td>0.003877</td>\n",
              "      <td>0.010395</td>\n",
              "      <td>-0.007128</td>\n",
              "      <td>-0.003566</td>\n",
              "      <td>0.001272</td>\n",
              "      <td>0.003706</td>\n",
              "      <td>0.005435</td>\n",
              "      <td>-0.001369</td>\n",
              "      <td>-0.000690</td>\n",
              "      <td>-0.003905</td>\n",
              "      <td>...</td>\n",
              "      <td>-0.007060</td>\n",
              "      <td>6.035224e-04</td>\n",
              "      <td>-0.001735</td>\n",
              "      <td>0.002921</td>\n",
              "      <td>-0.002300</td>\n",
              "      <td>1.025028e-04</td>\n",
              "      <td>-0.000661</td>\n",
              "      <td>0.000855</td>\n",
              "      <td>-4.126301e-03</td>\n",
              "      <td>-4.996172e-03</td>\n",
              "    </tr>\n",
              "    <tr>\n",
              "      <th>6</th>\n",
              "      <td>0.000024</td>\n",
              "      <td>-0.000055</td>\n",
              "      <td>-0.000162</td>\n",
              "      <td>-0.000063</td>\n",
              "      <td>-0.000070</td>\n",
              "      <td>-0.000092</td>\n",
              "      <td>-0.000100</td>\n",
              "      <td>0.000101</td>\n",
              "      <td>0.000022</td>\n",
              "      <td>-0.000281</td>\n",
              "      <td>...</td>\n",
              "      <td>0.000021</td>\n",
              "      <td>2.738843e-06</td>\n",
              "      <td>0.000037</td>\n",
              "      <td>0.000060</td>\n",
              "      <td>-0.000002</td>\n",
              "      <td>-3.337963e-06</td>\n",
              "      <td>-0.000001</td>\n",
              "      <td>0.000024</td>\n",
              "      <td>-4.383502e-07</td>\n",
              "      <td>-4.485815e-07</td>\n",
              "    </tr>\n",
              "  </tbody>\n",
              "</table>\n",
              "<p>5 rows × 300 columns</p>\n",
              "</div>"
            ],
            "text/plain": [
              "             0         1         2         3         4         5         6    \\\n",
              "UserID                                                                         \n",
              "2       0.018568  0.001604  0.001440  0.001618  0.020371 -0.065341  0.034788   \n",
              "3      -0.000664  0.001489 -0.000560  0.002417 -0.001403  0.000175 -0.001958   \n",
              "4      -0.025711  0.014746 -0.089739 -0.048739 -0.080983 -0.024482 -0.078045   \n",
              "5       0.003877  0.010395 -0.007128 -0.003566  0.001272  0.003706  0.005435   \n",
              "6       0.000024 -0.000055 -0.000162 -0.000063 -0.000070 -0.000092 -0.000100   \n",
              "\n",
              "             7         8         9        ...            290           291  \\\n",
              "UserID                                    ...                                \n",
              "2       0.042909 -0.008472 -0.001534      ...       0.004411  1.804727e-01   \n",
              "3      -0.003548  0.004341  0.000252      ...       0.000012 -6.174110e-07   \n",
              "4      -0.015875  0.111263 -0.031999      ...      -0.016161  4.899302e-02   \n",
              "5      -0.001369 -0.000690 -0.003905      ...      -0.007060  6.035224e-04   \n",
              "6       0.000101  0.000022 -0.000281      ...       0.000021  2.738843e-06   \n",
              "\n",
              "             292       293       294           295       296       297  \\\n",
              "UserID                                                                   \n",
              "2      -0.009073  0.050276 -0.003760 -5.283766e-04  0.001435  0.023907   \n",
              "3      -0.000012  0.000020 -0.000002  1.385971e-07 -0.000001  0.000003   \n",
              "4      -0.025779  0.036945 -0.004372  4.315421e-04 -0.002524  0.011645   \n",
              "5      -0.001735  0.002921 -0.002300  1.025028e-04 -0.000661  0.000855   \n",
              "6       0.000037  0.000060 -0.000002 -3.337963e-06 -0.000001  0.000024   \n",
              "\n",
              "                 298           299  \n",
              "UserID                              \n",
              "2      -6.694444e-02 -1.572760e-02  \n",
              "3      -1.017744e-07 -1.960949e-06  \n",
              "4      -9.947156e-03 -5.710281e-03  \n",
              "5      -4.126301e-03 -4.996172e-03  \n",
              "6      -4.383502e-07 -4.485815e-07  \n",
              "\n",
              "[5 rows x 300 columns]"
            ]
          },
          "metadata": {
            "tags": []
          },
          "execution_count": 76
        }
      ]
    },
    {
      "metadata": {
        "id": "M99jduRYvby0",
        "colab_type": "code",
        "outputId": "2a15c928-59a9-499f-a281-957cc197465d",
        "colab": {
          "base_uri": "https://localhost:8080/",
          "height": 338
        }
      },
      "cell_type": "code",
      "source": [
        "Q.head()"
      ],
      "execution_count": 0,
      "outputs": [
        {
          "output_type": "execute_result",
          "data": {
            "text/html": [
              "<div>\n",
              "<style scoped>\n",
              "    .dataframe tbody tr th:only-of-type {\n",
              "        vertical-align: middle;\n",
              "    }\n",
              "\n",
              "    .dataframe tbody tr th {\n",
              "        vertical-align: top;\n",
              "    }\n",
              "\n",
              "    .dataframe thead th {\n",
              "        text-align: right;\n",
              "    }\n",
              "</style>\n",
              "<table border=\"1\" class=\"dataframe\">\n",
              "  <thead>\n",
              "    <tr style=\"text-align: right;\">\n",
              "      <th></th>\n",
              "      <th>1</th>\n",
              "      <th>2</th>\n",
              "      <th>3</th>\n",
              "      <th>4</th>\n",
              "      <th>5</th>\n",
              "      <th>6</th>\n",
              "      <th>7</th>\n",
              "      <th>8</th>\n",
              "      <th>9</th>\n",
              "      <th>10</th>\n",
              "      <th>...</th>\n",
              "      <th>18736</th>\n",
              "      <th>18737</th>\n",
              "      <th>18738</th>\n",
              "      <th>18739</th>\n",
              "      <th>18740</th>\n",
              "      <th>18741</th>\n",
              "      <th>18742</th>\n",
              "      <th>18743</th>\n",
              "      <th>18744</th>\n",
              "      <th>18745</th>\n",
              "    </tr>\n",
              "  </thead>\n",
              "  <tbody>\n",
              "    <tr>\n",
              "      <th>0</th>\n",
              "      <td>-0.000036</td>\n",
              "      <td>0.011224</td>\n",
              "      <td>-0.000038</td>\n",
              "      <td>0.000030</td>\n",
              "      <td>-2.661664e-04</td>\n",
              "      <td>-0.003679</td>\n",
              "      <td>0.060639</td>\n",
              "      <td>0.064212</td>\n",
              "      <td>0.015046</td>\n",
              "      <td>0.003043</td>\n",
              "      <td>...</td>\n",
              "      <td>-0.072679</td>\n",
              "      <td>-0.005728</td>\n",
              "      <td>-0.004173</td>\n",
              "      <td>-0.065345</td>\n",
              "      <td>-0.003273</td>\n",
              "      <td>-0.026391</td>\n",
              "      <td>-0.044889</td>\n",
              "      <td>-0.063465</td>\n",
              "      <td>-0.002926</td>\n",
              "      <td>0.000073</td>\n",
              "    </tr>\n",
              "    <tr>\n",
              "      <th>1</th>\n",
              "      <td>0.012806</td>\n",
              "      <td>-0.020108</td>\n",
              "      <td>0.000297</td>\n",
              "      <td>0.000046</td>\n",
              "      <td>3.756975e-04</td>\n",
              "      <td>0.000942</td>\n",
              "      <td>0.044424</td>\n",
              "      <td>0.120806</td>\n",
              "      <td>-0.016301</td>\n",
              "      <td>0.001717</td>\n",
              "      <td>...</td>\n",
              "      <td>-0.057924</td>\n",
              "      <td>-0.004565</td>\n",
              "      <td>-0.003326</td>\n",
              "      <td>-0.052079</td>\n",
              "      <td>-0.002609</td>\n",
              "      <td>-0.021033</td>\n",
              "      <td>-0.035776</td>\n",
              "      <td>-0.050580</td>\n",
              "      <td>-0.002332</td>\n",
              "      <td>-0.000463</td>\n",
              "    </tr>\n",
              "    <tr>\n",
              "      <th>2</th>\n",
              "      <td>-0.001821</td>\n",
              "      <td>0.004478</td>\n",
              "      <td>0.000011</td>\n",
              "      <td>0.000053</td>\n",
              "      <td>-7.977490e-04</td>\n",
              "      <td>0.000925</td>\n",
              "      <td>-0.009554</td>\n",
              "      <td>0.002315</td>\n",
              "      <td>-0.001502</td>\n",
              "      <td>-0.013395</td>\n",
              "      <td>...</td>\n",
              "      <td>-0.036366</td>\n",
              "      <td>-0.002866</td>\n",
              "      <td>-0.002088</td>\n",
              "      <td>-0.032696</td>\n",
              "      <td>-0.001638</td>\n",
              "      <td>-0.013205</td>\n",
              "      <td>-0.022461</td>\n",
              "      <td>-0.031755</td>\n",
              "      <td>-0.001464</td>\n",
              "      <td>0.000161</td>\n",
              "    </tr>\n",
              "    <tr>\n",
              "      <th>3</th>\n",
              "      <td>0.003869</td>\n",
              "      <td>0.003394</td>\n",
              "      <td>0.000042</td>\n",
              "      <td>0.000071</td>\n",
              "      <td>-3.892506e-04</td>\n",
              "      <td>0.002651</td>\n",
              "      <td>0.005424</td>\n",
              "      <td>0.040055</td>\n",
              "      <td>-0.001651</td>\n",
              "      <td>0.009799</td>\n",
              "      <td>...</td>\n",
              "      <td>-0.017355</td>\n",
              "      <td>-0.001368</td>\n",
              "      <td>-0.000997</td>\n",
              "      <td>-0.015604</td>\n",
              "      <td>-0.000782</td>\n",
              "      <td>-0.006302</td>\n",
              "      <td>-0.010719</td>\n",
              "      <td>-0.015155</td>\n",
              "      <td>-0.000699</td>\n",
              "      <td>-0.000550</td>\n",
              "    </tr>\n",
              "    <tr>\n",
              "      <th>4</th>\n",
              "      <td>0.009271</td>\n",
              "      <td>0.018179</td>\n",
              "      <td>0.000013</td>\n",
              "      <td>-0.000126</td>\n",
              "      <td>-9.231277e-07</td>\n",
              "      <td>-0.002616</td>\n",
              "      <td>0.005717</td>\n",
              "      <td>0.072200</td>\n",
              "      <td>0.018714</td>\n",
              "      <td>-0.001780</td>\n",
              "      <td>...</td>\n",
              "      <td>-0.012712</td>\n",
              "      <td>-0.001002</td>\n",
              "      <td>-0.000730</td>\n",
              "      <td>-0.011429</td>\n",
              "      <td>-0.000573</td>\n",
              "      <td>-0.004616</td>\n",
              "      <td>-0.007851</td>\n",
              "      <td>-0.011100</td>\n",
              "      <td>-0.000512</td>\n",
              "      <td>-0.000281</td>\n",
              "    </tr>\n",
              "  </tbody>\n",
              "</table>\n",
              "<p>5 rows × 17374 columns</p>\n",
              "</div>"
            ],
            "text/plain": [
              "      1         2         3         4             5         6         7      \\\n",
              "0 -0.000036  0.011224 -0.000038  0.000030 -2.661664e-04 -0.003679  0.060639   \n",
              "1  0.012806 -0.020108  0.000297  0.000046  3.756975e-04  0.000942  0.044424   \n",
              "2 -0.001821  0.004478  0.000011  0.000053 -7.977490e-04  0.000925 -0.009554   \n",
              "3  0.003869  0.003394  0.000042  0.000071 -3.892506e-04  0.002651  0.005424   \n",
              "4  0.009271  0.018179  0.000013 -0.000126 -9.231277e-07 -0.002616  0.005717   \n",
              "\n",
              "      8         9         10       ...        18736     18737     18738  \\\n",
              "0  0.064212  0.015046  0.003043    ...    -0.072679 -0.005728 -0.004173   \n",
              "1  0.120806 -0.016301  0.001717    ...    -0.057924 -0.004565 -0.003326   \n",
              "2  0.002315 -0.001502 -0.013395    ...    -0.036366 -0.002866 -0.002088   \n",
              "3  0.040055 -0.001651  0.009799    ...    -0.017355 -0.001368 -0.000997   \n",
              "4  0.072200  0.018714 -0.001780    ...    -0.012712 -0.001002 -0.000730   \n",
              "\n",
              "      18739     18740     18741     18742     18743     18744     18745  \n",
              "0 -0.065345 -0.003273 -0.026391 -0.044889 -0.063465 -0.002926  0.000073  \n",
              "1 -0.052079 -0.002609 -0.021033 -0.035776 -0.050580 -0.002332 -0.000463  \n",
              "2 -0.032696 -0.001638 -0.013205 -0.022461 -0.031755 -0.001464  0.000161  \n",
              "3 -0.015604 -0.000782 -0.006302 -0.010719 -0.015155 -0.000699 -0.000550  \n",
              "4 -0.011429 -0.000573 -0.004616 -0.007851 -0.011100 -0.000512 -0.000281  \n",
              "\n",
              "[5 rows x 17374 columns]"
            ]
          },
          "metadata": {
            "tags": []
          },
          "execution_count": 77
        }
      ]
    },
    {
      "metadata": {
        "id": "KGL4RnPkve2F",
        "colab_type": "text"
      },
      "cell_type": "markdown",
      "source": [
        "Apply SGD to minimize the MSE against the none_test_data. (We initialize by only using train_data so as not to overfit and the target of machine learning is to minimize MSE against none_test_data.)"
      ]
    },
    {
      "metadata": {
        "id": "6bFq5egGwNRD",
        "colab_type": "code",
        "outputId": "210c416d-bf4a-4067-f8ff-e370bd84431d",
        "colab": {
          "base_uri": "https://localhost:8080/",
          "height": 34
        }
      },
      "cell_type": "code",
      "source": [
        "t = time.time()\n",
        "steps = 10\n",
        "learning_rate = 0.00000001\n",
        "for _ in range(steps):# Rounds of iterations. We expect each round to reduce the MSE. \n",
        "    for (uid,artid), r_ui in list(zip(none_test_data.UA, none_test_data.Rate)):                  \n",
        "      err = r_ui-Q.loc[:,artid]*P.loc[uid,:]#This is the negative of the scaled gradient\n",
        "      # Update vectors p_u and q_i\n",
        "      P.loc[uid,:] = P.loc[uid,:]+learning_rate*err*Q.loc[:,artid]\n",
        "      Q.loc[:,artid] = Q.loc[:,artid]+learning_rate*err*P.loc[uid,:]\n",
        "\n",
        "elapsed = time.time() - t\n",
        "print(\"Processed time: %.1f s\" % elapsed)"
      ],
      "execution_count": 0,
      "outputs": [
        {
          "output_type": "stream",
          "text": [
            "Processed time: 1510.9 s\n"
          ],
          "name": "stdout"
        }
      ]
    },
    {
      "metadata": {
        "id": "BWxIz1713REk",
        "colab_type": "text"
      },
      "cell_type": "markdown",
      "source": [
        "Get the new recommendation matrix R."
      ]
    },
    {
      "metadata": {
        "id": "258lPQm13bX1",
        "colab_type": "code",
        "outputId": "e5c8e522-f461-45aa-8663-c5bb528ddc9c",
        "colab": {
          "base_uri": "https://localhost:8080/",
          "height": 369
        }
      },
      "cell_type": "code",
      "source": [
        "R = pd.DataFrame(data=np.matmul(P,Q),dtype=float,columns=np.sort(user_artists_majority.ArtistID.unique()))\n",
        "R['UserID'] = np.sort(user_artists_majority.UserID.unique())\n",
        "cols = R.columns.tolist()\n",
        "cols = cols[-1:] + cols[:-1]\n",
        "R = R[cols].set_index('UserID')\n",
        "R.head()"
      ],
      "execution_count": 0,
      "outputs": [
        {
          "output_type": "execute_result",
          "data": {
            "text/html": [
              "<div>\n",
              "<style scoped>\n",
              "    .dataframe tbody tr th:only-of-type {\n",
              "        vertical-align: middle;\n",
              "    }\n",
              "\n",
              "    .dataframe tbody tr th {\n",
              "        vertical-align: top;\n",
              "    }\n",
              "\n",
              "    .dataframe thead th {\n",
              "        text-align: right;\n",
              "    }\n",
              "</style>\n",
              "<table border=\"1\" class=\"dataframe\">\n",
              "  <thead>\n",
              "    <tr style=\"text-align: right;\">\n",
              "      <th></th>\n",
              "      <th>1</th>\n",
              "      <th>2</th>\n",
              "      <th>3</th>\n",
              "      <th>4</th>\n",
              "      <th>5</th>\n",
              "      <th>6</th>\n",
              "      <th>7</th>\n",
              "      <th>8</th>\n",
              "      <th>9</th>\n",
              "      <th>10</th>\n",
              "      <th>...</th>\n",
              "      <th>18736</th>\n",
              "      <th>18737</th>\n",
              "      <th>18738</th>\n",
              "      <th>18739</th>\n",
              "      <th>18740</th>\n",
              "      <th>18741</th>\n",
              "      <th>18742</th>\n",
              "      <th>18743</th>\n",
              "      <th>18744</th>\n",
              "      <th>18745</th>\n",
              "    </tr>\n",
              "    <tr>\n",
              "      <th>UserID</th>\n",
              "      <th></th>\n",
              "      <th></th>\n",
              "      <th></th>\n",
              "      <th></th>\n",
              "      <th></th>\n",
              "      <th></th>\n",
              "      <th></th>\n",
              "      <th></th>\n",
              "      <th></th>\n",
              "      <th></th>\n",
              "      <th></th>\n",
              "      <th></th>\n",
              "      <th></th>\n",
              "      <th></th>\n",
              "      <th></th>\n",
              "      <th></th>\n",
              "      <th></th>\n",
              "      <th></th>\n",
              "      <th></th>\n",
              "      <th></th>\n",
              "      <th></th>\n",
              "    </tr>\n",
              "  </thead>\n",
              "  <tbody>\n",
              "    <tr>\n",
              "      <th>2</th>\n",
              "      <td>-0.001160</td>\n",
              "      <td>-0.000895</td>\n",
              "      <td>-2.632606e-05</td>\n",
              "      <td>-4.639536e-05</td>\n",
              "      <td>-8.063740e-04</td>\n",
              "      <td>-0.000877</td>\n",
              "      <td>-0.014065</td>\n",
              "      <td>0.004550</td>\n",
              "      <td>-0.001539</td>\n",
              "      <td>0.000745</td>\n",
              "      <td>...</td>\n",
              "      <td>-0.005854</td>\n",
              "      <td>-0.000461</td>\n",
              "      <td>-0.000336</td>\n",
              "      <td>-0.005263</td>\n",
              "      <td>-0.000264</td>\n",
              "      <td>-0.002126</td>\n",
              "      <td>-0.003615</td>\n",
              "      <td>-0.005112</td>\n",
              "      <td>-0.000236</td>\n",
              "      <td>-0.000174</td>\n",
              "    </tr>\n",
              "    <tr>\n",
              "      <th>3</th>\n",
              "      <td>0.000070</td>\n",
              "      <td>-0.000075</td>\n",
              "      <td>-2.336037e-05</td>\n",
              "      <td>-3.635045e-07</td>\n",
              "      <td>1.221709e-05</td>\n",
              "      <td>-0.000053</td>\n",
              "      <td>0.000538</td>\n",
              "      <td>0.000011</td>\n",
              "      <td>-0.000102</td>\n",
              "      <td>0.000022</td>\n",
              "      <td>...</td>\n",
              "      <td>0.000787</td>\n",
              "      <td>0.000062</td>\n",
              "      <td>0.000045</td>\n",
              "      <td>0.000708</td>\n",
              "      <td>0.000035</td>\n",
              "      <td>0.000286</td>\n",
              "      <td>0.000486</td>\n",
              "      <td>0.000688</td>\n",
              "      <td>0.000032</td>\n",
              "      <td>0.000006</td>\n",
              "    </tr>\n",
              "    <tr>\n",
              "      <th>4</th>\n",
              "      <td>0.001880</td>\n",
              "      <td>0.003024</td>\n",
              "      <td>-5.896474e-06</td>\n",
              "      <td>-1.183896e-05</td>\n",
              "      <td>3.863186e-04</td>\n",
              "      <td>0.002273</td>\n",
              "      <td>-0.007464</td>\n",
              "      <td>0.032874</td>\n",
              "      <td>0.005107</td>\n",
              "      <td>0.029880</td>\n",
              "      <td>...</td>\n",
              "      <td>0.007361</td>\n",
              "      <td>0.000580</td>\n",
              "      <td>0.000423</td>\n",
              "      <td>0.006618</td>\n",
              "      <td>0.000332</td>\n",
              "      <td>0.002673</td>\n",
              "      <td>0.004546</td>\n",
              "      <td>0.006428</td>\n",
              "      <td>0.000296</td>\n",
              "      <td>0.000277</td>\n",
              "    </tr>\n",
              "    <tr>\n",
              "      <th>5</th>\n",
              "      <td>0.000084</td>\n",
              "      <td>-0.000154</td>\n",
              "      <td>-5.415171e-06</td>\n",
              "      <td>-1.681102e-06</td>\n",
              "      <td>4.217799e-05</td>\n",
              "      <td>-0.000257</td>\n",
              "      <td>-0.001477</td>\n",
              "      <td>0.001510</td>\n",
              "      <td>-0.000391</td>\n",
              "      <td>0.003441</td>\n",
              "      <td>...</td>\n",
              "      <td>-0.001612</td>\n",
              "      <td>-0.000127</td>\n",
              "      <td>-0.000093</td>\n",
              "      <td>-0.001449</td>\n",
              "      <td>-0.000073</td>\n",
              "      <td>-0.000585</td>\n",
              "      <td>-0.000996</td>\n",
              "      <td>-0.001408</td>\n",
              "      <td>-0.000065</td>\n",
              "      <td>-0.000022</td>\n",
              "    </tr>\n",
              "    <tr>\n",
              "      <th>6</th>\n",
              "      <td>-0.000001</td>\n",
              "      <td>-0.000001</td>\n",
              "      <td>-4.590112e-08</td>\n",
              "      <td>-8.859631e-08</td>\n",
              "      <td>-4.657623e-07</td>\n",
              "      <td>-0.000001</td>\n",
              "      <td>0.000101</td>\n",
              "      <td>0.000020</td>\n",
              "      <td>0.000004</td>\n",
              "      <td>0.000018</td>\n",
              "      <td>...</td>\n",
              "      <td>0.000037</td>\n",
              "      <td>0.000003</td>\n",
              "      <td>0.000002</td>\n",
              "      <td>0.000034</td>\n",
              "      <td>0.000002</td>\n",
              "      <td>0.000014</td>\n",
              "      <td>0.000023</td>\n",
              "      <td>0.000033</td>\n",
              "      <td>0.000002</td>\n",
              "      <td>0.000007</td>\n",
              "    </tr>\n",
              "  </tbody>\n",
              "</table>\n",
              "<p>5 rows × 17374 columns</p>\n",
              "</div>"
            ],
            "text/plain": [
              "           1         2             3             4             5      \\\n",
              "UserID                                                                 \n",
              "2      -0.001160 -0.000895 -2.632606e-05 -4.639536e-05 -8.063740e-04   \n",
              "3       0.000070 -0.000075 -2.336037e-05 -3.635045e-07  1.221709e-05   \n",
              "4       0.001880  0.003024 -5.896474e-06 -1.183896e-05  3.863186e-04   \n",
              "5       0.000084 -0.000154 -5.415171e-06 -1.681102e-06  4.217799e-05   \n",
              "6      -0.000001 -0.000001 -4.590112e-08 -8.859631e-08 -4.657623e-07   \n",
              "\n",
              "           6         7         8         9         10       ...        18736  \\\n",
              "UserID                                                      ...                \n",
              "2      -0.000877 -0.014065  0.004550 -0.001539  0.000745    ...    -0.005854   \n",
              "3      -0.000053  0.000538  0.000011 -0.000102  0.000022    ...     0.000787   \n",
              "4       0.002273 -0.007464  0.032874  0.005107  0.029880    ...     0.007361   \n",
              "5      -0.000257 -0.001477  0.001510 -0.000391  0.003441    ...    -0.001612   \n",
              "6      -0.000001  0.000101  0.000020  0.000004  0.000018    ...     0.000037   \n",
              "\n",
              "           18737     18738     18739     18740     18741     18742     18743  \\\n",
              "UserID                                                                         \n",
              "2      -0.000461 -0.000336 -0.005263 -0.000264 -0.002126 -0.003615 -0.005112   \n",
              "3       0.000062  0.000045  0.000708  0.000035  0.000286  0.000486  0.000688   \n",
              "4       0.000580  0.000423  0.006618  0.000332  0.002673  0.004546  0.006428   \n",
              "5      -0.000127 -0.000093 -0.001449 -0.000073 -0.000585 -0.000996 -0.001408   \n",
              "6       0.000003  0.000002  0.000034  0.000002  0.000014  0.000023  0.000033   \n",
              "\n",
              "           18744     18745  \n",
              "UserID                      \n",
              "2      -0.000236 -0.000174  \n",
              "3       0.000032  0.000006  \n",
              "4       0.000296  0.000277  \n",
              "5      -0.000065 -0.000022  \n",
              "6       0.000002  0.000007  \n",
              "\n",
              "[5 rows x 17374 columns]"
            ]
          },
          "metadata": {
            "tags": []
          },
          "execution_count": 79
        }
      ]
    },
    {
      "metadata": {
        "id": "efvomc5L4Vuu",
        "colab_type": "text"
      },
      "cell_type": "markdown",
      "source": [
        "Check if the MSE against the none_test_data has been reduced."
      ]
    },
    {
      "metadata": {
        "id": "y5qjAGzO4voZ",
        "colab_type": "code",
        "outputId": "c1cc956e-c405-4250-9b50-ea5e02985070",
        "colab": {
          "base_uri": "https://localhost:8080/",
          "height": 85
        }
      },
      "cell_type": "code",
      "source": [
        "t = time.time()\n",
        "MSE_R0_none_test = np.sum([(r_ui - R0.loc[uid,artid])**2 for (uid,artid), r_ui in list(zip(none_test_data.UA, none_test_data.Rate))])\n",
        "print(\"The MSE of R0 against the none_test_data is %.10f\" % MSE_R0_none_test)\n",
        "MSE_R_none_test = np.sum([(r_ui - R.loc[uid,artid])**2 for (uid,artid), r_ui in list(zip(none_test_data.UA, none_test_data.Rate))])\n",
        "print(\"The MSE of R against the none_test_data is %.10f\" % MSE_R_none_test)\n",
        "print(MSE_R_none_test < MSE_R0_none_test)\n",
        "elapsed = time.time() - t\n",
        "print(\"Processed time: %.1f s\" % elapsed)"
      ],
      "execution_count": 0,
      "outputs": [
        {
          "output_type": "stream",
          "text": [
            "The MSE of R0 against the none_test_data is 22424.9244153517\n",
            "The MSE of R against the none_test_data is 22424.7058243978\n",
            "True\n",
            "Processed time: 3.4 s\n"
          ],
          "name": "stdout"
        }
      ]
    },
    {
      "metadata": {
        "id": "9zngKim887e0",
        "colab_type": "text"
      },
      "cell_type": "markdown",
      "source": [
        "Check if the MSE against the test_data has been reduced.\n"
      ]
    },
    {
      "metadata": {
        "id": "EbnWhndR9FmY",
        "colab_type": "code",
        "outputId": "ad1f6b7f-dbd7-4eb4-fece-35fd70ce32f0",
        "colab": {
          "base_uri": "https://localhost:8080/",
          "height": 85
        }
      },
      "cell_type": "code",
      "source": [
        "t = time.time()\n",
        "MSE_R0_test = np.sum([(r_ui - R0.loc[uid,artid])**2 for (uid,artid), r_ui in list(zip(test_data.UA, test_data.Rate))])\n",
        "print(\"The MSE of R0 against the test_data is %.10f\" % MSE_R0_test)\n",
        "MSE_R_test = np.sum([(r_ui - R.loc[uid,artid])**2 for (uid,artid), r_ui in list(zip(test_data.UA, test_data.Rate))])\n",
        "print(\"The MSE of R against the test_data is %.10f\" % MSE_R_test)\n",
        "print(MSE_R_test < MSE_R0_test)\n",
        "elapsed = time.time() - t\n",
        "print(\"Processed time: %.1f s\" % elapsed)"
      ],
      "execution_count": 0,
      "outputs": [
        {
          "output_type": "stream",
          "text": [
            "The MSE of R0 against the test_data is 17415.6912170478\n",
            "The MSE of R against the test_data is 17415.6489768874\n",
            "True\n",
            "Processed time: 0.6 s\n"
          ],
          "name": "stdout"
        }
      ]
    },
    {
      "metadata": {
        "id": "Sqwf4lYLYGu2",
        "colab_type": "text"
      },
      "cell_type": "markdown",
      "source": [
        "Check if the MSE against the train_data has been reduced."
      ]
    },
    {
      "metadata": {
        "id": "CA6U6I2HYQar",
        "colab_type": "code",
        "outputId": "92fa49da-7dab-4e30-ab11-77c5dca295c0",
        "colab": {
          "base_uri": "https://localhost:8080/",
          "height": 85
        }
      },
      "cell_type": "code",
      "source": [
        "t = time.time()\n",
        "MSE_R0_train = np.sum([(r_ui - R0.loc[uid,artid])**2 for (uid,artid), r_ui in list(zip(train_data.UA, train_data.Rate))])\n",
        "print(\"The MSE of R0 against the train_data is %.10f\" % MSE_R0_train)\n",
        "MSE_R_train = np.sum([(r_ui - R.loc[uid,artid])**2 for (uid,artid), r_ui in list(zip(train_data.UA, train_data.Rate))])\n",
        "print(\"The MSE of R against the train_data is %.10f\" % MSE_R_train)\n",
        "print(MSE_R_train < MSE_R0_train)\n",
        "elapsed = time.time() - t\n",
        "print(\"Processed time: %.1f s\" % elapsed)"
      ],
      "execution_count": 0,
      "outputs": [
        {
          "output_type": "stream",
          "text": [
            "The MSE of R0 against the train_data is 108.0695688353\n",
            "The MSE of R against the train_data is 108.0695312716\n",
            "True\n",
            "Processed time: 1.4 s\n"
          ],
          "name": "stdout"
        }
      ]
    },
    {
      "metadata": {
        "id": "NQ9ct6VjZH-g",
        "colab_type": "text"
      },
      "cell_type": "markdown",
      "source": [
        "## Let us see the recommendation list of each user."
      ]
    },
    {
      "metadata": {
        "id": "nQW5OrdNiCiM",
        "colab_type": "code",
        "outputId": "5001f14f-41c3-45b2-a714-c6f019c3d67e",
        "colab": {
          "base_uri": "https://localhost:8080/",
          "height": 1599
        }
      },
      "cell_type": "code",
      "source": [
        "pd.DataFrame(R.loc[2,:]).sort_values(by=2,ascending=False)[0:50]"
      ],
      "execution_count": 0,
      "outputs": [
        {
          "output_type": "execute_result",
          "data": {
            "text/html": [
              "<div>\n",
              "<style scoped>\n",
              "    .dataframe tbody tr th:only-of-type {\n",
              "        vertical-align: middle;\n",
              "    }\n",
              "\n",
              "    .dataframe tbody tr th {\n",
              "        vertical-align: top;\n",
              "    }\n",
              "\n",
              "    .dataframe thead th {\n",
              "        text-align: right;\n",
              "    }\n",
              "</style>\n",
              "<table border=\"1\" class=\"dataframe\">\n",
              "  <thead>\n",
              "    <tr style=\"text-align: right;\">\n",
              "      <th></th>\n",
              "      <th>2</th>\n",
              "    </tr>\n",
              "  </thead>\n",
              "  <tbody>\n",
              "    <tr>\n",
              "      <th>51</th>\n",
              "      <td>1.405743</td>\n",
              "    </tr>\n",
              "    <tr>\n",
              "      <th>81</th>\n",
              "      <td>1.374503</td>\n",
              "    </tr>\n",
              "    <tr>\n",
              "      <th>55</th>\n",
              "      <td>1.337143</td>\n",
              "    </tr>\n",
              "    <tr>\n",
              "      <th>70</th>\n",
              "      <td>1.234232</td>\n",
              "    </tr>\n",
              "    <tr>\n",
              "      <th>82</th>\n",
              "      <td>1.131368</td>\n",
              "    </tr>\n",
              "    <tr>\n",
              "      <th>52</th>\n",
              "      <td>1.122147</td>\n",
              "    </tr>\n",
              "    <tr>\n",
              "      <th>58</th>\n",
              "      <td>1.099471</td>\n",
              "    </tr>\n",
              "    <tr>\n",
              "      <th>72</th>\n",
              "      <td>1.020076</td>\n",
              "    </tr>\n",
              "    <tr>\n",
              "      <th>54</th>\n",
              "      <td>0.980493</td>\n",
              "    </tr>\n",
              "    <tr>\n",
              "      <th>71</th>\n",
              "      <td>0.906154</td>\n",
              "    </tr>\n",
              "    <tr>\n",
              "      <th>61</th>\n",
              "      <td>0.851164</td>\n",
              "    </tr>\n",
              "    <tr>\n",
              "      <th>93</th>\n",
              "      <td>0.766087</td>\n",
              "    </tr>\n",
              "    <tr>\n",
              "      <th>94</th>\n",
              "      <td>0.643940</td>\n",
              "    </tr>\n",
              "    <tr>\n",
              "      <th>53</th>\n",
              "      <td>0.641943</td>\n",
              "    </tr>\n",
              "    <tr>\n",
              "      <th>56</th>\n",
              "      <td>0.613227</td>\n",
              "    </tr>\n",
              "    <tr>\n",
              "      <th>57</th>\n",
              "      <td>0.580469</td>\n",
              "    </tr>\n",
              "    <tr>\n",
              "      <th>97</th>\n",
              "      <td>0.503400</td>\n",
              "    </tr>\n",
              "    <tr>\n",
              "      <th>92</th>\n",
              "      <td>0.487156</td>\n",
              "    </tr>\n",
              "    <tr>\n",
              "      <th>59</th>\n",
              "      <td>0.438945</td>\n",
              "    </tr>\n",
              "    <tr>\n",
              "      <th>60</th>\n",
              "      <td>0.393145</td>\n",
              "    </tr>\n",
              "    <tr>\n",
              "      <th>88</th>\n",
              "      <td>0.379408</td>\n",
              "    </tr>\n",
              "    <tr>\n",
              "      <th>87</th>\n",
              "      <td>0.377657</td>\n",
              "    </tr>\n",
              "    <tr>\n",
              "      <th>63</th>\n",
              "      <td>0.371489</td>\n",
              "    </tr>\n",
              "    <tr>\n",
              "      <th>65</th>\n",
              "      <td>0.371116</td>\n",
              "    </tr>\n",
              "    <tr>\n",
              "      <th>62</th>\n",
              "      <td>0.360415</td>\n",
              "    </tr>\n",
              "    <tr>\n",
              "      <th>91</th>\n",
              "      <td>0.351953</td>\n",
              "    </tr>\n",
              "    <tr>\n",
              "      <th>64</th>\n",
              "      <td>0.341313</td>\n",
              "    </tr>\n",
              "    <tr>\n",
              "      <th>66</th>\n",
              "      <td>0.323673</td>\n",
              "    </tr>\n",
              "    <tr>\n",
              "      <th>68</th>\n",
              "      <td>0.285118</td>\n",
              "    </tr>\n",
              "    <tr>\n",
              "      <th>69</th>\n",
              "      <td>0.271300</td>\n",
              "    </tr>\n",
              "    <tr>\n",
              "      <th>73</th>\n",
              "      <td>0.245800</td>\n",
              "    </tr>\n",
              "    <tr>\n",
              "      <th>74</th>\n",
              "      <td>0.241459</td>\n",
              "    </tr>\n",
              "    <tr>\n",
              "      <th>75</th>\n",
              "      <td>0.233623</td>\n",
              "    </tr>\n",
              "    <tr>\n",
              "      <th>76</th>\n",
              "      <td>0.223935</td>\n",
              "    </tr>\n",
              "    <tr>\n",
              "      <th>77</th>\n",
              "      <td>0.212473</td>\n",
              "    </tr>\n",
              "    <tr>\n",
              "      <th>67</th>\n",
              "      <td>0.201030</td>\n",
              "    </tr>\n",
              "    <tr>\n",
              "      <th>79</th>\n",
              "      <td>0.188654</td>\n",
              "    </tr>\n",
              "    <tr>\n",
              "      <th>80</th>\n",
              "      <td>0.187170</td>\n",
              "    </tr>\n",
              "    <tr>\n",
              "      <th>84</th>\n",
              "      <td>0.182747</td>\n",
              "    </tr>\n",
              "    <tr>\n",
              "      <th>83</th>\n",
              "      <td>0.169884</td>\n",
              "    </tr>\n",
              "    <tr>\n",
              "      <th>98</th>\n",
              "      <td>0.168285</td>\n",
              "    </tr>\n",
              "    <tr>\n",
              "      <th>85</th>\n",
              "      <td>0.152260</td>\n",
              "    </tr>\n",
              "    <tr>\n",
              "      <th>86</th>\n",
              "      <td>0.152023</td>\n",
              "    </tr>\n",
              "    <tr>\n",
              "      <th>78</th>\n",
              "      <td>0.149172</td>\n",
              "    </tr>\n",
              "    <tr>\n",
              "      <th>89</th>\n",
              "      <td>0.146250</td>\n",
              "    </tr>\n",
              "    <tr>\n",
              "      <th>96</th>\n",
              "      <td>0.140481</td>\n",
              "    </tr>\n",
              "    <tr>\n",
              "      <th>100</th>\n",
              "      <td>0.138197</td>\n",
              "    </tr>\n",
              "    <tr>\n",
              "      <th>90</th>\n",
              "      <td>0.136481</td>\n",
              "    </tr>\n",
              "    <tr>\n",
              "      <th>99</th>\n",
              "      <td>0.132719</td>\n",
              "    </tr>\n",
              "    <tr>\n",
              "      <th>95</th>\n",
              "      <td>0.129132</td>\n",
              "    </tr>\n",
              "  </tbody>\n",
              "</table>\n",
              "</div>"
            ],
            "text/plain": [
              "            2\n",
              "51   1.405743\n",
              "81   1.374503\n",
              "55   1.337143\n",
              "70   1.234232\n",
              "82   1.131368\n",
              "52   1.122147\n",
              "58   1.099471\n",
              "72   1.020076\n",
              "54   0.980493\n",
              "71   0.906154\n",
              "61   0.851164\n",
              "93   0.766087\n",
              "94   0.643940\n",
              "53   0.641943\n",
              "56   0.613227\n",
              "57   0.580469\n",
              "97   0.503400\n",
              "92   0.487156\n",
              "59   0.438945\n",
              "60   0.393145\n",
              "88   0.379408\n",
              "87   0.377657\n",
              "63   0.371489\n",
              "65   0.371116\n",
              "62   0.360415\n",
              "91   0.351953\n",
              "64   0.341313\n",
              "66   0.323673\n",
              "68   0.285118\n",
              "69   0.271300\n",
              "73   0.245800\n",
              "74   0.241459\n",
              "75   0.233623\n",
              "76   0.223935\n",
              "77   0.212473\n",
              "67   0.201030\n",
              "79   0.188654\n",
              "80   0.187170\n",
              "84   0.182747\n",
              "83   0.169884\n",
              "98   0.168285\n",
              "85   0.152260\n",
              "86   0.152023\n",
              "78   0.149172\n",
              "89   0.146250\n",
              "96   0.140481\n",
              "100  0.138197\n",
              "90   0.136481\n",
              "99   0.132719\n",
              "95   0.129132"
            ]
          },
          "metadata": {
            "tags": []
          },
          "execution_count": 91
        }
      ]
    },
    {
      "metadata": {
        "id": "idHQJ6ZVnUmN",
        "colab_type": "code",
        "outputId": "bc3a8e59-62f8-4fa7-f609-32a55b39db8e",
        "colab": {
          "base_uri": "https://localhost:8080/",
          "height": 1599
        }
      },
      "cell_type": "code",
      "source": [
        "pd.DataFrame(R.loc[2,:]).sort_values(by=2,ascending=False)[0:50].reset_index().rename(columns={'index':'ArtistID',2:'Rate'})"
      ],
      "execution_count": 0,
      "outputs": [
        {
          "output_type": "execute_result",
          "data": {
            "text/html": [
              "<div>\n",
              "<style scoped>\n",
              "    .dataframe tbody tr th:only-of-type {\n",
              "        vertical-align: middle;\n",
              "    }\n",
              "\n",
              "    .dataframe tbody tr th {\n",
              "        vertical-align: top;\n",
              "    }\n",
              "\n",
              "    .dataframe thead th {\n",
              "        text-align: right;\n",
              "    }\n",
              "</style>\n",
              "<table border=\"1\" class=\"dataframe\">\n",
              "  <thead>\n",
              "    <tr style=\"text-align: right;\">\n",
              "      <th></th>\n",
              "      <th>ArtistID</th>\n",
              "      <th>Rate</th>\n",
              "    </tr>\n",
              "  </thead>\n",
              "  <tbody>\n",
              "    <tr>\n",
              "      <th>0</th>\n",
              "      <td>51</td>\n",
              "      <td>1.405743</td>\n",
              "    </tr>\n",
              "    <tr>\n",
              "      <th>1</th>\n",
              "      <td>81</td>\n",
              "      <td>1.374503</td>\n",
              "    </tr>\n",
              "    <tr>\n",
              "      <th>2</th>\n",
              "      <td>55</td>\n",
              "      <td>1.337143</td>\n",
              "    </tr>\n",
              "    <tr>\n",
              "      <th>3</th>\n",
              "      <td>70</td>\n",
              "      <td>1.234232</td>\n",
              "    </tr>\n",
              "    <tr>\n",
              "      <th>4</th>\n",
              "      <td>82</td>\n",
              "      <td>1.131368</td>\n",
              "    </tr>\n",
              "    <tr>\n",
              "      <th>5</th>\n",
              "      <td>52</td>\n",
              "      <td>1.122147</td>\n",
              "    </tr>\n",
              "    <tr>\n",
              "      <th>6</th>\n",
              "      <td>58</td>\n",
              "      <td>1.099471</td>\n",
              "    </tr>\n",
              "    <tr>\n",
              "      <th>7</th>\n",
              "      <td>72</td>\n",
              "      <td>1.020076</td>\n",
              "    </tr>\n",
              "    <tr>\n",
              "      <th>8</th>\n",
              "      <td>54</td>\n",
              "      <td>0.980493</td>\n",
              "    </tr>\n",
              "    <tr>\n",
              "      <th>9</th>\n",
              "      <td>71</td>\n",
              "      <td>0.906154</td>\n",
              "    </tr>\n",
              "    <tr>\n",
              "      <th>10</th>\n",
              "      <td>61</td>\n",
              "      <td>0.851164</td>\n",
              "    </tr>\n",
              "    <tr>\n",
              "      <th>11</th>\n",
              "      <td>93</td>\n",
              "      <td>0.766087</td>\n",
              "    </tr>\n",
              "    <tr>\n",
              "      <th>12</th>\n",
              "      <td>94</td>\n",
              "      <td>0.643940</td>\n",
              "    </tr>\n",
              "    <tr>\n",
              "      <th>13</th>\n",
              "      <td>53</td>\n",
              "      <td>0.641943</td>\n",
              "    </tr>\n",
              "    <tr>\n",
              "      <th>14</th>\n",
              "      <td>56</td>\n",
              "      <td>0.613227</td>\n",
              "    </tr>\n",
              "    <tr>\n",
              "      <th>15</th>\n",
              "      <td>57</td>\n",
              "      <td>0.580469</td>\n",
              "    </tr>\n",
              "    <tr>\n",
              "      <th>16</th>\n",
              "      <td>97</td>\n",
              "      <td>0.503400</td>\n",
              "    </tr>\n",
              "    <tr>\n",
              "      <th>17</th>\n",
              "      <td>92</td>\n",
              "      <td>0.487156</td>\n",
              "    </tr>\n",
              "    <tr>\n",
              "      <th>18</th>\n",
              "      <td>59</td>\n",
              "      <td>0.438945</td>\n",
              "    </tr>\n",
              "    <tr>\n",
              "      <th>19</th>\n",
              "      <td>60</td>\n",
              "      <td>0.393145</td>\n",
              "    </tr>\n",
              "    <tr>\n",
              "      <th>20</th>\n",
              "      <td>88</td>\n",
              "      <td>0.379408</td>\n",
              "    </tr>\n",
              "    <tr>\n",
              "      <th>21</th>\n",
              "      <td>87</td>\n",
              "      <td>0.377657</td>\n",
              "    </tr>\n",
              "    <tr>\n",
              "      <th>22</th>\n",
              "      <td>63</td>\n",
              "      <td>0.371489</td>\n",
              "    </tr>\n",
              "    <tr>\n",
              "      <th>23</th>\n",
              "      <td>65</td>\n",
              "      <td>0.371116</td>\n",
              "    </tr>\n",
              "    <tr>\n",
              "      <th>24</th>\n",
              "      <td>62</td>\n",
              "      <td>0.360415</td>\n",
              "    </tr>\n",
              "    <tr>\n",
              "      <th>25</th>\n",
              "      <td>91</td>\n",
              "      <td>0.351953</td>\n",
              "    </tr>\n",
              "    <tr>\n",
              "      <th>26</th>\n",
              "      <td>64</td>\n",
              "      <td>0.341313</td>\n",
              "    </tr>\n",
              "    <tr>\n",
              "      <th>27</th>\n",
              "      <td>66</td>\n",
              "      <td>0.323673</td>\n",
              "    </tr>\n",
              "    <tr>\n",
              "      <th>28</th>\n",
              "      <td>68</td>\n",
              "      <td>0.285118</td>\n",
              "    </tr>\n",
              "    <tr>\n",
              "      <th>29</th>\n",
              "      <td>69</td>\n",
              "      <td>0.271300</td>\n",
              "    </tr>\n",
              "    <tr>\n",
              "      <th>30</th>\n",
              "      <td>73</td>\n",
              "      <td>0.245800</td>\n",
              "    </tr>\n",
              "    <tr>\n",
              "      <th>31</th>\n",
              "      <td>74</td>\n",
              "      <td>0.241459</td>\n",
              "    </tr>\n",
              "    <tr>\n",
              "      <th>32</th>\n",
              "      <td>75</td>\n",
              "      <td>0.233623</td>\n",
              "    </tr>\n",
              "    <tr>\n",
              "      <th>33</th>\n",
              "      <td>76</td>\n",
              "      <td>0.223935</td>\n",
              "    </tr>\n",
              "    <tr>\n",
              "      <th>34</th>\n",
              "      <td>77</td>\n",
              "      <td>0.212473</td>\n",
              "    </tr>\n",
              "    <tr>\n",
              "      <th>35</th>\n",
              "      <td>67</td>\n",
              "      <td>0.201030</td>\n",
              "    </tr>\n",
              "    <tr>\n",
              "      <th>36</th>\n",
              "      <td>79</td>\n",
              "      <td>0.188654</td>\n",
              "    </tr>\n",
              "    <tr>\n",
              "      <th>37</th>\n",
              "      <td>80</td>\n",
              "      <td>0.187170</td>\n",
              "    </tr>\n",
              "    <tr>\n",
              "      <th>38</th>\n",
              "      <td>84</td>\n",
              "      <td>0.182747</td>\n",
              "    </tr>\n",
              "    <tr>\n",
              "      <th>39</th>\n",
              "      <td>83</td>\n",
              "      <td>0.169884</td>\n",
              "    </tr>\n",
              "    <tr>\n",
              "      <th>40</th>\n",
              "      <td>98</td>\n",
              "      <td>0.168285</td>\n",
              "    </tr>\n",
              "    <tr>\n",
              "      <th>41</th>\n",
              "      <td>85</td>\n",
              "      <td>0.152260</td>\n",
              "    </tr>\n",
              "    <tr>\n",
              "      <th>42</th>\n",
              "      <td>86</td>\n",
              "      <td>0.152023</td>\n",
              "    </tr>\n",
              "    <tr>\n",
              "      <th>43</th>\n",
              "      <td>78</td>\n",
              "      <td>0.149172</td>\n",
              "    </tr>\n",
              "    <tr>\n",
              "      <th>44</th>\n",
              "      <td>89</td>\n",
              "      <td>0.146250</td>\n",
              "    </tr>\n",
              "    <tr>\n",
              "      <th>45</th>\n",
              "      <td>96</td>\n",
              "      <td>0.140481</td>\n",
              "    </tr>\n",
              "    <tr>\n",
              "      <th>46</th>\n",
              "      <td>100</td>\n",
              "      <td>0.138197</td>\n",
              "    </tr>\n",
              "    <tr>\n",
              "      <th>47</th>\n",
              "      <td>90</td>\n",
              "      <td>0.136481</td>\n",
              "    </tr>\n",
              "    <tr>\n",
              "      <th>48</th>\n",
              "      <td>99</td>\n",
              "      <td>0.132719</td>\n",
              "    </tr>\n",
              "    <tr>\n",
              "      <th>49</th>\n",
              "      <td>95</td>\n",
              "      <td>0.129132</td>\n",
              "    </tr>\n",
              "  </tbody>\n",
              "</table>\n",
              "</div>"
            ],
            "text/plain": [
              "    ArtistID      Rate\n",
              "0         51  1.405743\n",
              "1         81  1.374503\n",
              "2         55  1.337143\n",
              "3         70  1.234232\n",
              "4         82  1.131368\n",
              "5         52  1.122147\n",
              "6         58  1.099471\n",
              "7         72  1.020076\n",
              "8         54  0.980493\n",
              "9         71  0.906154\n",
              "10        61  0.851164\n",
              "11        93  0.766087\n",
              "12        94  0.643940\n",
              "13        53  0.641943\n",
              "14        56  0.613227\n",
              "15        57  0.580469\n",
              "16        97  0.503400\n",
              "17        92  0.487156\n",
              "18        59  0.438945\n",
              "19        60  0.393145\n",
              "20        88  0.379408\n",
              "21        87  0.377657\n",
              "22        63  0.371489\n",
              "23        65  0.371116\n",
              "24        62  0.360415\n",
              "25        91  0.351953\n",
              "26        64  0.341313\n",
              "27        66  0.323673\n",
              "28        68  0.285118\n",
              "29        69  0.271300\n",
              "30        73  0.245800\n",
              "31        74  0.241459\n",
              "32        75  0.233623\n",
              "33        76  0.223935\n",
              "34        77  0.212473\n",
              "35        67  0.201030\n",
              "36        79  0.188654\n",
              "37        80  0.187170\n",
              "38        84  0.182747\n",
              "39        83  0.169884\n",
              "40        98  0.168285\n",
              "41        85  0.152260\n",
              "42        86  0.152023\n",
              "43        78  0.149172\n",
              "44        89  0.146250\n",
              "45        96  0.140481\n",
              "46       100  0.138197\n",
              "47        90  0.136481\n",
              "48        99  0.132719\n",
              "49        95  0.129132"
            ]
          },
          "metadata": {
            "tags": []
          },
          "execution_count": 118
        }
      ]
    },
    {
      "metadata": {
        "id": "vDr3LEYykTv5",
        "colab_type": "code",
        "colab": {}
      },
      "cell_type": "code",
      "source": [
        "Top_50_Real = set(user_artists_majority[user_artists_majority.UserID==2].ArtistID)"
      ],
      "execution_count": 0,
      "outputs": []
    },
    {
      "metadata": {
        "id": "7Ckr9LSAmC3O",
        "colab_type": "code",
        "colab": {}
      },
      "cell_type": "code",
      "source": [
        "Top_50_Recommended = set(pd.DataFrame(R.loc[2,:]).sort_values(by=2,ascending=False)[0:50].reset_index().rename(columns={'index':'ArtistID',2:'Rate'}).ArtistID)"
      ],
      "execution_count": 0,
      "outputs": []
    },
    {
      "metadata": {
        "id": "YhQ4wr5NoGpG",
        "colab_type": "code",
        "outputId": "6a44e537-5025-4105-b466-88dce99a92de",
        "colab": {
          "base_uri": "https://localhost:8080/",
          "height": 34
        }
      },
      "cell_type": "code",
      "source": [
        "Top_50_Real - Top_50_Recommended"
      ],
      "execution_count": 0,
      "outputs": [
        {
          "output_type": "execute_result",
          "data": {
            "text/plain": [
              "set()"
            ]
          },
          "metadata": {
            "tags": []
          },
          "execution_count": 121
        }
      ]
    },
    {
      "metadata": {
        "id": "zxlhkukBoWmM",
        "colab_type": "text"
      },
      "cell_type": "markdown",
      "source": [
        "Write functions to implement the above."
      ]
    },
    {
      "metadata": {
        "id": "_-TZQxAKoeUO",
        "colab_type": "code",
        "colab": {}
      },
      "cell_type": "code",
      "source": [
        "def top_real(number_of_top_artists = 50 , uid = 2):\n",
        "    return set(user_artists_majority[user_artists_majority.UserID==uid].ArtistID[0:number_of_top_artists])\n",
        "\n",
        "def top_recommended(number_of_top_artists = 50 , uid = 2):\n",
        "    return set(pd.DataFrame(R.loc[uid,:]).sort_values(by=uid,ascending=False)[0:number_of_top_artists].reset_index().rename(columns={'index':'ArtistID',uid:'Rate'}).ArtistID)\n",
        "    \n",
        "def fail_to_recommend(number_of_top_artists = 50 , uid = 2):\n",
        "    return top_real(number_of_top_artists ,  uid) - top_recommended(number_of_top_artists , uid)\n",
        "  "
      ],
      "execution_count": 0,
      "outputs": []
    },
    {
      "metadata": {
        "id": "zURKIfgZqTym",
        "colab_type": "code",
        "outputId": "0ea61ce8-72c4-4796-f0ee-206fd2dbafe6",
        "colab": {
          "base_uri": "https://localhost:8080/",
          "height": 34
        }
      },
      "cell_type": "code",
      "source": [
        "print(fail_to_recommend(50 , uid = 2))"
      ],
      "execution_count": 0,
      "outputs": [
        {
          "output_type": "execute_result",
          "data": {
            "text/plain": [
              "set()"
            ]
          },
          "metadata": {
            "tags": []
          },
          "execution_count": 125
        }
      ]
    },
    {
      "metadata": {
        "id": "Bffhl2EhqgtG",
        "colab_type": "code",
        "outputId": "d2053624-58d8-4cf2-bfbb-310ceb1dac43",
        "colab": {
          "base_uri": "https://localhost:8080/",
          "height": 34
        }
      },
      "cell_type": "code",
      "source": [
        "print(fail_to_recommend(50 , uid = 3))"
      ],
      "execution_count": 0,
      "outputs": [
        {
          "output_type": "execute_result",
          "data": {
            "text/plain": [
              "set()"
            ]
          },
          "metadata": {
            "tags": []
          },
          "execution_count": 126
        }
      ]
    },
    {
      "metadata": {
        "id": "ckxahjbtqPST",
        "colab_type": "code",
        "outputId": "e35288dd-378b-4ec5-e79c-dc4563ba51c3",
        "colab": {
          "base_uri": "https://localhost:8080/",
          "height": 51
        }
      },
      "cell_type": "code",
      "source": [
        "print(fail_to_recommend(50 , uid = 4))\n",
        "print(\"The length of the failure set is %d \" % len(fail_to_recommend(50 , uid = 4)))"
      ],
      "execution_count": 0,
      "outputs": [
        {
          "output_type": "stream",
          "text": [
            "{153, 156, 158, 160, 165, 167, 169, 170, 171, 172, 173, 174, 175, 176, 177, 178, 179, 180, 53, 183, 185, 188, 192, 65, 77}\n",
            "The length of failure set is 25 \n"
          ],
          "name": "stdout"
        }
      ]
    },
    {
      "metadata": {
        "id": "TT0HPUwPq9EZ",
        "colab_type": "code",
        "outputId": "aaea2c80-695e-440c-fe22-84fc0d69726d",
        "colab": {
          "base_uri": "https://localhost:8080/",
          "height": 51
        }
      },
      "cell_type": "code",
      "source": [
        "print(fail_to_recommend(50 , uid = 5))\n",
        "print(\"The length of failure set is %d \" % len(fail_to_recommend(50 , uid = 5)))"
      ],
      "execution_count": 0,
      "outputs": [
        {
          "output_type": "stream",
          "text": [
            "{53, 194, 197, 200, 201, 202, 204, 205, 211, 212, 213, 214, 215, 216, 218, 219, 223, 224, 232, 233, 235, 236}\n",
            "The length of failure set is 22 \n"
          ],
          "name": "stdout"
        }
      ]
    },
    {
      "metadata": {
        "id": "WSyen8KosD5y",
        "colab_type": "code",
        "outputId": "7db2156d-d960-4fa8-f7c1-1656b703837c",
        "colab": {
          "base_uri": "https://localhost:8080/",
          "height": 51
        }
      },
      "cell_type": "code",
      "source": [
        "print(fail_to_recommend(50 , uid = 5))\n",
        "print(\"The length of failure set is %d \" % len(fail_to_recommend(50 , uid = 50)))"
      ],
      "execution_count": 0,
      "outputs": [
        {
          "output_type": "stream",
          "text": [
            "{53, 194, 197, 200, 201, 202, 204, 205, 211, 212, 213, 214, 215, 216, 218, 219, 223, 224, 232, 233, 235, 236}\n",
            "The length of failure set is 20 \n"
          ],
          "name": "stdout"
        }
      ]
    },
    {
      "metadata": {
        "id": "CIsAOgtWsLA3",
        "colab_type": "code",
        "outputId": "a7cf6579-7ad4-413f-8cd4-4d3db0f6ccb3",
        "colab": {
          "base_uri": "https://localhost:8080/",
          "height": 51
        }
      },
      "cell_type": "code",
      "source": [
        "print(fail_to_recommend(50 , uid = 100))\n",
        "print(\"The length of failure set is %d \" % len(fail_to_recommend(50 , uid = 100)))"
      ],
      "execution_count": 0,
      "outputs": [
        {
          "output_type": "stream",
          "text": [
            "{2580, 278, 1958, 171, 2606, 2607, 2608, 2609, 2610, 2611, 2612, 2613, 2614, 2615, 2488, 2616, 2490, 712, 215, 859, 1376, 1633, 2533, 1639}\n",
            "The length of failure set is 24 \n"
          ],
          "name": "stdout"
        }
      ]
    },
    {
      "metadata": {
        "id": "AUDvqMigtoLN",
        "colab_type": "code",
        "outputId": "75d7cc58-ab50-43b2-dfee-73e26c4e4d11",
        "colab": {
          "base_uri": "https://localhost:8080/",
          "height": 71
        }
      },
      "cell_type": "code",
      "source": [
        "print(fail_to_recommend(50 , uid = 1500))\n",
        "print(\"The length of failure set is %d \" % len(fail_to_recommend(50 , uid = 1200)))"
      ],
      "execution_count": 0,
      "outputs": [
        {
          "output_type": "stream",
          "text": [
            "{389, 6150, 9, 3466, 1422, 1295, 6544, 18, 1298, 10902, 1303, 3481, 156, 3613, 32, 3110, 172, 175, 15033, 15034, 13882, 1468, 15035, 15036, 15037, 15038, 15039, 15040, 15041, 15042, 15043, 10310, 9162, 715, 728, 2265, 9433, 1121, 7142, 6760, 7157, 2935, 12668}\n",
            "The length of failure set is 23 \n"
          ],
          "name": "stdout"
        }
      ]
    },
    {
      "metadata": {
        "id": "E8s377-UtMe5",
        "colab_type": "code",
        "outputId": "3f03b72f-a851-4da3-f26e-c45c075baa75",
        "colab": {
          "base_uri": "https://localhost:8080/",
          "height": 71
        }
      },
      "cell_type": "code",
      "source": [
        "print(fail_to_recommend(50 , uid = 1500))\n",
        "print(\"The length of failure set is %d \" % len(fail_to_recommend(50 , uid = 1500)))"
      ],
      "execution_count": 0,
      "outputs": [
        {
          "output_type": "stream",
          "text": [
            "{389, 6150, 9, 3466, 1422, 1295, 6544, 18, 1298, 10902, 1303, 3481, 156, 3613, 32, 3110, 172, 175, 15033, 15034, 13882, 1468, 15035, 15036, 15037, 15038, 15039, 15040, 15041, 15042, 15043, 10310, 9162, 715, 728, 2265, 9433, 1121, 7142, 6760, 7157, 2935, 12668}\n",
            "The length of failure set is 43 \n"
          ],
          "name": "stdout"
        }
      ]
    },
    {
      "metadata": {
        "id": "40KoU9QktgfO",
        "colab_type": "code",
        "outputId": "6ad33a48-d166-4bfe-d66a-f9619a2f5cfe",
        "colab": {
          "base_uri": "https://localhost:8080/",
          "height": 71
        }
      },
      "cell_type": "code",
      "source": [
        "print(fail_to_recommend(50 , uid = 1800))\n",
        "print(\"The length of failure set is %d \" % len(fail_to_recommend(50 , uid = 1800)))"
      ],
      "execution_count": 0,
      "outputs": [
        {
          "output_type": "stream",
          "text": [
            "{6785, 13187, 1029, 6547, 3868, 5149, 5534, 298, 174, 1326, 4024, 4025, 11194, 4036, 4038, 968, 10703, 5072, 8144, 2130, 8784, 16725, 16726, 16727, 16728, 16729, 5978, 16730, 16731, 16732, 6878, 16733, 16734, 16735, 16736, 16737, 16738, 16739, 1020, 1405}\n",
            "The length of failure set is 40 \n"
          ],
          "name": "stdout"
        }
      ]
    }
  ]
}